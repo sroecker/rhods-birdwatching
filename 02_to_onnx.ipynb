{
 "cells": [
  {
   "cell_type": "markdown",
   "metadata": {},
   "source": [
    "Exporting FastAI ResNet model to ONNX is a 2 step process - there's no native FastAI to ONNX export. Since, FastAI is a high-level API built on top of PyTorch - first we need to extract the PyTorch model. Only after that it's possible to get our ONNX model. Couple of things must be considered which I'll talk about and show later.\n",
    "\n",
    "Steps to be taken:\n",
    "\n",
    "1. Extract PyTorch model from FastAI\n",
    "2. Convert PyTorch model to ONNX"
   ]
  },
  {
   "cell_type": "code",
   "execution_count": 1,
   "metadata": {},
   "outputs": [],
   "source": [
    "from fastai.vision.all import *"
   ]
  },
  {
   "cell_type": "code",
   "execution_count": 2,
   "metadata": {},
   "outputs": [],
   "source": [
    "# load FastAI learner\n",
    "learn = load_learner('models/birds-res34-fast2.pkl')"
   ]
  },
  {
   "cell_type": "markdown",
   "metadata": {},
   "source": [
    "## Test inference with FastAI learner"
   ]
  },
  {
   "cell_type": "code",
   "execution_count": 3,
   "metadata": {},
   "outputs": [
    {
     "data": {
      "text/html": [
       "\n",
       "<style>\n",
       "    /* Turns off some styling */\n",
       "    progress {\n",
       "        /* gets rid of default border in Firefox and Opera. */\n",
       "        border: none;\n",
       "        /* Needs to be in here for Safari polyfill so background images work as expected. */\n",
       "        background-size: auto;\n",
       "    }\n",
       "    progress:not([value]), progress:not([value])::-webkit-progress-bar {\n",
       "        background: repeating-linear-gradient(45deg, #7e7e7e, #7e7e7e 10px, #5c5c5c 10px, #5c5c5c 20px);\n",
       "    }\n",
       "    .progress-bar-interrupted, .progress-bar-interrupted::-webkit-progress-bar {\n",
       "        background: #F44336;\n",
       "    }\n",
       "</style>\n"
      ],
      "text/plain": [
       "<IPython.core.display.HTML object>"
      ]
     },
     "metadata": {},
     "output_type": "display_data"
    },
    {
     "data": {
      "text/html": [],
      "text/plain": [
       "<IPython.core.display.HTML object>"
      ]
     },
     "metadata": {},
     "output_type": "display_data"
    },
    {
     "name": "stdout",
     "output_type": "stream",
     "text": [
      "('ROADRUNNER', tensor(422), tensor([6.5983e-14, 2.2859e-13, 5.9723e-12, 7.7789e-13, 1.5575e-12, 3.2188e-14,\n",
      "        7.9489e-15, 1.3908e-10, 3.5392e-16, 8.0554e-15, 8.7294e-14, 4.9873e-14,\n",
      "        1.5486e-14, 1.5034e-12, 9.4583e-14, 6.2127e-13, 6.7510e-15, 4.8466e-15,\n",
      "        7.4699e-15, 5.3998e-14, 7.7535e-16, 1.0335e-11, 2.3246e-13, 1.1478e-13,\n",
      "        4.0351e-14, 4.7952e-15, 1.2747e-14, 3.7469e-14, 4.8960e-13, 2.5345e-11,\n",
      "        2.9240e-15, 1.8969e-16, 3.9972e-11, 3.6214e-14, 2.6427e-15, 2.2619e-13,\n",
      "        6.9356e-12, 9.2867e-16, 8.5566e-13, 1.8381e-14, 5.1385e-15, 2.0151e-13,\n",
      "        1.2745e-13, 5.1696e-11, 4.9146e-10, 4.1472e-11, 2.5322e-13, 1.6292e-14,\n",
      "        1.3606e-11, 1.6115e-14, 9.0644e-17, 9.7111e-14, 1.5005e-13, 3.6555e-15,\n",
      "        9.6599e-13, 3.9306e-13, 8.2510e-12, 2.9404e-15, 2.1990e-09, 1.0551e-13,\n",
      "        3.6785e-14, 4.3111e-15, 9.5979e-11, 2.9967e-15, 7.0435e-12, 2.3685e-10,\n",
      "        8.6018e-13, 4.7681e-13, 2.7982e-12, 8.5201e-12, 1.5925e-15, 1.1203e-12,\n",
      "        5.5440e-14, 9.0330e-13, 9.7582e-14, 1.5968e-14, 4.5610e-15, 9.4590e-14,\n",
      "        5.7754e-09, 2.9837e-12, 5.7143e-13, 1.8341e-11, 1.3531e-14, 1.0480e-14,\n",
      "        2.5492e-15, 7.3791e-13, 4.6752e-13, 2.8321e-13, 3.8579e-12, 3.6630e-14,\n",
      "        7.5566e-12, 5.9750e-13, 5.5508e-15, 5.9387e-14, 4.8978e-12, 5.4592e-15,\n",
      "        4.3680e-15, 7.2878e-13, 2.0741e-15, 2.1466e-13, 1.6715e-14, 9.7329e-13,\n",
      "        1.0525e-13, 1.4200e-15, 1.3111e-13, 7.5414e-15, 1.4313e-13, 1.6479e-13,\n",
      "        8.9043e-13, 2.1899e-15, 3.4422e-12, 6.0268e-17, 1.8808e-15, 9.8652e-10,\n",
      "        2.6088e-13, 2.3272e-15, 1.4311e-10, 8.6435e-14, 1.5267e-11, 4.2603e-11,\n",
      "        1.6707e-10, 6.4367e-15, 5.2488e-14, 1.0883e-11, 1.5138e-12, 5.6542e-15,\n",
      "        1.3388e-14, 1.7288e-13, 2.8166e-11, 4.2301e-15, 9.7316e-13, 1.3212e-13,\n",
      "        4.0401e-16, 2.8719e-10, 5.5198e-11, 5.9604e-13, 1.4424e-13, 6.0115e-15,\n",
      "        1.1683e-11, 1.1248e-12, 9.8220e-16, 6.0912e-10, 3.5530e-13, 1.9573e-10,\n",
      "        1.8080e-14, 1.1703e-13, 2.7678e-13, 9.5690e-12, 6.9575e-14, 4.4808e-13,\n",
      "        1.9512e-12, 3.7674e-15, 9.8848e-13, 2.3375e-13, 5.7636e-15, 1.1797e-10,\n",
      "        3.2519e-15, 8.9069e-15, 1.8115e-11, 1.1926e-11, 1.5114e-12, 1.1147e-11,\n",
      "        1.0235e-11, 6.2276e-16, 2.4007e-11, 7.9970e-11, 1.0194e-15, 4.0861e-14,\n",
      "        8.2878e-14, 8.2179e-13, 5.3811e-12, 3.6651e-12, 2.6161e-09, 2.5854e-15,\n",
      "        7.2708e-15, 1.1499e-13, 4.9737e-13, 2.2720e-13, 1.9263e-13, 1.1905e-11,\n",
      "        1.1830e-13, 1.4877e-13, 5.0271e-13, 2.7040e-11, 1.2945e-09, 8.0866e-14,\n",
      "        6.7052e-14, 1.7961e-13, 1.0172e-13, 3.2470e-13, 1.0238e-13, 1.0857e-12,\n",
      "        2.8772e-14, 3.8353e-14, 5.2768e-14, 3.3053e-14, 8.0002e-12, 8.1833e-12,\n",
      "        1.0857e-13, 2.0431e-14, 3.5604e-13, 3.0790e-12, 2.1226e-13, 1.7369e-12,\n",
      "        1.5447e-15, 9.2852e-13, 5.0526e-13, 1.9703e-14, 8.4217e-14, 3.5990e-12,\n",
      "        3.2556e-15, 4.2646e-13, 1.0712e-12, 7.3672e-15, 7.8769e-14, 5.7484e-14,\n",
      "        6.2234e-11, 3.1784e-15, 1.6558e-13, 2.9646e-15, 7.8423e-15, 3.4603e-10,\n",
      "        2.6434e-11, 1.1486e-12, 1.3196e-10, 1.1560e-11, 1.3760e-13, 3.0262e-13,\n",
      "        4.1900e-12, 4.2257e-12, 9.6228e-12, 6.8334e-12, 1.9663e-16, 1.4362e-11,\n",
      "        6.5783e-16, 1.1521e-13, 3.9868e-14, 1.0787e-13, 1.2583e-11, 1.0784e-15,\n",
      "        3.3437e-12, 6.1851e-14, 1.1186e-12, 3.4295e-15, 4.9701e-14, 4.9450e-12,\n",
      "        7.5843e-13, 2.0882e-13, 3.4012e-12, 1.8443e-14, 1.2515e-11, 1.2246e-14,\n",
      "        5.4249e-14, 1.2381e-14, 8.8039e-13, 1.1644e-13, 2.0198e-15, 6.6331e-13,\n",
      "        9.0389e-15, 5.6705e-13, 3.7738e-10, 2.6867e-12, 1.3354e-13, 1.0193e-13,\n",
      "        1.9970e-12, 5.3539e-16, 8.9835e-14, 1.7570e-11, 1.3936e-13, 1.3192e-11,\n",
      "        1.3643e-12, 2.0083e-14, 5.4383e-13, 1.3349e-12, 1.4287e-13, 1.8327e-13,\n",
      "        6.3658e-16, 6.7959e-13, 9.6744e-15, 1.3282e-12, 1.6614e-14, 4.5705e-14,\n",
      "        2.9485e-13, 6.7467e-14, 4.3236e-12, 3.3381e-10, 8.8280e-13, 2.8566e-13,\n",
      "        4.0921e-14, 2.9221e-13, 1.3790e-12, 1.2820e-14, 2.8548e-14, 1.7035e-14,\n",
      "        8.4690e-11, 6.5653e-14, 6.1471e-11, 2.6851e-14, 4.2542e-11, 3.8332e-12,\n",
      "        1.9242e-12, 1.1718e-13, 1.4719e-14, 2.5219e-13, 8.5168e-14, 1.7887e-14,\n",
      "        8.9377e-13, 2.5331e-14, 3.8179e-12, 1.6089e-14, 1.0839e-14, 4.6071e-15,\n",
      "        1.1888e-14, 1.8697e-14, 1.2653e-13, 9.9905e-15, 2.6736e-15, 1.4685e-12,\n",
      "        2.7773e-15, 2.0077e-11, 9.0351e-12, 6.3310e-12, 7.8482e-14, 8.4166e-14,\n",
      "        6.8471e-12, 2.4810e-14, 1.1386e-11, 3.6296e-16, 4.1253e-09, 1.8425e-12,\n",
      "        7.2110e-13, 1.8566e-12, 1.6733e-13, 3.1490e-15, 3.9561e-13, 7.1355e-14,\n",
      "        9.4298e-11, 3.6076e-13, 5.6030e-13, 3.5756e-10, 1.8217e-13, 4.1003e-13,\n",
      "        1.1901e-12, 1.3293e-11, 7.6050e-15, 4.2880e-13, 9.7263e-16, 1.4031e-11,\n",
      "        4.7770e-14, 1.6595e-15, 1.3417e-15, 4.9757e-12, 2.7276e-14, 1.2748e-12,\n",
      "        2.7414e-11, 7.2218e-12, 2.7794e-14, 4.6592e-17, 2.8800e-12, 1.2196e-10,\n",
      "        1.0625e-13, 3.9670e-10, 1.6121e-14, 3.4943e-12, 9.9722e-14, 2.0921e-15,\n",
      "        1.3352e-14, 8.6510e-13, 7.0617e-13, 2.7575e-12, 6.2517e-15, 6.6328e-14,\n",
      "        2.4224e-13, 4.0632e-12, 4.8389e-14, 1.4244e-11, 1.3327e-11, 6.4842e-15,\n",
      "        1.9212e-14, 1.4594e-14, 4.0483e-15, 3.0692e-13, 2.6732e-12, 2.0573e-13,\n",
      "        3.8410e-13, 3.8842e-13, 4.1326e-13, 3.8696e-12, 1.1209e-13, 1.0264e-10,\n",
      "        2.0238e-13, 1.2826e-14, 4.5969e-13, 1.7336e-14, 6.1391e-15, 6.5201e-13,\n",
      "        1.0885e-15, 8.3710e-13, 4.1635e-14, 1.2939e-13, 2.8757e-11, 1.2987e-13,\n",
      "        4.8357e-15, 1.2687e-13, 2.4128e-13, 4.1628e-15, 3.1196e-16, 3.4922e-14,\n",
      "        2.0495e-11, 4.3028e-14, 8.0252e-15, 2.3181e-12, 4.2645e-14, 2.2204e-14,\n",
      "        4.7265e-13, 1.4350e-13, 3.5093e-14, 8.7666e-14, 1.1504e-12, 1.0921e-11,\n",
      "        1.7235e-13, 1.1365e-11, 1.0000e+00, 9.7227e-14, 1.3498e-14, 3.6758e-12,\n",
      "        1.2292e-15, 3.7252e-16, 9.6634e-13, 2.9251e-13, 6.7003e-15, 5.5995e-11,\n",
      "        4.4882e-14, 7.3076e-13, 1.2265e-11, 3.5023e-12, 1.5878e-13, 1.2408e-15,\n",
      "        6.3314e-13, 2.9317e-15, 8.9980e-13, 3.0177e-11, 1.2650e-15, 1.6735e-12,\n",
      "        8.6473e-14, 8.5314e-15, 1.0342e-13, 6.2273e-14, 7.0714e-13, 7.7355e-12,\n",
      "        1.0761e-14, 8.4522e-13, 5.6768e-14, 5.6885e-14, 1.4894e-14, 3.1573e-13,\n",
      "        5.5788e-13, 7.3539e-13, 4.5689e-12, 2.5879e-13, 2.2953e-13, 1.1761e-12,\n",
      "        4.6006e-12, 1.7006e-12, 1.5554e-14, 6.8813e-14, 1.0679e-11, 1.4734e-13,\n",
      "        9.5285e-15, 4.5270e-12, 2.5291e-13, 4.2756e-13, 2.7304e-16, 1.0986e-11,\n",
      "        2.2500e-12, 3.8759e-12, 2.1925e-16, 4.4306e-15, 3.7014e-13, 8.4192e-15,\n",
      "        2.7147e-12, 7.4987e-14, 3.3944e-14, 3.0001e-13, 3.1101e-13, 1.2719e-11,\n",
      "        7.3624e-15, 4.8344e-14, 1.5141e-13, 5.0416e-13, 1.8164e-12, 2.0888e-14,\n",
      "        1.5546e-12, 1.7871e-14, 9.4217e-14, 2.2572e-14, 5.1297e-10, 6.9532e-14,\n",
      "        3.8191e-15, 1.4494e-15, 5.5802e-14, 1.1397e-12, 7.4733e-14, 1.5343e-10,\n",
      "        5.3353e-11, 5.5805e-10, 1.6496e-14, 1.9106e-13, 8.1403e-14, 7.8077e-15,\n",
      "        2.6208e-13, 9.2190e-15, 2.1844e-12, 1.2161e-14, 1.5956e-15, 1.0542e-12,\n",
      "        6.1758e-14, 1.2342e-12, 1.1294e-12, 5.9868e-15, 2.3762e-12, 3.3040e-14,\n",
      "        3.8402e-09, 2.1567e-15, 8.4140e-15, 4.5226e-13]))\n"
     ]
    }
   ],
   "source": [
    "# roadrunner\n",
    "print(learn.predict('test.jpg'))"
   ]
  },
  {
   "cell_type": "markdown",
   "metadata": {},
   "source": [
    "## 1. Getting the PyTorch model\n",
    "\n",
    "By using .model attribute on the FastAI learner we get the 'pure' PyTorch model. By using eval() we are setting the model to 'prediction' mode - backward propagation is disabled.\n",
    "\n",
    "#### Note:\n",
    "FastAI learner wraps the PyTorch model with additional operations defined in `DataBlock` in this case we defined a `Resize` operation. By default, FastAI learner also includes a softmax layer and a normalization layer.\n",
    "\n",
    "### What does this mean ?\n",
    "If we run `learn.predict('path/to/image')` our FastAI learner resizes the image to the size defined in our `DataBlock`, normalizes the color channels, passes the image through the neural net, scales the inference results between 0-1.\n",
    "\n",
    "If we'd try to run inference on a PyTorch model extracted from a FastAI wrapper it would fail (most likely) as the image has an incorrect resolution. That's why we need to add transformations to a PyTorch models before inference."
   ]
  },
  {
   "cell_type": "code",
   "execution_count": 4,
   "metadata": {},
   "outputs": [
    {
     "data": {
      "text/plain": [
       "(#2) [[noop:\n",
       "encodes: (object,object) -> noopdecodes: , PILBase.create:\n",
       "encodes: (Path,object) -> create\n",
       "(str,object) -> create\n",
       "(Tensor,object) -> create\n",
       "(ndarray,object) -> create\n",
       "(bytes,object) -> create\n",
       "(Image,object) -> createdecodes: ],parent_label:\n",
       "encodes: (object,object) -> parent_labeldecodes: ]"
      ]
     },
     "execution_count": 4,
     "metadata": {},
     "output_type": "execute_result"
    }
   ],
   "source": [
    "# transformations performed on data loaders\n",
    "learn.dls.transform"
   ]
  },
  {
   "cell_type": "code",
   "execution_count": 5,
   "metadata": {},
   "outputs": [
    {
     "data": {
      "text/plain": [
       "['ABBOTTS BABBLER', 'ABBOTTS BOOBY', 'ABYSSINIAN GROUND HORNBILL', 'AFRICAN CROWNED CRANE', 'AFRICAN EMERALD CUCKOO', 'AFRICAN FIREFINCH', 'AFRICAN OYSTER CATCHER', 'AFRICAN PIED HORNBILL', 'AFRICAN PYGMY GOOSE', 'ALBATROSS', 'ALBERTS TOWHEE', 'ALEXANDRINE PARAKEET', 'ALPINE CHOUGH', 'ALTAMIRA YELLOWTHROAT', 'AMERICAN AVOCET', 'AMERICAN BITTERN', 'AMERICAN COOT', 'AMERICAN DIPPER', 'AMERICAN FLAMINGO', 'AMERICAN GOLDFINCH', 'AMERICAN KESTREL', 'AMERICAN PIPIT', 'AMERICAN REDSTART', 'AMERICAN ROBIN', 'AMERICAN WIGEON', 'AMETHYST WOODSTAR', 'ANDEAN GOOSE', 'ANDEAN LAPWING', 'ANDEAN SISKIN', 'ANHINGA', 'ANIANIAU', 'ANNAS HUMMINGBIRD', 'ANTBIRD', 'ANTILLEAN EUPHONIA', 'APAPANE', 'APOSTLEBIRD', 'ARARIPE MANAKIN', 'ASHY STORM PETREL', 'ASHY THRUSHBIRD', 'ASIAN CRESTED IBIS', 'ASIAN DOLLARD BIRD', 'ASIAN GREEN BEE EATER', 'ASIAN OPENBILL STORK', 'AUCKLAND SHAQ', 'AUSTRAL CANASTERO', 'AUSTRALASIAN FIGBIRD', 'AVADAVAT', 'AZARAS SPINETAIL', 'AZURE BREASTED PITTA', 'AZURE JAY', 'AZURE TANAGER', 'AZURE TIT', 'BAIKAL TEAL', 'BALD EAGLE', 'BALD IBIS', 'BALI STARLING', 'BALTIMORE ORIOLE', 'BANANAQUIT', 'BAND TAILED GUAN', 'BANDED BROADBILL', 'BANDED PITA', 'BANDED STILT', 'BAR-TAILED GODWIT', 'BARN OWL', 'BARN SWALLOW', 'BARRED PUFFBIRD', 'BARROWS GOLDENEYE', 'BAY-BREASTED WARBLER', 'BEARDED BARBET', 'BEARDED BELLBIRD', 'BEARDED REEDLING', 'BELTED KINGFISHER', 'BIRD OF PARADISE', 'BLACK AND YELLOW BROADBILL', 'BLACK BAZA', 'BLACK BREASTED PUFFBIRD', 'BLACK COCKATO', 'BLACK FACED SPOONBILL', 'BLACK FRANCOLIN', 'BLACK HEADED CAIQUE', 'BLACK NECKED STILT', 'BLACK SKIMMER', 'BLACK SWAN', 'BLACK TAIL CRAKE', 'BLACK THROATED BUSHTIT', 'BLACK THROATED HUET', 'BLACK THROATED WARBLER', 'BLACK VENTED SHEARWATER', 'BLACK VULTURE', 'BLACK-CAPPED CHICKADEE', 'BLACK-NECKED GREBE', 'BLACK-THROATED SPARROW', 'BLACKBURNIAM WARBLER', 'BLONDE CRESTED WOODPECKER', 'BLOOD PHEASANT', 'BLUE COAU', 'BLUE DACNIS', 'BLUE GRAY GNATCATCHER', 'BLUE GROSBEAK', 'BLUE GROUSE', 'BLUE HERON', 'BLUE MALKOHA', 'BLUE THROATED PIPING GUAN', 'BLUE THROATED TOUCANET', 'BOBOLINK', 'BORNEAN BRISTLEHEAD', 'BORNEAN LEAFBIRD', 'BORNEAN PHEASANT', 'BRANDT CORMARANT', 'BREWERS BLACKBIRD', 'BROWN CREPPER', 'BROWN HEADED COWBIRD', 'BROWN NOODY', 'BROWN THRASHER', 'BUFFLEHEAD', 'BULWERS PHEASANT', 'BURCHELLS COURSER', 'BUSH TURKEY', 'CAATINGA CACHOLOTE', 'CABOTS TRAGOPAN', 'CACTUS WREN', 'CALIFORNIA CONDOR', 'CALIFORNIA GULL', 'CALIFORNIA QUAIL', 'CAMPO FLICKER', 'CANARY', 'CANVASBACK', 'CAPE GLOSSY STARLING', 'CAPE LONGCLAW', 'CAPE MAY WARBLER', 'CAPE ROCK THRUSH', 'CAPPED HERON', 'CAPUCHINBIRD', 'CARMINE BEE-EATER', 'CASPIAN TERN', 'CASSOWARY', 'CEDAR WAXWING', 'CERULEAN WARBLER', 'CHARA DE COLLAR', 'CHATTERING LORY', 'CHESTNET BELLIED EUPHONIA', 'CHESTNUT WINGED CUCKOO', 'CHINESE BAMBOO PARTRIDGE', 'CHINESE POND HERON', 'CHIPPING SPARROW', 'CHUCAO TAPACULO', 'CHUKAR PARTRIDGE', 'CINNAMON ATTILA', 'CINNAMON FLYCATCHER', 'CINNAMON TEAL', 'CLARKS GREBE', 'CLARKS NUTCRACKER', 'COCK OF THE  ROCK', 'COCKATOO', 'COLLARED ARACARI', 'COLLARED CRESCENTCHEST', 'COMMON FIRECREST', 'COMMON GRACKLE', 'COMMON HOUSE MARTIN', 'COMMON IORA', 'COMMON LOON', 'COMMON POORWILL', 'COMMON STARLING', 'COPPERSMITH BARBET', 'COPPERY TAILED COUCAL', 'CRAB PLOVER', 'CRANE HAWK', 'CREAM COLORED WOODPECKER', 'CRESTED AUKLET', 'CRESTED CARACARA', 'CRESTED COUA', 'CRESTED FIREBACK', 'CRESTED KINGFISHER', 'CRESTED NUTHATCH', 'CRESTED OROPENDOLA', 'CRESTED SERPENT EAGLE', 'CRESTED SHRIKETIT', 'CRESTED WOOD PARTRIDGE', 'CRIMSON CHAT', 'CRIMSON SUNBIRD', 'CROW', 'CUBAN TODY', 'CUBAN TROGON', 'CURL CRESTED ARACURI', 'D-ARNAUDS BARBET', 'DALMATIAN PELICAN', 'DARJEELING WOODPECKER', 'DARK EYED JUNCO', 'DAURIAN REDSTART', 'DEMOISELLE CRANE', 'DOUBLE BARRED FINCH', 'DOUBLE BRESTED CORMARANT', 'DOUBLE EYED FIG PARROT', 'DOWNY WOODPECKER', 'DUNLIN', 'DUSKY LORY', 'DUSKY ROBIN', 'EARED PITA', 'EASTERN BLUEBIRD', 'EASTERN BLUEBONNET', 'EASTERN GOLDEN WEAVER', 'EASTERN MEADOWLARK', 'EASTERN ROSELLA', 'EASTERN TOWEE', 'EASTERN WIP POOR WILL', 'EASTERN YELLOW ROBIN', 'ECUADORIAN HILLSTAR', 'EGYPTIAN GOOSE', 'ELEGANT TROGON', 'ELLIOTS  PHEASANT', 'EMERALD TANAGER', 'EMPEROR PENGUIN', 'EMU', 'ENGGANO MYNA', 'EURASIAN BULLFINCH', 'EURASIAN GOLDEN ORIOLE', 'EURASIAN MAGPIE', 'EUROPEAN GOLDFINCH', 'EUROPEAN TURTLE DOVE', 'EVENING GROSBEAK', 'FAIRY BLUEBIRD', 'FAIRY PENGUIN', 'FAIRY TERN', 'FAN TAILED WIDOW', 'FASCIATED WREN', 'FIERY MINIVET', 'FIORDLAND PENGUIN', 'FIRE TAILLED MYZORNIS', 'FLAME BOWERBIRD', 'FLAME TANAGER', 'FOREST WAGTAIL', 'FRIGATE', 'FRILL BACK PIGEON', 'GAMBELS QUAIL', 'GANG GANG COCKATOO', 'GILA WOODPECKER', 'GILDED FLICKER', 'GLOSSY IBIS', 'GO AWAY BIRD', 'GOLD WING WARBLER', 'GOLDEN BOWER BIRD', 'GOLDEN CHEEKED WARBLER', 'GOLDEN CHLOROPHONIA', 'GOLDEN EAGLE', 'GOLDEN PARAKEET', 'GOLDEN PHEASANT', 'GOLDEN PIPIT', 'GOULDIAN FINCH', 'GRANDALA', 'GRAY CATBIRD', 'GRAY KINGBIRD', 'GRAY PARTRIDGE', 'GREAT ARGUS', 'GREAT GRAY OWL', 'GREAT JACAMAR', 'GREAT KISKADEE', 'GREAT POTOO', 'GREAT TINAMOU', 'GREAT XENOPS', 'GREATER PEWEE', 'GREATER PRAIRIE CHICKEN', 'GREATOR SAGE GROUSE', 'GREEN BROADBILL', 'GREEN JAY', 'GREEN MAGPIE', 'GREEN WINGED DOVE', 'GREY CUCKOOSHRIKE', 'GREY HEADED CHACHALACA', 'GREY HEADED FISH EAGLE', 'GREY PLOVER', 'GROVED BILLED ANI', 'GUINEA TURACO', 'GUINEAFOWL', 'GURNEYS PITTA', 'GYRFALCON', 'HAMERKOP', 'HARLEQUIN DUCK', 'HARLEQUIN QUAIL', 'HARPY EAGLE', 'HAWAIIAN GOOSE', 'HAWFINCH', 'HELMET VANGA', 'HEPATIC TANAGER', 'HIMALAYAN BLUETAIL', 'HIMALAYAN MONAL', 'HOATZIN', 'HOODED MERGANSER', 'HOOPOES', 'HORNED GUAN', 'HORNED LARK', 'HORNED SUNGEM', 'HOUSE FINCH', 'HOUSE SPARROW', 'HYACINTH MACAW', 'IBERIAN MAGPIE', 'IBISBILL', 'IMPERIAL SHAQ', 'INCA TERN', 'INDIAN BUSTARD', 'INDIAN PITTA', 'INDIAN ROLLER', 'INDIAN VULTURE', 'INDIGO BUNTING', 'INDIGO FLYCATCHER', 'INLAND DOTTEREL', 'IVORY BILLED ARACARI', 'IVORY GULL', 'IWI', 'JABIRU', 'JACK SNIPE', 'JACOBIN PIGEON', 'JANDAYA PARAKEET', 'JAPANESE ROBIN', 'JAVA SPARROW', 'JOCOTOCO ANTPITTA', 'KAGU', 'KAKAPO', 'KILLDEAR', 'KING EIDER', 'KING VULTURE', 'KIWI', 'KNOB BILLED DUCK', 'KOOKABURRA', 'LARK BUNTING', 'LAUGHING GULL', 'LAZULI BUNTING', 'LESSER ADJUTANT', 'LILAC ROLLER', 'LIMPKIN', 'LITTLE AUK', 'LOGGERHEAD SHRIKE', 'LONG-EARED OWL', 'LOONEY BIRDS', 'LUCIFER HUMMINGBIRD', 'MAGPIE GOOSE', 'MALABAR HORNBILL', 'MALACHITE KINGFISHER', 'MALAGASY WHITE EYE', 'MALEO', 'MALLARD DUCK', 'MANDRIN DUCK', 'MANGROVE CUCKOO', 'MARABOU STORK', 'MASKED BOBWHITE', 'MASKED BOOBY', 'MASKED LAPWING', 'MCKAYS BUNTING', 'MERLIN', 'MIKADO  PHEASANT', 'MILITARY MACAW', 'MOURNING DOVE', 'MYNA', 'NICOBAR PIGEON', 'NOISY FRIARBIRD', 'NORTHERN BEARDLESS TYRANNULET', 'NORTHERN CARDINAL', 'NORTHERN FLICKER', 'NORTHERN FULMAR', 'NORTHERN GANNET', 'NORTHERN GOSHAWK', 'NORTHERN JACANA', 'NORTHERN MOCKINGBIRD', 'NORTHERN PARULA', 'NORTHERN RED BISHOP', 'NORTHERN SHOVELER', 'OCELLATED TURKEY', 'OILBIRD', 'OKINAWA RAIL', 'ORANGE BREASTED TROGON', 'ORANGE BRESTED BUNTING', 'ORIENTAL BAY OWL', 'ORNATE HAWK EAGLE', 'OSPREY', 'OSTRICH', 'OVENBIRD', 'OYSTER CATCHER', 'PAINTED BUNTING', 'PALILA', 'PALM NUT VULTURE', 'PARADISE TANAGER', 'PARAKETT  AUKLET', 'PARAKETT AUKLET', 'PARUS MAJOR', 'PATAGONIAN SIERRA FINCH', 'PEACOCK', 'PEREGRINE FALCON', 'PHAINOPEPLA', 'PHILIPPINE EAGLE', 'PINK ROBIN', 'PLUSH CRESTED JAY', 'POMARINE JAEGER', 'PUFFIN', 'PUNA TEAL', 'PURPLE FINCH', 'PURPLE GALLINULE', 'PURPLE MARTIN', 'PURPLE SWAMPHEN', 'PYGMY KINGFISHER', 'PYRRHULOXIA', 'QUETZAL', 'RAINBOW LORIKEET', 'RAZORBILL', 'RED BEARDED BEE EATER', 'RED BELLIED PITTA', 'RED BILLED TROPICBIRD', 'RED BROWED FINCH', 'RED CROSSBILL', 'RED FACED CORMORANT', 'RED FACED WARBLER', 'RED FODY', 'RED HEADED DUCK', 'RED HEADED WOODPECKER', 'RED KNOT', 'RED LEGGED HONEYCREEPER', 'RED NAPED TROGON', 'RED SHOULDERED HAWK', 'RED TAILED HAWK', 'RED TAILED THRUSH', 'RED WINGED BLACKBIRD', 'RED WISKERED BULBUL', 'REGENT BOWERBIRD', 'RING-NECKED PHEASANT', 'ROADRUNNER', 'ROCK DOVE', 'ROSE BREASTED COCKATOO', 'ROSE BREASTED GROSBEAK', 'ROSEATE SPOONBILL', 'ROSY FACED LOVEBIRD', 'ROUGH LEG BUZZARD', 'ROYAL FLYCATCHER', 'RUBY CROWNED KINGLET', 'RUBY THROATED HUMMINGBIRD', 'RUDDY SHELDUCK', 'RUDY KINGFISHER', 'RUFOUS KINGFISHER', 'RUFOUS TREPE', 'RUFUOS MOTMOT', 'SAMATRAN THRUSH', 'SAND MARTIN', 'SANDHILL CRANE', 'SATYR TRAGOPAN', 'SAYS PHOEBE', 'SCARLET CROWNED FRUIT DOVE', 'SCARLET FACED LIOCICHLA', 'SCARLET IBIS', 'SCARLET MACAW', 'SCARLET TANAGER', 'SHOEBILL', 'SHORT BILLED DOWITCHER', 'SMITHS LONGSPUR', 'SNOW GOOSE', 'SNOW PARTRIDGE', 'SNOWY EGRET', 'SNOWY OWL', 'SNOWY PLOVER', 'SNOWY SHEATHBILL', 'SORA', 'SPANGLED COTINGA', 'SPLENDID WREN', 'SPOON BILED SANDPIPER', 'SPOTTED CATBIRD', 'SPOTTED WHISTLING DUCK', 'SQUACCO HERON', 'SRI LANKA BLUE MAGPIE', 'STEAMER DUCK', 'STORK BILLED KINGFISHER', 'STRIATED CARACARA', 'STRIPED OWL', 'STRIPPED MANAKIN', 'STRIPPED SWALLOW', 'SUNBITTERN', 'SUPERB STARLING', 'SURF SCOTER', 'SWINHOES PHEASANT', 'TAILORBIRD', 'TAIWAN MAGPIE', 'TAKAHE', 'TASMANIAN HEN', 'TAWNY FROGMOUTH', 'TEAL DUCK', 'TIT MOUSE', 'TOUCHAN', 'TOWNSENDS WARBLER', 'TREE SWALLOW', 'TRICOLORED BLACKBIRD', 'TROPICAL KINGBIRD', 'TRUMPTER SWAN', 'TURKEY VULTURE', 'TURQUOISE MOTMOT', 'UMBRELLA BIRD', 'VARIED THRUSH', 'VEERY', 'VENEZUELIAN TROUPIAL', 'VERDIN', 'VERMILION FLYCATHER', 'VICTORIA CROWNED PIGEON', 'VIOLET BACKED STARLING', 'VIOLET CUCKOO', 'VIOLET GREEN SWALLOW', 'VIOLET TURACO', 'VISAYAN HORNBILL', 'VULTURINE GUINEAFOWL', 'WALL CREAPER', 'WATTLED CURASSOW', 'WATTLED LAPWING', 'WHIMBREL', 'WHITE BREASTED WATERHEN', 'WHITE BROWED CRAKE', 'WHITE CHEEKED TURACO', 'WHITE CRESTED HORNBILL', 'WHITE EARED HUMMINGBIRD', 'WHITE NECKED RAVEN', 'WHITE TAILED TROPIC', 'WHITE THROATED BEE EATER', 'WILD TURKEY', 'WILLOW PTARMIGAN', 'WILSONS BIRD OF PARADISE', 'WOOD DUCK', 'WOOD THRUSH', 'WOODLAND KINGFISHER', 'WRENTIT', 'YELLOW BELLIED FLOWERPECKER', 'YELLOW BREASTED CHAT', 'YELLOW CACIQUE', 'YELLOW HEADED BLACKBIRD', 'ZEBRA DOVE']"
      ]
     },
     "execution_count": 5,
     "metadata": {},
     "output_type": "execute_result"
    }
   ],
   "source": [
    "# extract labels from learner\n",
    "labels = learn.dls.vocab\n",
    "labels"
   ]
  },
  {
   "cell_type": "markdown",
   "metadata": {},
   "source": [
    "### Let's add the missing parts to our Pytorch model\n",
    "\n",
    "As mentioned previously, FastAI learner wraps out PyTorch model. We are adding 2 additional layers to the models to achieve the same results as the FastAI learner. \n",
    "\n",
    "### Why can't we just export the learner to ONNX?\n",
    "AFAIK FastAI currently doesn't support ONNX exports. We need to extract the PyTorch model as an intermediary step before we can convert it to ONNX. \n",
    "\n",
    "--------\n",
    "\n",
    "### Additional layers:\n",
    "\n",
    "#### Normalization layer\n",
    "First we need to add a normalization layer. Pre-trained PyTorch models are trained on the ImageNet dataset for which the following normalization variables are suggested `mean=[0.485, 0.456, 0.406]`, `std=[0.229, 0.224, 0.225]`. Source: https://pytorch.org/vision/stable/models.html. Normalization is ought to increase model performance.\n",
    "\n",
    "\n",
    "#### Softmax layer\n",
    "By adding a softmax layer at the end of our final model definition we are making a our results 'human readble'. As en example here's an inference result without the softmax layer `('not_hot_dog', array([[-3.0275817,  1.2424631]], dtype=float32))`. *Helpful? Not really imo.*\n",
    "\n",
    "Here's the inference with the added softmax layer: `('not_hot_dog', array([[0.01378838, 0.98621166]], dtype=float32))`."
   ]
  },
  {
   "cell_type": "code",
   "execution_count": 6,
   "metadata": {},
   "outputs": [],
   "source": [
    "import torch\n",
    "import torchvision\n",
    "import torchvision.transforms as transforms\n",
    "\n",
    "# https://pytorch.org/vision/stable/models.html\n",
    "\n",
    "pytorch_model = learn.model.eval() # gets the PyTorch model\n",
    "softmax_layer = torch.nn.Softmax(dim=1) # define softmax\n",
    "normalization_layer = torchvision.transforms.Normalize(mean=[0.485, 0.456, 0.406], std=[0.229, 0.224, 0.225]) # normalization layer\n",
    "\n",
    "# assembling the final model\n",
    "final_model = nn.Sequential(\n",
    "    normalization_layer,\n",
    "    pytorch_model,\n",
    "    softmax_layer\n",
    ")\n",
    "\n",
    "# Note: Image resizing will be handled separately\n"
   ]
  },
  {
   "cell_type": "code",
   "execution_count": 7,
   "metadata": {},
   "outputs": [],
   "source": [
    "# loading an image and converting to tensor\n",
    "from PIL import Image\n",
    "\n",
    "def image_transform(path: str, size: int) -> torch.Tensor:\n",
    "    '''Helper function to transform image.'''\n",
    "    image = Image.open(path)\n",
    "\n",
    "    # transformation pipeline\n",
    "    transformation = transforms.Compose([\n",
    "                transforms.Resize([size,size]), # resizes image\n",
    "                transforms.ToTensor() # converts to image to tensor\n",
    "            ])\n",
    "\n",
    "    image_tensor = transformation(image).unsqueeze(0)\n",
    "    print('Tensor shape: ', image_tensor.shape)\n",
    "\n",
    "    return image_tensor"
   ]
  },
  {
   "cell_type": "code",
   "execution_count": 8,
   "metadata": {},
   "outputs": [],
   "source": [
    "# test image paths\n",
    "hot_dog_test = 'test.jpg'"
   ]
  },
  {
   "cell_type": "code",
   "execution_count": 9,
   "metadata": {},
   "outputs": [
    {
     "name": "stdout",
     "output_type": "stream",
     "text": [
      "Tensor shape:  torch.Size([1, 3, 256, 256])\n"
     ]
    }
   ],
   "source": [
    "# get image tensors\n",
    "hot_dog_tensor = image_transform(hot_dog_test, 256)"
   ]
  },
  {
   "cell_type": "code",
   "execution_count": 10,
   "metadata": {},
   "outputs": [
    {
     "data": {
      "text/plain": [
       "('ROADRUNNER',\n",
       " array([[3.61593297e-13, 6.54161729e-13, 6.98207160e-12, 1.33635182e-12,\n",
       "         2.54244954e-12, 2.29816817e-13, 7.94867830e-15, 5.26444166e-10,\n",
       "         1.60433546e-15, 1.54276040e-14, 6.09114538e-13, 4.05555065e-13,\n",
       "         3.35615799e-14, 1.46446067e-11, 1.30020430e-12, 1.57727408e-11,\n",
       "         2.59590238e-14, 2.25453760e-14, 4.57062502e-14, 1.81622959e-13,\n",
       "         1.83714268e-15, 3.05196528e-11, 4.65076708e-13, 2.56261375e-13,\n",
       "         1.10292560e-13, 1.63227925e-14, 3.75735684e-14, 5.21765790e-14,\n",
       "         1.65749554e-12, 2.46322823e-10, 6.55221193e-15, 4.52085360e-16,\n",
       "         1.22464233e-10, 9.45628667e-14, 1.33251471e-14, 1.18210747e-12,\n",
       "         2.43996368e-11, 4.52914150e-15, 6.30031780e-13, 1.30779448e-13,\n",
       "         7.86293909e-15, 1.54331821e-12, 3.46076764e-13, 8.97090874e-11,\n",
       "         1.52843316e-09, 2.28931128e-11, 1.42041337e-12, 1.66764850e-13,\n",
       "         1.20787885e-11, 2.64698592e-14, 1.27930668e-16, 2.35566720e-13,\n",
       "         5.73026056e-13, 2.85347273e-14, 3.21372443e-12, 6.66126822e-13,\n",
       "         1.22289574e-11, 4.54600084e-15, 3.61117092e-09, 1.20209737e-13,\n",
       "         2.11497503e-14, 1.01881394e-14, 1.31224406e-10, 8.39362047e-15,\n",
       "         5.10271270e-11, 4.78574680e-10, 2.22202205e-12, 5.07728408e-12,\n",
       "         6.50938418e-12, 6.19725105e-12, 2.52707740e-14, 3.68430026e-12,\n",
       "         2.52584520e-13, 1.54327701e-12, 1.76483489e-13, 2.34678643e-14,\n",
       "         2.34913305e-14, 3.38277908e-13, 9.58346824e-09, 9.05736770e-12,\n",
       "         1.17352363e-12, 4.60375731e-11, 1.13454453e-13, 1.72359329e-14,\n",
       "         1.02174078e-14, 1.31599495e-12, 7.69727164e-13, 5.48781940e-13,\n",
       "         5.10658529e-12, 3.43535557e-13, 1.07069562e-10, 8.02450174e-13,\n",
       "         2.33425543e-14, 5.10365188e-13, 8.37436370e-12, 4.00269019e-15,\n",
       "         1.28550370e-14, 2.41822404e-12, 9.06106888e-15, 3.32722294e-13,\n",
       "         1.37898441e-13, 7.08046686e-12, 1.48907376e-13, 1.02784653e-15,\n",
       "         5.72802005e-13, 1.24247146e-14, 1.77488449e-13, 5.23173139e-13,\n",
       "         3.24424081e-12, 6.85728821e-15, 1.93108706e-11, 1.87565017e-16,\n",
       "         4.90135573e-15, 2.68968714e-09, 4.63548145e-13, 5.08301253e-15,\n",
       "         3.88674953e-10, 4.91853628e-13, 2.86826091e-10, 1.81650858e-11,\n",
       "         1.71469755e-10, 1.77809563e-14, 2.10800073e-13, 1.14713360e-11,\n",
       "         2.79297375e-12, 2.35153592e-14, 7.14649423e-14, 7.90182644e-13,\n",
       "         1.87718410e-10, 9.24017536e-14, 3.70212888e-12, 5.68322787e-13,\n",
       "         7.54456746e-16, 8.94876562e-10, 1.41208684e-10, 1.01711413e-12,\n",
       "         9.43785387e-14, 3.19538436e-14, 1.78789605e-11, 7.54763006e-13,\n",
       "         6.18191485e-16, 3.21767923e-09, 1.11084525e-12, 4.68417638e-10,\n",
       "         3.35526827e-14, 1.85003293e-12, 5.00428908e-13, 3.45034418e-11,\n",
       "         4.88914790e-13, 3.80511855e-12, 5.38335383e-11, 1.55281764e-15,\n",
       "         2.17114521e-12, 3.20312353e-13, 7.66048720e-15, 2.09938622e-09,\n",
       "         3.37095036e-15, 6.09222281e-14, 4.36256725e-11, 2.85630339e-11,\n",
       "         5.51831367e-12, 2.60513226e-11, 2.31819737e-11, 5.62099428e-16,\n",
       "         2.13127460e-10, 2.30919159e-10, 2.33631656e-15, 2.25115702e-13,\n",
       "         2.61844528e-13, 5.65647616e-12, 8.35458092e-12, 7.89103158e-12,\n",
       "         2.35279818e-09, 3.27072421e-14, 7.93302124e-14, 2.13350835e-13,\n",
       "         1.17988876e-12, 3.77202853e-13, 8.63320537e-13, 3.95990810e-11,\n",
       "         2.16087375e-13, 2.24533798e-13, 1.01524952e-12, 1.29984856e-10,\n",
       "         7.67715669e-09, 1.32113735e-13, 6.43118859e-13, 3.70957009e-13,\n",
       "         3.06822303e-13, 1.66123029e-12, 1.64877321e-13, 2.64225343e-11,\n",
       "         3.57507908e-14, 1.58711653e-13, 7.45106220e-14, 8.40235406e-14,\n",
       "         1.13072624e-11, 7.19217394e-12, 1.68299931e-13, 3.12914266e-14,\n",
       "         1.10933138e-12, 5.70484285e-12, 7.73497748e-13, 3.98335141e-12,\n",
       "         8.40756010e-15, 3.54921040e-12, 5.14414141e-13, 4.55407400e-14,\n",
       "         1.30072195e-13, 9.78987637e-12, 7.14188450e-15, 5.39499435e-13,\n",
       "         3.09784988e-12, 2.33296912e-14, 2.17356393e-13, 1.51417724e-13,\n",
       "         8.26252886e-11, 1.09873404e-14, 1.74007700e-13, 3.46846926e-15,\n",
       "         3.63727738e-14, 3.43740592e-10, 4.65920670e-11, 4.03000636e-12,\n",
       "         1.20378618e-09, 3.85783211e-11, 9.66527883e-14, 2.82286727e-13,\n",
       "         1.06511605e-11, 3.69065299e-11, 5.40383641e-11, 1.02158447e-11,\n",
       "         1.43595166e-15, 5.02881764e-11, 6.01785654e-15, 2.67227023e-13,\n",
       "         1.06975287e-13, 1.41199650e-12, 9.68056954e-11, 1.10825113e-15,\n",
       "         7.05029394e-12, 1.70614093e-13, 1.44984090e-12, 1.08887864e-14,\n",
       "         4.94824925e-14, 1.40355253e-11, 6.86453498e-12, 3.22588852e-13,\n",
       "         2.69670527e-12, 6.12742821e-14, 1.98777834e-11, 5.45571346e-14,\n",
       "         4.34628435e-13, 1.05148341e-14, 3.34859072e-12, 1.14721993e-13,\n",
       "         2.35498199e-15, 1.84802976e-12, 4.28607074e-14, 5.25653002e-12,\n",
       "         3.53153534e-10, 5.50335645e-12, 3.07822886e-13, 2.24490985e-13,\n",
       "         2.55090632e-12, 3.01013645e-16, 6.87486634e-14, 3.49721398e-11,\n",
       "         7.43561571e-14, 5.63859463e-12, 4.65355575e-12, 9.75034127e-14,\n",
       "         1.59048718e-12, 2.04289992e-12, 3.93759325e-14, 2.88252657e-13,\n",
       "         2.74271767e-15, 9.19625921e-13, 1.11751064e-14, 4.44700570e-12,\n",
       "         2.47526100e-14, 1.60546665e-13, 2.44147541e-12, 8.83638052e-14,\n",
       "         5.26872599e-12, 1.01089381e-09, 5.11819883e-12, 4.60910563e-12,\n",
       "         1.33177350e-13, 9.38624612e-13, 1.30309973e-11, 1.23065349e-13,\n",
       "         1.77378118e-13, 2.23633147e-14, 2.41789894e-10, 7.33961638e-14,\n",
       "         1.28679914e-10, 5.50879058e-14, 4.68223793e-10, 2.39011003e-12,\n",
       "         3.25215874e-12, 1.45446291e-13, 4.15885588e-14, 3.01710181e-13,\n",
       "         7.81898960e-14, 5.45517238e-14, 1.92872281e-12, 5.19806257e-13,\n",
       "         5.00461608e-12, 5.24096723e-14, 9.41742615e-14, 5.50511149e-15,\n",
       "         5.39754432e-14, 3.31016207e-14, 9.70431011e-14, 4.78497924e-14,\n",
       "         1.17309947e-14, 3.86176160e-12, 1.01229780e-14, 1.62944797e-11,\n",
       "         2.95453627e-11, 8.73905809e-12, 2.16618878e-13, 7.16359413e-14,\n",
       "         8.03206980e-12, 7.14141135e-14, 2.09344226e-11, 2.21623693e-15,\n",
       "         2.08858371e-08, 3.88661195e-12, 2.62041517e-12, 8.12169776e-12,\n",
       "         3.88951702e-13, 1.86319025e-14, 2.87330641e-12, 1.05622022e-12,\n",
       "         1.97623404e-10, 5.04636697e-13, 4.72911749e-13, 8.02708566e-10,\n",
       "         2.19682914e-13, 7.25360310e-12, 1.42022917e-12, 1.34314200e-11,\n",
       "         2.25919950e-14, 3.56434364e-13, 6.77853574e-15, 2.52587673e-11,\n",
       "         6.77450649e-14, 1.76460076e-15, 2.98782974e-15, 8.35356090e-12,\n",
       "         6.37584535e-14, 4.74418942e-12, 2.49187421e-10, 3.60884690e-11,\n",
       "         3.03541101e-13, 6.48395317e-17, 1.42374220e-11, 7.93220142e-11,\n",
       "         6.40695884e-13, 2.43844944e-09, 5.75923925e-14, 2.48453567e-11,\n",
       "         2.23151359e-13, 4.30610332e-15, 4.27359767e-14, 1.81165326e-12,\n",
       "         5.86187674e-13, 5.89804854e-12, 1.00809736e-14, 2.19021036e-13,\n",
       "         1.01223459e-13, 4.54686844e-11, 9.05690995e-14, 1.97961716e-11,\n",
       "         4.97164289e-11, 1.14985688e-14, 8.39751581e-14, 2.93712503e-14,\n",
       "         4.95064500e-15, 3.17325403e-13, 4.08858494e-12, 6.14800040e-13,\n",
       "         8.51014734e-13, 4.33194171e-13, 5.93859597e-12, 2.95112177e-12,\n",
       "         9.62653216e-14, 1.26486210e-10, 3.27612666e-13, 1.13962549e-14,\n",
       "         1.42365189e-12, 1.05017262e-14, 3.83200484e-14, 1.57048896e-12,\n",
       "         4.79457833e-15, 9.34065108e-13, 4.84658700e-13, 2.48136012e-13,\n",
       "         9.01193148e-11, 2.16766438e-13, 1.69835764e-14, 1.85267695e-13,\n",
       "         6.21319023e-13, 9.26081365e-15, 3.67770006e-16, 2.76225006e-13,\n",
       "         1.17956367e-10, 6.59215317e-14, 7.25936713e-14, 8.15126178e-12,\n",
       "         6.61757568e-14, 1.55345826e-14, 3.27117511e-13, 3.02906653e-13,\n",
       "         1.23166502e-14, 3.99899128e-14, 1.96249549e-12, 3.43185549e-11,\n",
       "         2.44248496e-13, 5.42382736e-11, 1.00000000e+00, 1.60124951e-13,\n",
       "         4.79771862e-14, 7.00314459e-12, 2.84214621e-15, 2.29295546e-15,\n",
       "         1.73086252e-12, 6.67142773e-13, 2.03478964e-14, 1.36544998e-10,\n",
       "         2.70033751e-13, 3.35888137e-13, 4.23603028e-11, 9.70698608e-12,\n",
       "         5.83200046e-13, 1.36835157e-14, 3.48234202e-12, 1.68749207e-14,\n",
       "         2.23676459e-12, 1.55132657e-10, 2.21043645e-15, 9.71230128e-12,\n",
       "         3.48196163e-13, 6.74124808e-15, 3.41701195e-13, 2.26277140e-13,\n",
       "         9.71033258e-13, 1.57057371e-11, 7.66505118e-14, 3.25822919e-13,\n",
       "         5.13524011e-13, 2.49142829e-13, 3.54190317e-14, 1.03836048e-12,\n",
       "         4.09263422e-12, 3.36213284e-12, 8.48705689e-11, 7.98501890e-13,\n",
       "         2.74170579e-13, 3.90931038e-12, 1.18095429e-11, 3.07913482e-12,\n",
       "         6.26290943e-14, 1.03610859e-13, 1.75579482e-11, 2.03724895e-13,\n",
       "         6.27874489e-14, 2.44979852e-11, 9.83523809e-13, 3.85399666e-13,\n",
       "         1.01561982e-15, 3.29741928e-11, 9.02988968e-12, 7.47190504e-12,\n",
       "         4.52452813e-16, 3.94473476e-14, 2.21711126e-12, 4.82684266e-14,\n",
       "         2.26699440e-11, 7.82479279e-14, 8.29520236e-14, 1.99811183e-13,\n",
       "         3.85093243e-13, 5.00021066e-11, 9.17509002e-14, 5.28416862e-14,\n",
       "         4.86361710e-13, 1.32574225e-12, 4.09225952e-12, 1.73083102e-14,\n",
       "         2.86297808e-12, 1.71268476e-13, 4.23373982e-13, 5.07515850e-14,\n",
       "         1.29789637e-10, 1.26675783e-13, 4.55779112e-15, 3.29296277e-15,\n",
       "         1.37573736e-13, 6.67089647e-12, 7.78458515e-14, 8.48720705e-10,\n",
       "         1.09887460e-10, 1.78571335e-09, 5.39661801e-14, 9.75585281e-13,\n",
       "         4.62499884e-13, 6.45253978e-14, 4.13964300e-13, 4.48769609e-14,\n",
       "         7.67622250e-12, 6.00650714e-14, 6.68343131e-15, 8.60821234e-13,\n",
       "         3.56346002e-13, 5.58624544e-13, 7.13470298e-13, 9.79044049e-15,\n",
       "         2.79817385e-11, 8.33685538e-14, 1.18744925e-09, 5.72340586e-15,\n",
       "         3.91872780e-14, 2.10973844e-13]]))"
      ]
     },
     "execution_count": 10,
     "metadata": {},
     "output_type": "execute_result"
    }
   ],
   "source": [
    "# run inference on test images\n",
    "\n",
    "with torch.no_grad():\n",
    "    results = final_model(hot_dog_tensor)\n",
    "labels[np.argmax(results.detach().numpy())], results.detach().numpy().astype(float)"
   ]
  },
  {
   "cell_type": "markdown",
   "metadata": {},
   "source": [
    "## 2. Export PyTorch model to ONNX\n",
    "\n",
    "It's REALLY important to define the input shape of an ONNX model. We trained the FastAI/PyTorch model on 256 x 256 image. And we need to use the same for export. The input tensor must be in BCHW format - 1x3x256x256. (Batch x Channels x Height x Width).\n",
    "\n",
    "PyTorch documentation: https://pytorch.org/docs/master/onnx.html"
   ]
  },
  {
   "cell_type": "code",
   "execution_count": 11,
   "metadata": {},
   "outputs": [],
   "source": [
    "torch.onnx.export(\n",
    "    final_model, \n",
    "    torch.randn(1, 3, 256, 256),\n",
    "    \"models/bird_model2_resnet34_256_256.onnx\",\n",
    "    do_constant_folding=True,\n",
    "    export_params=True, # if set to False exports untrained model\n",
    "    input_names=[\"image_1_3_256_256\"],\n",
    "    output_names=[\"bird\"],\n",
    "    opset_version=11\n",
    ")"
   ]
  },
  {
   "cell_type": "markdown",
   "metadata": {},
   "source": [
    "### (Optional) Validate ONNX model"
   ]
  },
  {
   "cell_type": "code",
   "execution_count": 12,
   "metadata": {},
   "outputs": [],
   "source": [
    "import onnx\n",
    "\n",
    "# Load the ONNX model\n",
    "model = onnx.load('models/bird_model2_resnet34_256_256.onnx')\n",
    "\n",
    "# Check that the IR is well formed\n",
    "onnx.checker.check_model(model)\n",
    "\n",
    "# Print a human readable representation of the graph\n",
    "# onnx.helper.printable_graph(model.graph)"
   ]
  },
  {
   "cell_type": "markdown",
   "metadata": {},
   "source": [
    "We got out ONNX model. Let's compare the results."
   ]
  },
  {
   "cell_type": "code",
   "execution_count": 13,
   "metadata": {},
   "outputs": [],
   "source": [
    "import numpy as np\n",
    "import onnxruntime as rt\n",
    "\n",
    "np.set_printoptions(suppress=True)"
   ]
  },
  {
   "cell_type": "code",
   "execution_count": 14,
   "metadata": {},
   "outputs": [],
   "source": [
    "from PIL import Image\n",
    "\n",
    "def image_transform_onnx(path: str, size: int) -> np.ndarray:\n",
    "    '''Image transform helper for onnx runtime inference.'''\n",
    "\n",
    "    image = Image.open(path)\n",
    "    image = image.resize((size,size))\n",
    "    # print(image.shape, image.mode)\n",
    "\n",
    "\n",
    "    # now our image is represented by 3 layers - Red, Green, Blue\n",
    "    # each layer has a 224 x 224 values representing\n",
    "    image = np.array(image)\n",
    "    # print('Conversion to tensor: ',image.shape)\n",
    "\n",
    "    # dummy input for the model at export - torch.randn(1, 3, 224, 224)\n",
    "    image = image.transpose(2,0,1).astype(np.float32)\n",
    "    # print('Transposing the tensor: ',image.shape)\n",
    "\n",
    "    # our image is currently represented by values ranging between 0-255\n",
    "    # we need to convert these values to 0.0-1.0 - those are the values that are expected by our model\n",
    "\n",
    "    # print('Integer value: ', image[0][0][40])\n",
    "    image /= 255\n",
    "    # print('Float value: ', image[0][0][40])\n",
    "\n",
    "    # expanding the alread existing tensor with the final dimension (similar to unsqueeze(0))\n",
    "    # currently our tensor only has rank of 3 which needs to be expanded to 4 - torch.randn(1, 3, 224, 224)\n",
    "    # 1 can be considered the batch size\n",
    "\n",
    "    image = image[None, ...]\n",
    "    # print('Final shape of our tensor', image.shape, '\\n')\n",
    "    return image\n"
   ]
  },
  {
   "cell_type": "code",
   "execution_count": 15,
   "metadata": {},
   "outputs": [],
   "source": [
    "hot_dog_tensor_onnx = image_transform_onnx('test.jpg', 256)"
   ]
  },
  {
   "cell_type": "code",
   "execution_count": 16,
   "metadata": {},
   "outputs": [
    {
     "data": {
      "text/plain": [
       "('image_1_3_256_256', 'bird', [1, 3, 256, 256])"
      ]
     },
     "execution_count": 16,
     "metadata": {},
     "output_type": "execute_result"
    }
   ],
   "source": [
    "# initialize onnx runtime inference session\n",
    "sess = rt.InferenceSession('models/bird_model2_resnet34_256_256.onnx')\n",
    "\n",
    "# input & output names\n",
    "input_name = sess.get_inputs()[0].name\n",
    "output_name = sess.get_outputs()[0].name\n",
    "\n",
    "# input dimensions\n",
    "input_dims = sess.get_inputs()[0].shape\n",
    "\n",
    "input_name, output_name, input_dims"
   ]
  },
  {
   "cell_type": "code",
   "execution_count": 23,
   "metadata": {},
   "outputs": [
    {
     "data": {
      "text/plain": [
       "('COCKATOO',\n",
       " array([[0.00000002, 0.00000285, 0.00000002, 0.00000007, 0.00000034,\n",
       "         0.00000001, 0.00000002, 0.00000001, 0.00000017, 0.00000268,\n",
       "         0.00000002, 0.00013275, 0.00000061, 0.        , 0.00000033,\n",
       "         0.        , 0.00000001, 0.00000008, 0.00000002, 0.00000007,\n",
       "         0.00000013, 0.00000001, 0.00000009, 0.00000033, 0.00000013,\n",
       "         0.00000001, 0.00000111, 0.00000001, 0.00000006, 0.        ,\n",
       "         0.0000009 , 0.00000022, 0.        , 0.00000001, 0.00000006,\n",
       "         0.        , 0.00000079, 0.00000042, 0.        , 0.00000235,\n",
       "         0.        , 0.00000002, 0.00000007, 0.00000002, 0.        ,\n",
       "         0.        , 0.        , 0.        , 0.        , 0.00000003,\n",
       "         0.00000181, 0.0000011 , 0.        , 0.00000087, 0.        ,\n",
       "         0.00044059, 0.00000004, 0.        , 0.        , 0.00000002,\n",
       "         0.        , 0.00000119, 0.        , 0.00004179, 0.00000004,\n",
       "         0.        , 0.00000048, 0.00000001, 0.00000001, 0.00000002,\n",
       "         0.00000118, 0.        , 0.00001068, 0.        , 0.00000011,\n",
       "         0.        , 0.00000114, 0.00002021, 0.        , 0.00000006,\n",
       "         0.00000001, 0.        , 0.        , 0.00000001, 0.00000001,\n",
       "         0.00000001, 0.0000001 , 0.        , 0.00000101, 0.00000003,\n",
       "         0.        , 0.00000001, 0.00000003, 0.00000002, 0.00000003,\n",
       "         0.00000112, 0.00000001, 0.00000018, 0.00000005, 0.        ,\n",
       "         0.        , 0.00000001, 0.00000006, 0.        , 0.00000005,\n",
       "         0.00000001, 0.00000004, 0.00000003, 0.        , 0.00000001,\n",
       "         0.        , 0.00000001, 0.00000012, 0.        , 0.00000006,\n",
       "         0.00000636, 0.00000007, 0.00000002, 0.00000008, 0.00000002,\n",
       "         0.        , 0.00000001, 0.00003547, 0.00000002, 0.        ,\n",
       "         0.0000065 , 0.00000001, 0.00000008, 0.        , 0.00000006,\n",
       "         0.00000002, 0.00000025, 0.00000014, 0.00000004, 0.00000061,\n",
       "         0.        , 0.00000003, 0.00000005, 0.00000001, 0.0000011 ,\n",
       "         0.00000018, 0.        , 0.00000002, 0.00000004, 0.        ,\n",
       "         0.00000001, 0.00000002, 0.00000041, 0.        , 0.        ,\n",
       "         0.        , 0.00000175, 0.00000171, 0.99443746, 0.        ,\n",
       "         0.        , 0.        , 0.00000002, 0.00000045, 0.00000003,\n",
       "         0.        , 0.00000001, 0.00000004, 0.        , 0.00000001,\n",
       "         0.00000031, 0.00000002, 0.00000072, 0.00000009, 0.00000002,\n",
       "         0.00000021, 0.00000132, 0.00000001, 0.0000002 , 0.00000009,\n",
       "         0.00000005, 0.00000001, 0.00000001, 0.        , 0.00000001,\n",
       "         0.00000239, 0.00000053, 0.        , 0.00000001, 0.00000001,\n",
       "         0.00000041, 0.        , 0.00000002, 0.00000011, 0.        ,\n",
       "         0.00000016, 0.        , 0.00000044, 0.00000001, 0.00000005,\n",
       "         0.00000021, 0.        , 0.00000002, 0.00000529, 0.00000005,\n",
       "         0.00000095, 0.00000001, 0.00000007, 0.00000001, 0.        ,\n",
       "         0.00000001, 0.00000052, 0.00000002, 0.        , 0.00000002,\n",
       "         0.00000028, 0.00000024, 0.        , 0.00000001, 0.00000001,\n",
       "         0.00000028, 0.00000059, 0.        , 0.000002  , 0.00000009,\n",
       "         0.00000002, 0.00000002, 0.0027487 , 0.00000001, 0.        ,\n",
       "         0.00000002, 0.        , 0.00000001, 0.00000045, 0.00000002,\n",
       "         0.        , 0.        , 0.00001164, 0.        , 0.00000335,\n",
       "         0.00000001, 0.00000004, 0.00000001, 0.00001877, 0.00000011,\n",
       "         0.00000005, 0.00000001, 0.00000125, 0.00000004, 0.00009694,\n",
       "         0.00000099, 0.00000033, 0.00000006, 0.00000005, 0.00000006,\n",
       "         0.00000013, 0.00000002, 0.00000002, 0.0000002 , 0.00000001,\n",
       "         0.00000014, 0.00000007, 0.00000003, 0.        , 0.00000012,\n",
       "         0.        , 0.00000001, 0.00000066, 0.0000009 , 0.00000005,\n",
       "         0.00000009, 0.00000062, 0.00000002, 0.0000009 , 0.00000038,\n",
       "         0.00000012, 0.00000006, 0.00000011, 0.        , 0.00001491,\n",
       "         0.00000001, 0.        , 0.00000001, 0.00002255, 0.00000001,\n",
       "         0.        , 0.00000004, 0.00000008, 0.00000007, 0.00000005,\n",
       "         0.00000004, 0.        , 0.00000005, 0.        , 0.00000028,\n",
       "         0.0000001 , 0.00000003, 0.00000002, 0.00000376, 0.00000001,\n",
       "         0.00000002, 0.00000001, 0.00000013, 0.        , 0.        ,\n",
       "         0.00000001, 0.00000002, 0.00000027, 0.        , 0.00000031,\n",
       "         0.        , 0.00104518, 0.00000001, 0.00000107, 0.        ,\n",
       "         0.00008268, 0.0000011 , 0.00000001, 0.00000005, 0.        ,\n",
       "         0.00000125, 0.0000003 , 0.00000001, 0.00000001, 0.00000048,\n",
       "         0.0000001 , 0.00000012, 0.00000003, 0.00000021, 0.00000045,\n",
       "         0.00000003, 0.        , 0.00000002, 0.00000003, 0.00000003,\n",
       "         0.00000008, 0.00000007, 0.00000007, 0.00000001, 0.00000002,\n",
       "         0.00000001, 0.00000003, 0.00000009, 0.00000029, 0.00000002,\n",
       "         0.0000001 , 0.        , 0.00000001, 0.00000005, 0.00000377,\n",
       "         0.00000192, 0.00000368, 0.00000006, 0.00000001, 0.00000088,\n",
       "         0.00000185, 0.        , 0.00000037, 0.        , 0.00000002,\n",
       "         0.00000005, 0.        , 0.00001278, 0.00000107, 0.00000019,\n",
       "         0.00000011, 0.00000005, 0.00000039, 0.        , 0.00000005,\n",
       "         0.00000001, 0.00000001, 0.        , 0.00000005, 0.00000009,\n",
       "         0.00000004, 0.00000033, 0.00000053, 0.00000001, 0.00000001,\n",
       "         0.00000003, 0.00000017, 0.00000032, 0.00000377, 0.00000002,\n",
       "         0.00000005, 0.00000012, 0.        , 0.00000013, 0.00000003,\n",
       "         0.00000017, 0.        , 0.00000146, 0.        , 0.00000142,\n",
       "         0.        , 0.00000127, 0.00000003, 0.00000063, 0.00000001,\n",
       "         0.00000073, 0.        , 0.        , 0.00000002, 0.00000062,\n",
       "         0.00000048, 0.00000079, 0.00000007, 0.        , 0.00000229,\n",
       "         0.00000001, 0.0000003 , 0.        , 0.00000006, 0.00000014,\n",
       "         0.00000003, 0.00000007, 0.00000004, 0.00000001, 0.        ,\n",
       "         0.00000016, 0.00000007, 0.        , 0.        , 0.        ,\n",
       "         0.00000004, 0.00000008, 0.00000001, 0.00000129, 0.00002885,\n",
       "         0.        , 0.00000043, 0.00000061, 0.00000039, 0.00000017,\n",
       "         0.00000002, 0.        , 0.000006  , 0.00000016, 0.        ,\n",
       "         0.        , 0.        , 0.00000021, 0.00000045, 0.        ,\n",
       "         0.00000003, 0.00000031, 0.00000019, 0.        , 0.00000006,\n",
       "         0.00000081, 0.00000003, 0.00000174, 0.00000002, 0.        ,\n",
       "         0.00001895, 0.        , 0.00001426, 0.00011304, 0.00000671,\n",
       "         0.00043202, 0.        , 0.00000005, 0.00000001, 0.00000046,\n",
       "         0.        , 0.        , 0.00000098, 0.        , 0.00000002,\n",
       "         0.        , 0.        , 0.00000016, 0.00000006, 0.        ,\n",
       "         0.        , 0.00000015, 0.        , 0.00000014, 0.        ,\n",
       "         0.00000018, 0.        , 0.00000002, 0.00000001, 0.        ,\n",
       "         0.00000641, 0.00000005, 0.00000004, 0.00000013, 0.00000001,\n",
       "         0.00000024, 0.00000095, 0.00000004, 0.        , 0.00000117,\n",
       "         0.00000002, 0.00000028, 0.00000001, 0.00000031, 0.00000003,\n",
       "         0.00000018, 0.00000025, 0.00000005, 0.00000031, 0.00000003,\n",
       "         0.        , 0.00000016, 0.00000001, 0.0000029 , 0.00000001,\n",
       "         0.        , 0.00000001, 0.        , 0.00000001, 0.00000006,\n",
       "         0.00000001, 0.00000006, 0.00001875, 0.        , 0.00000017,\n",
       "         0.00004578, 0.00000001, 0.        , 0.00000001, 0.        ,\n",
       "         0.        , 0.        , 0.00000001, 0.00000014, 0.        ,\n",
       "         0.00000191]], dtype=float32),\n",
       " ['ABBOTTS BABBLER', 'ABBOTTS BOOBY', 'ABYSSINIAN GROUND HORNBILL', 'AFRICAN CROWNED CRANE', 'AFRICAN EMERALD CUCKOO', 'AFRICAN FIREFINCH', 'AFRICAN OYSTER CATCHER', 'AFRICAN PIED HORNBILL', 'AFRICAN PYGMY GOOSE', 'ALBATROSS', 'ALBERTS TOWHEE', 'ALEXANDRINE PARAKEET', 'ALPINE CHOUGH', 'ALTAMIRA YELLOWTHROAT', 'AMERICAN AVOCET', 'AMERICAN BITTERN', 'AMERICAN COOT', 'AMERICAN DIPPER', 'AMERICAN FLAMINGO', 'AMERICAN GOLDFINCH', 'AMERICAN KESTREL', 'AMERICAN PIPIT', 'AMERICAN REDSTART', 'AMERICAN ROBIN', 'AMERICAN WIGEON', 'AMETHYST WOODSTAR', 'ANDEAN GOOSE', 'ANDEAN LAPWING', 'ANDEAN SISKIN', 'ANHINGA', 'ANIANIAU', 'ANNAS HUMMINGBIRD', 'ANTBIRD', 'ANTILLEAN EUPHONIA', 'APAPANE', 'APOSTLEBIRD', 'ARARIPE MANAKIN', 'ASHY STORM PETREL', 'ASHY THRUSHBIRD', 'ASIAN CRESTED IBIS', 'ASIAN DOLLARD BIRD', 'ASIAN GREEN BEE EATER', 'ASIAN OPENBILL STORK', 'AUCKLAND SHAQ', 'AUSTRAL CANASTERO', 'AUSTRALASIAN FIGBIRD', 'AVADAVAT', 'AZARAS SPINETAIL', 'AZURE BREASTED PITTA', 'AZURE JAY', 'AZURE TANAGER', 'AZURE TIT', 'BAIKAL TEAL', 'BALD EAGLE', 'BALD IBIS', 'BALI STARLING', 'BALTIMORE ORIOLE', 'BANANAQUIT', 'BAND TAILED GUAN', 'BANDED BROADBILL', 'BANDED PITA', 'BANDED STILT', 'BAR-TAILED GODWIT', 'BARN OWL', 'BARN SWALLOW', 'BARRED PUFFBIRD', 'BARROWS GOLDENEYE', 'BAY-BREASTED WARBLER', 'BEARDED BARBET', 'BEARDED BELLBIRD', 'BEARDED REEDLING', 'BELTED KINGFISHER', 'BIRD OF PARADISE', 'BLACK AND YELLOW BROADBILL', 'BLACK BAZA', 'BLACK BREASTED PUFFBIRD', 'BLACK COCKATO', 'BLACK FACED SPOONBILL', 'BLACK FRANCOLIN', 'BLACK HEADED CAIQUE', 'BLACK NECKED STILT', 'BLACK SKIMMER', 'BLACK SWAN', 'BLACK TAIL CRAKE', 'BLACK THROATED BUSHTIT', 'BLACK THROATED HUET', 'BLACK THROATED WARBLER', 'BLACK VENTED SHEARWATER', 'BLACK VULTURE', 'BLACK-CAPPED CHICKADEE', 'BLACK-NECKED GREBE', 'BLACK-THROATED SPARROW', 'BLACKBURNIAM WARBLER', 'BLONDE CRESTED WOODPECKER', 'BLOOD PHEASANT', 'BLUE COAU', 'BLUE DACNIS', 'BLUE GRAY GNATCATCHER', 'BLUE GROSBEAK', 'BLUE GROUSE', 'BLUE HERON', 'BLUE MALKOHA', 'BLUE THROATED PIPING GUAN', 'BLUE THROATED TOUCANET', 'BOBOLINK', 'BORNEAN BRISTLEHEAD', 'BORNEAN LEAFBIRD', 'BORNEAN PHEASANT', 'BRANDT CORMARANT', 'BREWERS BLACKBIRD', 'BROWN CREPPER', 'BROWN HEADED COWBIRD', 'BROWN NOODY', 'BROWN THRASHER', 'BUFFLEHEAD', 'BULWERS PHEASANT', 'BURCHELLS COURSER', 'BUSH TURKEY', 'CAATINGA CACHOLOTE', 'CABOTS TRAGOPAN', 'CACTUS WREN', 'CALIFORNIA CONDOR', 'CALIFORNIA GULL', 'CALIFORNIA QUAIL', 'CAMPO FLICKER', 'CANARY', 'CANVASBACK', 'CAPE GLOSSY STARLING', 'CAPE LONGCLAW', 'CAPE MAY WARBLER', 'CAPE ROCK THRUSH', 'CAPPED HERON', 'CAPUCHINBIRD', 'CARMINE BEE-EATER', 'CASPIAN TERN', 'CASSOWARY', 'CEDAR WAXWING', 'CERULEAN WARBLER', 'CHARA DE COLLAR', 'CHATTERING LORY', 'CHESTNET BELLIED EUPHONIA', 'CHESTNUT WINGED CUCKOO', 'CHINESE BAMBOO PARTRIDGE', 'CHINESE POND HERON', 'CHIPPING SPARROW', 'CHUCAO TAPACULO', 'CHUKAR PARTRIDGE', 'CINNAMON ATTILA', 'CINNAMON FLYCATCHER', 'CINNAMON TEAL', 'CLARKS GREBE', 'CLARKS NUTCRACKER', 'COCK OF THE  ROCK', 'COCKATOO', 'COLLARED ARACARI', 'COLLARED CRESCENTCHEST', 'COMMON FIRECREST', 'COMMON GRACKLE', 'COMMON HOUSE MARTIN', 'COMMON IORA', 'COMMON LOON', 'COMMON POORWILL', 'COMMON STARLING', 'COPPERSMITH BARBET', 'COPPERY TAILED COUCAL', 'CRAB PLOVER', 'CRANE HAWK', 'CREAM COLORED WOODPECKER', 'CRESTED AUKLET', 'CRESTED CARACARA', 'CRESTED COUA', 'CRESTED FIREBACK', 'CRESTED KINGFISHER', 'CRESTED NUTHATCH', 'CRESTED OROPENDOLA', 'CRESTED SERPENT EAGLE', 'CRESTED SHRIKETIT', 'CRESTED WOOD PARTRIDGE', 'CRIMSON CHAT', 'CRIMSON SUNBIRD', 'CROW', 'CUBAN TODY', 'CUBAN TROGON', 'CURL CRESTED ARACURI', 'D-ARNAUDS BARBET', 'DALMATIAN PELICAN', 'DARJEELING WOODPECKER', 'DARK EYED JUNCO', 'DAURIAN REDSTART', 'DEMOISELLE CRANE', 'DOUBLE BARRED FINCH', 'DOUBLE BRESTED CORMARANT', 'DOUBLE EYED FIG PARROT', 'DOWNY WOODPECKER', 'DUNLIN', 'DUSKY LORY', 'DUSKY ROBIN', 'EARED PITA', 'EASTERN BLUEBIRD', 'EASTERN BLUEBONNET', 'EASTERN GOLDEN WEAVER', 'EASTERN MEADOWLARK', 'EASTERN ROSELLA', 'EASTERN TOWEE', 'EASTERN WIP POOR WILL', 'EASTERN YELLOW ROBIN', 'ECUADORIAN HILLSTAR', 'EGYPTIAN GOOSE', 'ELEGANT TROGON', 'ELLIOTS  PHEASANT', 'EMERALD TANAGER', 'EMPEROR PENGUIN', 'EMU', 'ENGGANO MYNA', 'EURASIAN BULLFINCH', 'EURASIAN GOLDEN ORIOLE', 'EURASIAN MAGPIE', 'EUROPEAN GOLDFINCH', 'EUROPEAN TURTLE DOVE', 'EVENING GROSBEAK', 'FAIRY BLUEBIRD', 'FAIRY PENGUIN', 'FAIRY TERN', 'FAN TAILED WIDOW', 'FASCIATED WREN', 'FIERY MINIVET', 'FIORDLAND PENGUIN', 'FIRE TAILLED MYZORNIS', 'FLAME BOWERBIRD', 'FLAME TANAGER', 'FOREST WAGTAIL', 'FRIGATE', 'FRILL BACK PIGEON', 'GAMBELS QUAIL', 'GANG GANG COCKATOO', 'GILA WOODPECKER', 'GILDED FLICKER', 'GLOSSY IBIS', 'GO AWAY BIRD', 'GOLD WING WARBLER', 'GOLDEN BOWER BIRD', 'GOLDEN CHEEKED WARBLER', 'GOLDEN CHLOROPHONIA', 'GOLDEN EAGLE', 'GOLDEN PARAKEET', 'GOLDEN PHEASANT', 'GOLDEN PIPIT', 'GOULDIAN FINCH', 'GRANDALA', 'GRAY CATBIRD', 'GRAY KINGBIRD', 'GRAY PARTRIDGE', 'GREAT ARGUS', 'GREAT GRAY OWL', 'GREAT JACAMAR', 'GREAT KISKADEE', 'GREAT POTOO', 'GREAT TINAMOU', 'GREAT XENOPS', 'GREATER PEWEE', 'GREATER PRAIRIE CHICKEN', 'GREATOR SAGE GROUSE', 'GREEN BROADBILL', 'GREEN JAY', 'GREEN MAGPIE', 'GREEN WINGED DOVE', 'GREY CUCKOOSHRIKE', 'GREY HEADED CHACHALACA', 'GREY HEADED FISH EAGLE', 'GREY PLOVER', 'GROVED BILLED ANI', 'GUINEA TURACO', 'GUINEAFOWL', 'GURNEYS PITTA', 'GYRFALCON', 'HAMERKOP', 'HARLEQUIN DUCK', 'HARLEQUIN QUAIL', 'HARPY EAGLE', 'HAWAIIAN GOOSE', 'HAWFINCH', 'HELMET VANGA', 'HEPATIC TANAGER', 'HIMALAYAN BLUETAIL', 'HIMALAYAN MONAL', 'HOATZIN', 'HOODED MERGANSER', 'HOOPOES', 'HORNED GUAN', 'HORNED LARK', 'HORNED SUNGEM', 'HOUSE FINCH', 'HOUSE SPARROW', 'HYACINTH MACAW', 'IBERIAN MAGPIE', 'IBISBILL', 'IMPERIAL SHAQ', 'INCA TERN', 'INDIAN BUSTARD', 'INDIAN PITTA', 'INDIAN ROLLER', 'INDIAN VULTURE', 'INDIGO BUNTING', 'INDIGO FLYCATCHER', 'INLAND DOTTEREL', 'IVORY BILLED ARACARI', 'IVORY GULL', 'IWI', 'JABIRU', 'JACK SNIPE', 'JACOBIN PIGEON', 'JANDAYA PARAKEET', 'JAPANESE ROBIN', 'JAVA SPARROW', 'JOCOTOCO ANTPITTA', 'KAGU', 'KAKAPO', 'KILLDEAR', 'KING EIDER', 'KING VULTURE', 'KIWI', 'KNOB BILLED DUCK', 'KOOKABURRA', 'LARK BUNTING', 'LAUGHING GULL', 'LAZULI BUNTING', 'LESSER ADJUTANT', 'LILAC ROLLER', 'LIMPKIN', 'LITTLE AUK', 'LOGGERHEAD SHRIKE', 'LONG-EARED OWL', 'LOONEY BIRDS', 'LUCIFER HUMMINGBIRD', 'MAGPIE GOOSE', 'MALABAR HORNBILL', 'MALACHITE KINGFISHER', 'MALAGASY WHITE EYE', 'MALEO', 'MALLARD DUCK', 'MANDRIN DUCK', 'MANGROVE CUCKOO', 'MARABOU STORK', 'MASKED BOBWHITE', 'MASKED BOOBY', 'MASKED LAPWING', 'MCKAYS BUNTING', 'MERLIN', 'MIKADO  PHEASANT', 'MILITARY MACAW', 'MOURNING DOVE', 'MYNA', 'NICOBAR PIGEON', 'NOISY FRIARBIRD', 'NORTHERN BEARDLESS TYRANNULET', 'NORTHERN CARDINAL', 'NORTHERN FLICKER', 'NORTHERN FULMAR', 'NORTHERN GANNET', 'NORTHERN GOSHAWK', 'NORTHERN JACANA', 'NORTHERN MOCKINGBIRD', 'NORTHERN PARULA', 'NORTHERN RED BISHOP', 'NORTHERN SHOVELER', 'OCELLATED TURKEY', 'OILBIRD', 'OKINAWA RAIL', 'ORANGE BREASTED TROGON', 'ORANGE BRESTED BUNTING', 'ORIENTAL BAY OWL', 'ORNATE HAWK EAGLE', 'OSPREY', 'OSTRICH', 'OVENBIRD', 'OYSTER CATCHER', 'PAINTED BUNTING', 'PALILA', 'PALM NUT VULTURE', 'PARADISE TANAGER', 'PARAKETT  AUKLET', 'PARAKETT AUKLET', 'PARUS MAJOR', 'PATAGONIAN SIERRA FINCH', 'PEACOCK', 'PEREGRINE FALCON', 'PHAINOPEPLA', 'PHILIPPINE EAGLE', 'PINK ROBIN', 'PLUSH CRESTED JAY', 'POMARINE JAEGER', 'PUFFIN', 'PUNA TEAL', 'PURPLE FINCH', 'PURPLE GALLINULE', 'PURPLE MARTIN', 'PURPLE SWAMPHEN', 'PYGMY KINGFISHER', 'PYRRHULOXIA', 'QUETZAL', 'RAINBOW LORIKEET', 'RAZORBILL', 'RED BEARDED BEE EATER', 'RED BELLIED PITTA', 'RED BILLED TROPICBIRD', 'RED BROWED FINCH', 'RED CROSSBILL', 'RED FACED CORMORANT', 'RED FACED WARBLER', 'RED FODY', 'RED HEADED DUCK', 'RED HEADED WOODPECKER', 'RED KNOT', 'RED LEGGED HONEYCREEPER', 'RED NAPED TROGON', 'RED SHOULDERED HAWK', 'RED TAILED HAWK', 'RED TAILED THRUSH', 'RED WINGED BLACKBIRD', 'RED WISKERED BULBUL', 'REGENT BOWERBIRD', 'RING-NECKED PHEASANT', 'ROADRUNNER', 'ROCK DOVE', 'ROSE BREASTED COCKATOO', 'ROSE BREASTED GROSBEAK', 'ROSEATE SPOONBILL', 'ROSY FACED LOVEBIRD', 'ROUGH LEG BUZZARD', 'ROYAL FLYCATCHER', 'RUBY CROWNED KINGLET', 'RUBY THROATED HUMMINGBIRD', 'RUDDY SHELDUCK', 'RUDY KINGFISHER', 'RUFOUS KINGFISHER', 'RUFOUS TREPE', 'RUFUOS MOTMOT', 'SAMATRAN THRUSH', 'SAND MARTIN', 'SANDHILL CRANE', 'SATYR TRAGOPAN', 'SAYS PHOEBE', 'SCARLET CROWNED FRUIT DOVE', 'SCARLET FACED LIOCICHLA', 'SCARLET IBIS', 'SCARLET MACAW', 'SCARLET TANAGER', 'SHOEBILL', 'SHORT BILLED DOWITCHER', 'SMITHS LONGSPUR', 'SNOW GOOSE', 'SNOW PARTRIDGE', 'SNOWY EGRET', 'SNOWY OWL', 'SNOWY PLOVER', 'SNOWY SHEATHBILL', 'SORA', 'SPANGLED COTINGA', 'SPLENDID WREN', 'SPOON BILED SANDPIPER', 'SPOTTED CATBIRD', 'SPOTTED WHISTLING DUCK', 'SQUACCO HERON', 'SRI LANKA BLUE MAGPIE', 'STEAMER DUCK', 'STORK BILLED KINGFISHER', 'STRIATED CARACARA', 'STRIPED OWL', 'STRIPPED MANAKIN', 'STRIPPED SWALLOW', 'SUNBITTERN', 'SUPERB STARLING', 'SURF SCOTER', 'SWINHOES PHEASANT', 'TAILORBIRD', 'TAIWAN MAGPIE', 'TAKAHE', 'TASMANIAN HEN', 'TAWNY FROGMOUTH', 'TEAL DUCK', 'TIT MOUSE', 'TOUCHAN', 'TOWNSENDS WARBLER', 'TREE SWALLOW', 'TRICOLORED BLACKBIRD', 'TROPICAL KINGBIRD', 'TRUMPTER SWAN', 'TURKEY VULTURE', 'TURQUOISE MOTMOT', 'UMBRELLA BIRD', 'VARIED THRUSH', 'VEERY', 'VENEZUELIAN TROUPIAL', 'VERDIN', 'VERMILION FLYCATHER', 'VICTORIA CROWNED PIGEON', 'VIOLET BACKED STARLING', 'VIOLET CUCKOO', 'VIOLET GREEN SWALLOW', 'VIOLET TURACO', 'VISAYAN HORNBILL', 'VULTURINE GUINEAFOWL', 'WALL CREAPER', 'WATTLED CURASSOW', 'WATTLED LAPWING', 'WHIMBREL', 'WHITE BREASTED WATERHEN', 'WHITE BROWED CRAKE', 'WHITE CHEEKED TURACO', 'WHITE CRESTED HORNBILL', 'WHITE EARED HUMMINGBIRD', 'WHITE NECKED RAVEN', 'WHITE TAILED TROPIC', 'WHITE THROATED BEE EATER', 'WILD TURKEY', 'WILLOW PTARMIGAN', 'WILSONS BIRD OF PARADISE', 'WOOD DUCK', 'WOOD THRUSH', 'WOODLAND KINGFISHER', 'WRENTIT', 'YELLOW BELLIED FLOWERPECKER', 'YELLOW BREASTED CHAT', 'YELLOW CACIQUE', 'YELLOW HEADED BLACKBIRD', 'ZEBRA DOVE'])"
      ]
     },
     "execution_count": 23,
     "metadata": {},
     "output_type": "execute_result"
    }
   ],
   "source": [
    "results = sess.run([output_name], {input_name: hot_dog_tensor_onnx})[0]\n",
    "labels[np.argmax(results)], results, labels"
   ]
  },
  {
   "cell_type": "markdown",
   "metadata": {},
   "source": [
    "**If correct, all three model versions (FastAI, PyTorch, ONNX) have the same results (with minor differences).**"
   ]
  },
  {
   "cell_type": "markdown",
   "metadata": {},
   "source": [
    "## Inference time\n",
    "\n",
    "One of the advantages of ONNX runtime - in most of the cases it's faster than it's original format. Let's see if that holds up."
   ]
  },
  {
   "cell_type": "markdown",
   "metadata": {},
   "source": [
    "### FastAI"
   ]
  },
  {
   "cell_type": "code",
   "execution_count": 17,
   "metadata": {},
   "outputs": [
    {
     "name": "stdout",
     "output_type": "stream",
     "text": [
      "CPU times: user 2 µs, sys: 1 µs, total: 3 µs\n",
      "Wall time: 6.44 µs\n"
     ]
    },
    {
     "data": {
      "text/html": [
       "\n",
       "<style>\n",
       "    /* Turns off some styling */\n",
       "    progress {\n",
       "        /* gets rid of default border in Firefox and Opera. */\n",
       "        border: none;\n",
       "        /* Needs to be in here for Safari polyfill so background images work as expected. */\n",
       "        background-size: auto;\n",
       "    }\n",
       "    progress:not([value]), progress:not([value])::-webkit-progress-bar {\n",
       "        background: repeating-linear-gradient(45deg, #7e7e7e, #7e7e7e 10px, #5c5c5c 10px, #5c5c5c 20px);\n",
       "    }\n",
       "    .progress-bar-interrupted, .progress-bar-interrupted::-webkit-progress-bar {\n",
       "        background: #F44336;\n",
       "    }\n",
       "</style>\n"
      ],
      "text/plain": [
       "<IPython.core.display.HTML object>"
      ]
     },
     "metadata": {},
     "output_type": "display_data"
    },
    {
     "data": {
      "text/html": [],
      "text/plain": [
       "<IPython.core.display.HTML object>"
      ]
     },
     "metadata": {},
     "output_type": "display_data"
    },
    {
     "data": {
      "text/plain": [
       "('ROADRUNNER',\n",
       " tensor(422),\n",
       " tensor([6.5983e-14, 2.2859e-13, 5.9723e-12, 7.7789e-13, 1.5575e-12, 3.2188e-14,\n",
       "         7.9489e-15, 1.3908e-10, 3.5392e-16, 8.0554e-15, 8.7294e-14, 4.9873e-14,\n",
       "         1.5486e-14, 1.5034e-12, 9.4583e-14, 6.2127e-13, 6.7510e-15, 4.8466e-15,\n",
       "         7.4699e-15, 5.3998e-14, 7.7535e-16, 1.0335e-11, 2.3246e-13, 1.1478e-13,\n",
       "         4.0351e-14, 4.7952e-15, 1.2747e-14, 3.7469e-14, 4.8960e-13, 2.5345e-11,\n",
       "         2.9240e-15, 1.8969e-16, 3.9972e-11, 3.6214e-14, 2.6427e-15, 2.2619e-13,\n",
       "         6.9356e-12, 9.2867e-16, 8.5566e-13, 1.8381e-14, 5.1385e-15, 2.0151e-13,\n",
       "         1.2745e-13, 5.1696e-11, 4.9146e-10, 4.1472e-11, 2.5322e-13, 1.6292e-14,\n",
       "         1.3606e-11, 1.6115e-14, 9.0644e-17, 9.7111e-14, 1.5005e-13, 3.6555e-15,\n",
       "         9.6599e-13, 3.9306e-13, 8.2510e-12, 2.9404e-15, 2.1990e-09, 1.0551e-13,\n",
       "         3.6785e-14, 4.3111e-15, 9.5979e-11, 2.9967e-15, 7.0435e-12, 2.3685e-10,\n",
       "         8.6018e-13, 4.7681e-13, 2.7982e-12, 8.5201e-12, 1.5925e-15, 1.1203e-12,\n",
       "         5.5440e-14, 9.0330e-13, 9.7582e-14, 1.5968e-14, 4.5610e-15, 9.4590e-14,\n",
       "         5.7754e-09, 2.9837e-12, 5.7143e-13, 1.8341e-11, 1.3531e-14, 1.0480e-14,\n",
       "         2.5492e-15, 7.3791e-13, 4.6752e-13, 2.8321e-13, 3.8579e-12, 3.6630e-14,\n",
       "         7.5566e-12, 5.9750e-13, 5.5508e-15, 5.9387e-14, 4.8978e-12, 5.4592e-15,\n",
       "         4.3680e-15, 7.2878e-13, 2.0741e-15, 2.1466e-13, 1.6715e-14, 9.7329e-13,\n",
       "         1.0525e-13, 1.4200e-15, 1.3111e-13, 7.5414e-15, 1.4313e-13, 1.6479e-13,\n",
       "         8.9043e-13, 2.1899e-15, 3.4422e-12, 6.0268e-17, 1.8808e-15, 9.8652e-10,\n",
       "         2.6088e-13, 2.3272e-15, 1.4311e-10, 8.6435e-14, 1.5267e-11, 4.2603e-11,\n",
       "         1.6707e-10, 6.4367e-15, 5.2488e-14, 1.0883e-11, 1.5138e-12, 5.6542e-15,\n",
       "         1.3388e-14, 1.7288e-13, 2.8166e-11, 4.2301e-15, 9.7316e-13, 1.3212e-13,\n",
       "         4.0401e-16, 2.8719e-10, 5.5198e-11, 5.9604e-13, 1.4424e-13, 6.0115e-15,\n",
       "         1.1683e-11, 1.1248e-12, 9.8220e-16, 6.0912e-10, 3.5530e-13, 1.9573e-10,\n",
       "         1.8080e-14, 1.1703e-13, 2.7678e-13, 9.5690e-12, 6.9575e-14, 4.4808e-13,\n",
       "         1.9512e-12, 3.7674e-15, 9.8848e-13, 2.3375e-13, 5.7636e-15, 1.1797e-10,\n",
       "         3.2519e-15, 8.9069e-15, 1.8115e-11, 1.1926e-11, 1.5114e-12, 1.1147e-11,\n",
       "         1.0235e-11, 6.2276e-16, 2.4007e-11, 7.9970e-11, 1.0194e-15, 4.0861e-14,\n",
       "         8.2878e-14, 8.2179e-13, 5.3811e-12, 3.6651e-12, 2.6161e-09, 2.5854e-15,\n",
       "         7.2708e-15, 1.1499e-13, 4.9737e-13, 2.2720e-13, 1.9263e-13, 1.1905e-11,\n",
       "         1.1830e-13, 1.4877e-13, 5.0271e-13, 2.7040e-11, 1.2945e-09, 8.0866e-14,\n",
       "         6.7052e-14, 1.7961e-13, 1.0172e-13, 3.2470e-13, 1.0238e-13, 1.0857e-12,\n",
       "         2.8772e-14, 3.8353e-14, 5.2768e-14, 3.3053e-14, 8.0002e-12, 8.1833e-12,\n",
       "         1.0857e-13, 2.0431e-14, 3.5604e-13, 3.0790e-12, 2.1226e-13, 1.7369e-12,\n",
       "         1.5447e-15, 9.2852e-13, 5.0526e-13, 1.9703e-14, 8.4217e-14, 3.5990e-12,\n",
       "         3.2556e-15, 4.2646e-13, 1.0712e-12, 7.3672e-15, 7.8769e-14, 5.7484e-14,\n",
       "         6.2234e-11, 3.1784e-15, 1.6558e-13, 2.9646e-15, 7.8423e-15, 3.4603e-10,\n",
       "         2.6434e-11, 1.1486e-12, 1.3196e-10, 1.1560e-11, 1.3760e-13, 3.0262e-13,\n",
       "         4.1900e-12, 4.2257e-12, 9.6228e-12, 6.8334e-12, 1.9663e-16, 1.4362e-11,\n",
       "         6.5783e-16, 1.1521e-13, 3.9868e-14, 1.0787e-13, 1.2583e-11, 1.0784e-15,\n",
       "         3.3437e-12, 6.1851e-14, 1.1186e-12, 3.4295e-15, 4.9701e-14, 4.9450e-12,\n",
       "         7.5843e-13, 2.0882e-13, 3.4012e-12, 1.8443e-14, 1.2515e-11, 1.2246e-14,\n",
       "         5.4249e-14, 1.2381e-14, 8.8039e-13, 1.1644e-13, 2.0198e-15, 6.6331e-13,\n",
       "         9.0389e-15, 5.6705e-13, 3.7738e-10, 2.6867e-12, 1.3354e-13, 1.0193e-13,\n",
       "         1.9970e-12, 5.3539e-16, 8.9835e-14, 1.7570e-11, 1.3936e-13, 1.3192e-11,\n",
       "         1.3643e-12, 2.0083e-14, 5.4383e-13, 1.3349e-12, 1.4287e-13, 1.8327e-13,\n",
       "         6.3658e-16, 6.7959e-13, 9.6744e-15, 1.3282e-12, 1.6614e-14, 4.5705e-14,\n",
       "         2.9485e-13, 6.7467e-14, 4.3236e-12, 3.3381e-10, 8.8280e-13, 2.8566e-13,\n",
       "         4.0921e-14, 2.9221e-13, 1.3790e-12, 1.2820e-14, 2.8548e-14, 1.7035e-14,\n",
       "         8.4690e-11, 6.5653e-14, 6.1471e-11, 2.6851e-14, 4.2542e-11, 3.8332e-12,\n",
       "         1.9242e-12, 1.1718e-13, 1.4719e-14, 2.5219e-13, 8.5168e-14, 1.7887e-14,\n",
       "         8.9377e-13, 2.5331e-14, 3.8179e-12, 1.6089e-14, 1.0839e-14, 4.6071e-15,\n",
       "         1.1888e-14, 1.8697e-14, 1.2653e-13, 9.9905e-15, 2.6736e-15, 1.4685e-12,\n",
       "         2.7773e-15, 2.0077e-11, 9.0351e-12, 6.3310e-12, 7.8482e-14, 8.4166e-14,\n",
       "         6.8471e-12, 2.4810e-14, 1.1386e-11, 3.6296e-16, 4.1253e-09, 1.8425e-12,\n",
       "         7.2110e-13, 1.8566e-12, 1.6733e-13, 3.1490e-15, 3.9561e-13, 7.1355e-14,\n",
       "         9.4298e-11, 3.6076e-13, 5.6030e-13, 3.5756e-10, 1.8217e-13, 4.1003e-13,\n",
       "         1.1901e-12, 1.3293e-11, 7.6050e-15, 4.2880e-13, 9.7263e-16, 1.4031e-11,\n",
       "         4.7770e-14, 1.6595e-15, 1.3417e-15, 4.9757e-12, 2.7276e-14, 1.2748e-12,\n",
       "         2.7414e-11, 7.2218e-12, 2.7794e-14, 4.6592e-17, 2.8800e-12, 1.2196e-10,\n",
       "         1.0625e-13, 3.9670e-10, 1.6121e-14, 3.4943e-12, 9.9722e-14, 2.0921e-15,\n",
       "         1.3352e-14, 8.6510e-13, 7.0617e-13, 2.7575e-12, 6.2517e-15, 6.6328e-14,\n",
       "         2.4224e-13, 4.0632e-12, 4.8389e-14, 1.4244e-11, 1.3327e-11, 6.4842e-15,\n",
       "         1.9212e-14, 1.4594e-14, 4.0483e-15, 3.0692e-13, 2.6732e-12, 2.0573e-13,\n",
       "         3.8410e-13, 3.8842e-13, 4.1326e-13, 3.8696e-12, 1.1209e-13, 1.0264e-10,\n",
       "         2.0238e-13, 1.2826e-14, 4.5969e-13, 1.7336e-14, 6.1391e-15, 6.5201e-13,\n",
       "         1.0885e-15, 8.3710e-13, 4.1635e-14, 1.2939e-13, 2.8757e-11, 1.2987e-13,\n",
       "         4.8357e-15, 1.2687e-13, 2.4128e-13, 4.1628e-15, 3.1196e-16, 3.4922e-14,\n",
       "         2.0495e-11, 4.3028e-14, 8.0252e-15, 2.3181e-12, 4.2645e-14, 2.2204e-14,\n",
       "         4.7265e-13, 1.4350e-13, 3.5093e-14, 8.7666e-14, 1.1504e-12, 1.0921e-11,\n",
       "         1.7235e-13, 1.1365e-11, 1.0000e+00, 9.7227e-14, 1.3498e-14, 3.6758e-12,\n",
       "         1.2292e-15, 3.7252e-16, 9.6634e-13, 2.9251e-13, 6.7003e-15, 5.5995e-11,\n",
       "         4.4882e-14, 7.3076e-13, 1.2265e-11, 3.5023e-12, 1.5878e-13, 1.2408e-15,\n",
       "         6.3314e-13, 2.9317e-15, 8.9980e-13, 3.0177e-11, 1.2650e-15, 1.6735e-12,\n",
       "         8.6473e-14, 8.5314e-15, 1.0342e-13, 6.2273e-14, 7.0714e-13, 7.7355e-12,\n",
       "         1.0761e-14, 8.4522e-13, 5.6768e-14, 5.6885e-14, 1.4894e-14, 3.1573e-13,\n",
       "         5.5788e-13, 7.3539e-13, 4.5689e-12, 2.5879e-13, 2.2953e-13, 1.1761e-12,\n",
       "         4.6006e-12, 1.7006e-12, 1.5554e-14, 6.8813e-14, 1.0679e-11, 1.4734e-13,\n",
       "         9.5285e-15, 4.5270e-12, 2.5291e-13, 4.2756e-13, 2.7304e-16, 1.0986e-11,\n",
       "         2.2500e-12, 3.8759e-12, 2.1925e-16, 4.4306e-15, 3.7014e-13, 8.4192e-15,\n",
       "         2.7147e-12, 7.4987e-14, 3.3944e-14, 3.0001e-13, 3.1101e-13, 1.2719e-11,\n",
       "         7.3624e-15, 4.8344e-14, 1.5141e-13, 5.0416e-13, 1.8164e-12, 2.0888e-14,\n",
       "         1.5546e-12, 1.7871e-14, 9.4217e-14, 2.2572e-14, 5.1297e-10, 6.9532e-14,\n",
       "         3.8191e-15, 1.4494e-15, 5.5802e-14, 1.1397e-12, 7.4733e-14, 1.5343e-10,\n",
       "         5.3353e-11, 5.5805e-10, 1.6496e-14, 1.9106e-13, 8.1403e-14, 7.8077e-15,\n",
       "         2.6208e-13, 9.2190e-15, 2.1844e-12, 1.2161e-14, 1.5956e-15, 1.0542e-12,\n",
       "         6.1758e-14, 1.2342e-12, 1.1294e-12, 5.9868e-15, 2.3762e-12, 3.3040e-14,\n",
       "         3.8402e-09, 2.1567e-15, 8.4140e-15, 4.5226e-13]))"
      ]
     },
     "execution_count": 17,
     "metadata": {},
     "output_type": "execute_result"
    }
   ],
   "source": [
    "%time\n",
    "learn.predict('test.jpg')"
   ]
  },
  {
   "cell_type": "markdown",
   "metadata": {},
   "source": [
    "### PyTorch"
   ]
  },
  {
   "cell_type": "code",
   "execution_count": 18,
   "metadata": {},
   "outputs": [
    {
     "name": "stdout",
     "output_type": "stream",
     "text": [
      "CPU times: user 2 µs, sys: 0 ns, total: 2 µs\n",
      "Wall time: 4.77 µs\n",
      "Tensor shape:  torch.Size([1, 3, 256, 256])\n"
     ]
    },
    {
     "data": {
      "text/plain": [
       "('ROADRUNNER',\n",
       " array([[0.        , 0.        , 0.        , 0.        , 0.        ,\n",
       "         0.        , 0.        , 0.        , 0.        , 0.        ,\n",
       "         0.        , 0.        , 0.        , 0.        , 0.        ,\n",
       "         0.        , 0.        , 0.        , 0.        , 0.        ,\n",
       "         0.        , 0.        , 0.        , 0.        , 0.        ,\n",
       "         0.        , 0.        , 0.        , 0.        , 0.        ,\n",
       "         0.        , 0.        , 0.        , 0.        , 0.        ,\n",
       "         0.        , 0.        , 0.        , 0.        , 0.        ,\n",
       "         0.        , 0.        , 0.        , 0.        , 0.        ,\n",
       "         0.        , 0.        , 0.        , 0.        , 0.        ,\n",
       "         0.        , 0.        , 0.        , 0.        , 0.        ,\n",
       "         0.        , 0.        , 0.        , 0.        , 0.        ,\n",
       "         0.        , 0.        , 0.        , 0.        , 0.        ,\n",
       "         0.        , 0.        , 0.        , 0.        , 0.        ,\n",
       "         0.        , 0.        , 0.        , 0.        , 0.        ,\n",
       "         0.        , 0.        , 0.        , 0.00000001, 0.        ,\n",
       "         0.        , 0.        , 0.        , 0.        , 0.        ,\n",
       "         0.        , 0.        , 0.        , 0.        , 0.        ,\n",
       "         0.        , 0.        , 0.        , 0.        , 0.        ,\n",
       "         0.        , 0.        , 0.        , 0.        , 0.        ,\n",
       "         0.        , 0.        , 0.        , 0.        , 0.        ,\n",
       "         0.        , 0.        , 0.        , 0.        , 0.        ,\n",
       "         0.        , 0.        , 0.        , 0.        , 0.        ,\n",
       "         0.        , 0.        , 0.        , 0.        , 0.        ,\n",
       "         0.        , 0.        , 0.        , 0.        , 0.        ,\n",
       "         0.        , 0.        , 0.        , 0.        , 0.        ,\n",
       "         0.        , 0.        , 0.        , 0.        , 0.        ,\n",
       "         0.        , 0.        , 0.        , 0.        , 0.        ,\n",
       "         0.        , 0.        , 0.        , 0.        , 0.        ,\n",
       "         0.        , 0.        , 0.        , 0.        , 0.        ,\n",
       "         0.        , 0.        , 0.        , 0.        , 0.        ,\n",
       "         0.        , 0.        , 0.        , 0.        , 0.        ,\n",
       "         0.        , 0.        , 0.        , 0.        , 0.        ,\n",
       "         0.        , 0.        , 0.        , 0.        , 0.        ,\n",
       "         0.        , 0.        , 0.        , 0.        , 0.        ,\n",
       "         0.        , 0.        , 0.        , 0.        , 0.        ,\n",
       "         0.        , 0.        , 0.        , 0.        , 0.00000001,\n",
       "         0.        , 0.        , 0.        , 0.        , 0.        ,\n",
       "         0.        , 0.        , 0.        , 0.        , 0.        ,\n",
       "         0.        , 0.        , 0.        , 0.        , 0.        ,\n",
       "         0.        , 0.        , 0.        , 0.        , 0.        ,\n",
       "         0.        , 0.        , 0.        , 0.        , 0.        ,\n",
       "         0.        , 0.        , 0.        , 0.        , 0.        ,\n",
       "         0.        , 0.        , 0.        , 0.        , 0.        ,\n",
       "         0.        , 0.        , 0.        , 0.        , 0.        ,\n",
       "         0.        , 0.        , 0.        , 0.        , 0.        ,\n",
       "         0.        , 0.        , 0.        , 0.        , 0.        ,\n",
       "         0.        , 0.        , 0.        , 0.        , 0.        ,\n",
       "         0.        , 0.        , 0.        , 0.        , 0.        ,\n",
       "         0.        , 0.        , 0.        , 0.        , 0.        ,\n",
       "         0.        , 0.        , 0.        , 0.        , 0.        ,\n",
       "         0.        , 0.        , 0.        , 0.        , 0.        ,\n",
       "         0.        , 0.        , 0.        , 0.        , 0.        ,\n",
       "         0.        , 0.        , 0.        , 0.        , 0.        ,\n",
       "         0.        , 0.        , 0.        , 0.        , 0.        ,\n",
       "         0.        , 0.        , 0.        , 0.        , 0.        ,\n",
       "         0.        , 0.        , 0.        , 0.        , 0.        ,\n",
       "         0.        , 0.        , 0.        , 0.        , 0.        ,\n",
       "         0.        , 0.        , 0.        , 0.        , 0.        ,\n",
       "         0.        , 0.        , 0.        , 0.        , 0.        ,\n",
       "         0.        , 0.        , 0.        , 0.        , 0.        ,\n",
       "         0.        , 0.        , 0.        , 0.        , 0.        ,\n",
       "         0.        , 0.        , 0.        , 0.        , 0.        ,\n",
       "         0.        , 0.        , 0.        , 0.        , 0.        ,\n",
       "         0.        , 0.        , 0.        , 0.        , 0.        ,\n",
       "         0.        , 0.        , 0.        , 0.00000002, 0.        ,\n",
       "         0.        , 0.        , 0.        , 0.        , 0.        ,\n",
       "         0.        , 0.        , 0.        , 0.        , 0.        ,\n",
       "         0.        , 0.        , 0.        , 0.        , 0.        ,\n",
       "         0.        , 0.        , 0.        , 0.        , 0.        ,\n",
       "         0.        , 0.        , 0.        , 0.        , 0.        ,\n",
       "         0.        , 0.        , 0.        , 0.        , 0.        ,\n",
       "         0.        , 0.        , 0.        , 0.        , 0.        ,\n",
       "         0.        , 0.        , 0.        , 0.        , 0.        ,\n",
       "         0.        , 0.        , 0.        , 0.        , 0.        ,\n",
       "         0.        , 0.        , 0.        , 0.        , 0.        ,\n",
       "         0.        , 0.        , 0.        , 0.        , 0.        ,\n",
       "         0.        , 0.        , 0.        , 0.        , 0.        ,\n",
       "         0.        , 0.        , 0.        , 0.        , 0.        ,\n",
       "         0.        , 0.        , 0.        , 0.        , 0.        ,\n",
       "         0.        , 0.        , 0.        , 0.        , 0.        ,\n",
       "         0.        , 0.        , 0.        , 0.        , 0.        ,\n",
       "         0.        , 0.        , 0.        , 0.        , 0.        ,\n",
       "         0.        , 0.        , 0.        , 0.        , 0.        ,\n",
       "         0.        , 0.        , 1.        , 0.        , 0.        ,\n",
       "         0.        , 0.        , 0.        , 0.        , 0.        ,\n",
       "         0.        , 0.        , 0.        , 0.        , 0.        ,\n",
       "         0.        , 0.        , 0.        , 0.        , 0.        ,\n",
       "         0.        , 0.        , 0.        , 0.        , 0.        ,\n",
       "         0.        , 0.        , 0.        , 0.        , 0.        ,\n",
       "         0.        , 0.        , 0.        , 0.        , 0.        ,\n",
       "         0.        , 0.        , 0.        , 0.        , 0.        ,\n",
       "         0.        , 0.        , 0.        , 0.        , 0.        ,\n",
       "         0.        , 0.        , 0.        , 0.        , 0.        ,\n",
       "         0.        , 0.        , 0.        , 0.        , 0.        ,\n",
       "         0.        , 0.        , 0.        , 0.        , 0.        ,\n",
       "         0.        , 0.        , 0.        , 0.        , 0.        ,\n",
       "         0.        , 0.        , 0.        , 0.        , 0.        ,\n",
       "         0.        , 0.        , 0.        , 0.        , 0.        ,\n",
       "         0.        , 0.        , 0.        , 0.        , 0.        ,\n",
       "         0.        , 0.        , 0.        , 0.        , 0.        ,\n",
       "         0.        , 0.        , 0.        , 0.        , 0.        ,\n",
       "         0.        , 0.        , 0.        , 0.        , 0.        ,\n",
       "         0.        , 0.        , 0.        , 0.        , 0.        ,\n",
       "         0.        , 0.        , 0.        , 0.        , 0.        ,\n",
       "         0.        ]]))"
      ]
     },
     "execution_count": 18,
     "metadata": {},
     "output_type": "execute_result"
    }
   ],
   "source": [
    "%time\n",
    "\n",
    "hot_dog_tensor = image_transform('test.jpg', 256)\n",
    "\n",
    "with torch.no_grad():\n",
    "    results = final_model(hot_dog_tensor)\n",
    "labels[np.argmax(results.detach().numpy())], results.detach().numpy().astype(float)"
   ]
  },
  {
   "cell_type": "markdown",
   "metadata": {},
   "source": [
    "### ONNX"
   ]
  },
  {
   "cell_type": "code",
   "execution_count": 19,
   "metadata": {},
   "outputs": [
    {
     "name": "stdout",
     "output_type": "stream",
     "text": [
      "CPU times: user 15 µs, sys: 0 ns, total: 15 µs\n",
      "Wall time: 26.2 µs\n"
     ]
    },
    {
     "data": {
      "text/plain": [
       "('ROADRUNNER',\n",
       " array([[0.        , 0.        , 0.        , 0.        , 0.        ,\n",
       "         0.        , 0.        , 0.        , 0.        , 0.        ,\n",
       "         0.        , 0.        , 0.        , 0.        , 0.        ,\n",
       "         0.        , 0.        , 0.        , 0.        , 0.        ,\n",
       "         0.        , 0.        , 0.        , 0.        , 0.        ,\n",
       "         0.        , 0.        , 0.        , 0.        , 0.        ,\n",
       "         0.        , 0.        , 0.        , 0.        , 0.        ,\n",
       "         0.        , 0.        , 0.        , 0.        , 0.        ,\n",
       "         0.        , 0.        , 0.        , 0.        , 0.        ,\n",
       "         0.        , 0.        , 0.        , 0.        , 0.        ,\n",
       "         0.        , 0.        , 0.        , 0.        , 0.        ,\n",
       "         0.        , 0.        , 0.        , 0.00000001, 0.        ,\n",
       "         0.        , 0.        , 0.        , 0.        , 0.        ,\n",
       "         0.        , 0.        , 0.        , 0.        , 0.        ,\n",
       "         0.        , 0.        , 0.        , 0.        , 0.        ,\n",
       "         0.        , 0.        , 0.        , 0.00000002, 0.        ,\n",
       "         0.        , 0.        , 0.        , 0.        , 0.        ,\n",
       "         0.        , 0.        , 0.        , 0.        , 0.        ,\n",
       "         0.        , 0.        , 0.        , 0.        , 0.        ,\n",
       "         0.        , 0.        , 0.        , 0.        , 0.        ,\n",
       "         0.        , 0.        , 0.        , 0.        , 0.        ,\n",
       "         0.        , 0.        , 0.        , 0.        , 0.        ,\n",
       "         0.        , 0.        , 0.        , 0.        , 0.        ,\n",
       "         0.        , 0.        , 0.        , 0.        , 0.        ,\n",
       "         0.        , 0.        , 0.        , 0.        , 0.        ,\n",
       "         0.        , 0.        , 0.        , 0.        , 0.        ,\n",
       "         0.        , 0.        , 0.        , 0.        , 0.        ,\n",
       "         0.        , 0.        , 0.        , 0.        , 0.        ,\n",
       "         0.        , 0.        , 0.        , 0.        , 0.        ,\n",
       "         0.        , 0.        , 0.        , 0.        , 0.        ,\n",
       "         0.        , 0.        , 0.        , 0.        , 0.        ,\n",
       "         0.        , 0.        , 0.        , 0.        , 0.        ,\n",
       "         0.        , 0.        , 0.        , 0.        , 0.        ,\n",
       "         0.        , 0.        , 0.        , 0.        , 0.        ,\n",
       "         0.        , 0.        , 0.00000001, 0.        , 0.        ,\n",
       "         0.        , 0.        , 0.        , 0.        , 0.        ,\n",
       "         0.        , 0.        , 0.        , 0.        , 0.00000001,\n",
       "         0.        , 0.        , 0.        , 0.        , 0.        ,\n",
       "         0.        , 0.        , 0.        , 0.        , 0.        ,\n",
       "         0.        , 0.        , 0.        , 0.        , 0.        ,\n",
       "         0.        , 0.        , 0.        , 0.        , 0.        ,\n",
       "         0.        , 0.        , 0.        , 0.        , 0.        ,\n",
       "         0.        , 0.        , 0.        , 0.        , 0.        ,\n",
       "         0.        , 0.        , 0.        , 0.        , 0.        ,\n",
       "         0.        , 0.        , 0.        , 0.        , 0.        ,\n",
       "         0.        , 0.        , 0.        , 0.        , 0.        ,\n",
       "         0.        , 0.        , 0.        , 0.        , 0.        ,\n",
       "         0.        , 0.        , 0.        , 0.        , 0.        ,\n",
       "         0.        , 0.        , 0.        , 0.        , 0.        ,\n",
       "         0.        , 0.        , 0.        , 0.        , 0.        ,\n",
       "         0.        , 0.        , 0.        , 0.        , 0.        ,\n",
       "         0.        , 0.        , 0.        , 0.        , 0.        ,\n",
       "         0.        , 0.        , 0.        , 0.        , 0.        ,\n",
       "         0.        , 0.        , 0.        , 0.        , 0.        ,\n",
       "         0.        , 0.        , 0.        , 0.        , 0.        ,\n",
       "         0.        , 0.        , 0.        , 0.        , 0.        ,\n",
       "         0.        , 0.        , 0.        , 0.        , 0.        ,\n",
       "         0.        , 0.        , 0.        , 0.        , 0.        ,\n",
       "         0.        , 0.        , 0.        , 0.        , 0.        ,\n",
       "         0.        , 0.        , 0.        , 0.        , 0.        ,\n",
       "         0.        , 0.        , 0.        , 0.        , 0.        ,\n",
       "         0.        , 0.        , 0.        , 0.        , 0.        ,\n",
       "         0.        , 0.        , 0.        , 0.        , 0.        ,\n",
       "         0.        , 0.        , 0.        , 0.        , 0.        ,\n",
       "         0.        , 0.        , 0.        , 0.        , 0.        ,\n",
       "         0.        , 0.        , 0.        , 0.00000003, 0.        ,\n",
       "         0.        , 0.        , 0.        , 0.        , 0.        ,\n",
       "         0.        , 0.        , 0.        , 0.        , 0.        ,\n",
       "         0.        , 0.        , 0.        , 0.        , 0.        ,\n",
       "         0.        , 0.        , 0.        , 0.        , 0.        ,\n",
       "         0.        , 0.        , 0.        , 0.        , 0.        ,\n",
       "         0.        , 0.        , 0.        , 0.        , 0.        ,\n",
       "         0.        , 0.        , 0.        , 0.        , 0.        ,\n",
       "         0.        , 0.        , 0.        , 0.        , 0.        ,\n",
       "         0.        , 0.        , 0.        , 0.        , 0.        ,\n",
       "         0.        , 0.        , 0.        , 0.        , 0.        ,\n",
       "         0.        , 0.        , 0.        , 0.        , 0.        ,\n",
       "         0.        , 0.        , 0.        , 0.        , 0.        ,\n",
       "         0.        , 0.        , 0.        , 0.        , 0.        ,\n",
       "         0.        , 0.        , 0.        , 0.        , 0.        ,\n",
       "         0.        , 0.        , 0.        , 0.        , 0.        ,\n",
       "         0.        , 0.        , 0.        , 0.        , 0.        ,\n",
       "         0.        , 0.        , 0.        , 0.        , 0.        ,\n",
       "         0.        , 0.        , 0.        , 0.        , 0.        ,\n",
       "         0.        , 0.        , 0.9999999 , 0.        , 0.        ,\n",
       "         0.        , 0.        , 0.        , 0.        , 0.        ,\n",
       "         0.        , 0.        , 0.        , 0.        , 0.        ,\n",
       "         0.        , 0.        , 0.        , 0.        , 0.        ,\n",
       "         0.        , 0.        , 0.        , 0.        , 0.        ,\n",
       "         0.        , 0.        , 0.        , 0.        , 0.        ,\n",
       "         0.        , 0.        , 0.        , 0.        , 0.        ,\n",
       "         0.        , 0.        , 0.        , 0.        , 0.        ,\n",
       "         0.        , 0.        , 0.        , 0.        , 0.        ,\n",
       "         0.        , 0.        , 0.        , 0.        , 0.        ,\n",
       "         0.        , 0.        , 0.        , 0.        , 0.        ,\n",
       "         0.        , 0.        , 0.        , 0.        , 0.        ,\n",
       "         0.        , 0.        , 0.        , 0.        , 0.        ,\n",
       "         0.        , 0.        , 0.        , 0.        , 0.        ,\n",
       "         0.        , 0.        , 0.        , 0.        , 0.        ,\n",
       "         0.        , 0.        , 0.        , 0.        , 0.        ,\n",
       "         0.        , 0.        , 0.        , 0.        , 0.        ,\n",
       "         0.        , 0.        , 0.        , 0.        , 0.        ,\n",
       "         0.        , 0.        , 0.        , 0.        , 0.        ,\n",
       "         0.        , 0.        , 0.        , 0.        , 0.        ,\n",
       "         0.        , 0.        , 0.        , 0.        , 0.        ,\n",
       "         0.        ]], dtype=float32),\n",
       " ['ABBOTTS BABBLER', 'ABBOTTS BOOBY', 'ABYSSINIAN GROUND HORNBILL', 'AFRICAN CROWNED CRANE', 'AFRICAN EMERALD CUCKOO', 'AFRICAN FIREFINCH', 'AFRICAN OYSTER CATCHER', 'AFRICAN PIED HORNBILL', 'AFRICAN PYGMY GOOSE', 'ALBATROSS', 'ALBERTS TOWHEE', 'ALEXANDRINE PARAKEET', 'ALPINE CHOUGH', 'ALTAMIRA YELLOWTHROAT', 'AMERICAN AVOCET', 'AMERICAN BITTERN', 'AMERICAN COOT', 'AMERICAN DIPPER', 'AMERICAN FLAMINGO', 'AMERICAN GOLDFINCH', 'AMERICAN KESTREL', 'AMERICAN PIPIT', 'AMERICAN REDSTART', 'AMERICAN ROBIN', 'AMERICAN WIGEON', 'AMETHYST WOODSTAR', 'ANDEAN GOOSE', 'ANDEAN LAPWING', 'ANDEAN SISKIN', 'ANHINGA', 'ANIANIAU', 'ANNAS HUMMINGBIRD', 'ANTBIRD', 'ANTILLEAN EUPHONIA', 'APAPANE', 'APOSTLEBIRD', 'ARARIPE MANAKIN', 'ASHY STORM PETREL', 'ASHY THRUSHBIRD', 'ASIAN CRESTED IBIS', 'ASIAN DOLLARD BIRD', 'ASIAN GREEN BEE EATER', 'ASIAN OPENBILL STORK', 'AUCKLAND SHAQ', 'AUSTRAL CANASTERO', 'AUSTRALASIAN FIGBIRD', 'AVADAVAT', 'AZARAS SPINETAIL', 'AZURE BREASTED PITTA', 'AZURE JAY', 'AZURE TANAGER', 'AZURE TIT', 'BAIKAL TEAL', 'BALD EAGLE', 'BALD IBIS', 'BALI STARLING', 'BALTIMORE ORIOLE', 'BANANAQUIT', 'BAND TAILED GUAN', 'BANDED BROADBILL', 'BANDED PITA', 'BANDED STILT', 'BAR-TAILED GODWIT', 'BARN OWL', 'BARN SWALLOW', 'BARRED PUFFBIRD', 'BARROWS GOLDENEYE', 'BAY-BREASTED WARBLER', 'BEARDED BARBET', 'BEARDED BELLBIRD', 'BEARDED REEDLING', 'BELTED KINGFISHER', 'BIRD OF PARADISE', 'BLACK AND YELLOW BROADBILL', 'BLACK BAZA', 'BLACK BREASTED PUFFBIRD', 'BLACK COCKATO', 'BLACK FACED SPOONBILL', 'BLACK FRANCOLIN', 'BLACK HEADED CAIQUE', 'BLACK NECKED STILT', 'BLACK SKIMMER', 'BLACK SWAN', 'BLACK TAIL CRAKE', 'BLACK THROATED BUSHTIT', 'BLACK THROATED HUET', 'BLACK THROATED WARBLER', 'BLACK VENTED SHEARWATER', 'BLACK VULTURE', 'BLACK-CAPPED CHICKADEE', 'BLACK-NECKED GREBE', 'BLACK-THROATED SPARROW', 'BLACKBURNIAM WARBLER', 'BLONDE CRESTED WOODPECKER', 'BLOOD PHEASANT', 'BLUE COAU', 'BLUE DACNIS', 'BLUE GRAY GNATCATCHER', 'BLUE GROSBEAK', 'BLUE GROUSE', 'BLUE HERON', 'BLUE MALKOHA', 'BLUE THROATED PIPING GUAN', 'BLUE THROATED TOUCANET', 'BOBOLINK', 'BORNEAN BRISTLEHEAD', 'BORNEAN LEAFBIRD', 'BORNEAN PHEASANT', 'BRANDT CORMARANT', 'BREWERS BLACKBIRD', 'BROWN CREPPER', 'BROWN HEADED COWBIRD', 'BROWN NOODY', 'BROWN THRASHER', 'BUFFLEHEAD', 'BULWERS PHEASANT', 'BURCHELLS COURSER', 'BUSH TURKEY', 'CAATINGA CACHOLOTE', 'CABOTS TRAGOPAN', 'CACTUS WREN', 'CALIFORNIA CONDOR', 'CALIFORNIA GULL', 'CALIFORNIA QUAIL', 'CAMPO FLICKER', 'CANARY', 'CANVASBACK', 'CAPE GLOSSY STARLING', 'CAPE LONGCLAW', 'CAPE MAY WARBLER', 'CAPE ROCK THRUSH', 'CAPPED HERON', 'CAPUCHINBIRD', 'CARMINE BEE-EATER', 'CASPIAN TERN', 'CASSOWARY', 'CEDAR WAXWING', 'CERULEAN WARBLER', 'CHARA DE COLLAR', 'CHATTERING LORY', 'CHESTNET BELLIED EUPHONIA', 'CHESTNUT WINGED CUCKOO', 'CHINESE BAMBOO PARTRIDGE', 'CHINESE POND HERON', 'CHIPPING SPARROW', 'CHUCAO TAPACULO', 'CHUKAR PARTRIDGE', 'CINNAMON ATTILA', 'CINNAMON FLYCATCHER', 'CINNAMON TEAL', 'CLARKS GREBE', 'CLARKS NUTCRACKER', 'COCK OF THE  ROCK', 'COCKATOO', 'COLLARED ARACARI', 'COLLARED CRESCENTCHEST', 'COMMON FIRECREST', 'COMMON GRACKLE', 'COMMON HOUSE MARTIN', 'COMMON IORA', 'COMMON LOON', 'COMMON POORWILL', 'COMMON STARLING', 'COPPERSMITH BARBET', 'COPPERY TAILED COUCAL', 'CRAB PLOVER', 'CRANE HAWK', 'CREAM COLORED WOODPECKER', 'CRESTED AUKLET', 'CRESTED CARACARA', 'CRESTED COUA', 'CRESTED FIREBACK', 'CRESTED KINGFISHER', 'CRESTED NUTHATCH', 'CRESTED OROPENDOLA', 'CRESTED SERPENT EAGLE', 'CRESTED SHRIKETIT', 'CRESTED WOOD PARTRIDGE', 'CRIMSON CHAT', 'CRIMSON SUNBIRD', 'CROW', 'CUBAN TODY', 'CUBAN TROGON', 'CURL CRESTED ARACURI', 'D-ARNAUDS BARBET', 'DALMATIAN PELICAN', 'DARJEELING WOODPECKER', 'DARK EYED JUNCO', 'DAURIAN REDSTART', 'DEMOISELLE CRANE', 'DOUBLE BARRED FINCH', 'DOUBLE BRESTED CORMARANT', 'DOUBLE EYED FIG PARROT', 'DOWNY WOODPECKER', 'DUNLIN', 'DUSKY LORY', 'DUSKY ROBIN', 'EARED PITA', 'EASTERN BLUEBIRD', 'EASTERN BLUEBONNET', 'EASTERN GOLDEN WEAVER', 'EASTERN MEADOWLARK', 'EASTERN ROSELLA', 'EASTERN TOWEE', 'EASTERN WIP POOR WILL', 'EASTERN YELLOW ROBIN', 'ECUADORIAN HILLSTAR', 'EGYPTIAN GOOSE', 'ELEGANT TROGON', 'ELLIOTS  PHEASANT', 'EMERALD TANAGER', 'EMPEROR PENGUIN', 'EMU', 'ENGGANO MYNA', 'EURASIAN BULLFINCH', 'EURASIAN GOLDEN ORIOLE', 'EURASIAN MAGPIE', 'EUROPEAN GOLDFINCH', 'EUROPEAN TURTLE DOVE', 'EVENING GROSBEAK', 'FAIRY BLUEBIRD', 'FAIRY PENGUIN', 'FAIRY TERN', 'FAN TAILED WIDOW', 'FASCIATED WREN', 'FIERY MINIVET', 'FIORDLAND PENGUIN', 'FIRE TAILLED MYZORNIS', 'FLAME BOWERBIRD', 'FLAME TANAGER', 'FOREST WAGTAIL', 'FRIGATE', 'FRILL BACK PIGEON', 'GAMBELS QUAIL', 'GANG GANG COCKATOO', 'GILA WOODPECKER', 'GILDED FLICKER', 'GLOSSY IBIS', 'GO AWAY BIRD', 'GOLD WING WARBLER', 'GOLDEN BOWER BIRD', 'GOLDEN CHEEKED WARBLER', 'GOLDEN CHLOROPHONIA', 'GOLDEN EAGLE', 'GOLDEN PARAKEET', 'GOLDEN PHEASANT', 'GOLDEN PIPIT', 'GOULDIAN FINCH', 'GRANDALA', 'GRAY CATBIRD', 'GRAY KINGBIRD', 'GRAY PARTRIDGE', 'GREAT ARGUS', 'GREAT GRAY OWL', 'GREAT JACAMAR', 'GREAT KISKADEE', 'GREAT POTOO', 'GREAT TINAMOU', 'GREAT XENOPS', 'GREATER PEWEE', 'GREATER PRAIRIE CHICKEN', 'GREATOR SAGE GROUSE', 'GREEN BROADBILL', 'GREEN JAY', 'GREEN MAGPIE', 'GREEN WINGED DOVE', 'GREY CUCKOOSHRIKE', 'GREY HEADED CHACHALACA', 'GREY HEADED FISH EAGLE', 'GREY PLOVER', 'GROVED BILLED ANI', 'GUINEA TURACO', 'GUINEAFOWL', 'GURNEYS PITTA', 'GYRFALCON', 'HAMERKOP', 'HARLEQUIN DUCK', 'HARLEQUIN QUAIL', 'HARPY EAGLE', 'HAWAIIAN GOOSE', 'HAWFINCH', 'HELMET VANGA', 'HEPATIC TANAGER', 'HIMALAYAN BLUETAIL', 'HIMALAYAN MONAL', 'HOATZIN', 'HOODED MERGANSER', 'HOOPOES', 'HORNED GUAN', 'HORNED LARK', 'HORNED SUNGEM', 'HOUSE FINCH', 'HOUSE SPARROW', 'HYACINTH MACAW', 'IBERIAN MAGPIE', 'IBISBILL', 'IMPERIAL SHAQ', 'INCA TERN', 'INDIAN BUSTARD', 'INDIAN PITTA', 'INDIAN ROLLER', 'INDIAN VULTURE', 'INDIGO BUNTING', 'INDIGO FLYCATCHER', 'INLAND DOTTEREL', 'IVORY BILLED ARACARI', 'IVORY GULL', 'IWI', 'JABIRU', 'JACK SNIPE', 'JACOBIN PIGEON', 'JANDAYA PARAKEET', 'JAPANESE ROBIN', 'JAVA SPARROW', 'JOCOTOCO ANTPITTA', 'KAGU', 'KAKAPO', 'KILLDEAR', 'KING EIDER', 'KING VULTURE', 'KIWI', 'KNOB BILLED DUCK', 'KOOKABURRA', 'LARK BUNTING', 'LAUGHING GULL', 'LAZULI BUNTING', 'LESSER ADJUTANT', 'LILAC ROLLER', 'LIMPKIN', 'LITTLE AUK', 'LOGGERHEAD SHRIKE', 'LONG-EARED OWL', 'LOONEY BIRDS', 'LUCIFER HUMMINGBIRD', 'MAGPIE GOOSE', 'MALABAR HORNBILL', 'MALACHITE KINGFISHER', 'MALAGASY WHITE EYE', 'MALEO', 'MALLARD DUCK', 'MANDRIN DUCK', 'MANGROVE CUCKOO', 'MARABOU STORK', 'MASKED BOBWHITE', 'MASKED BOOBY', 'MASKED LAPWING', 'MCKAYS BUNTING', 'MERLIN', 'MIKADO  PHEASANT', 'MILITARY MACAW', 'MOURNING DOVE', 'MYNA', 'NICOBAR PIGEON', 'NOISY FRIARBIRD', 'NORTHERN BEARDLESS TYRANNULET', 'NORTHERN CARDINAL', 'NORTHERN FLICKER', 'NORTHERN FULMAR', 'NORTHERN GANNET', 'NORTHERN GOSHAWK', 'NORTHERN JACANA', 'NORTHERN MOCKINGBIRD', 'NORTHERN PARULA', 'NORTHERN RED BISHOP', 'NORTHERN SHOVELER', 'OCELLATED TURKEY', 'OILBIRD', 'OKINAWA RAIL', 'ORANGE BREASTED TROGON', 'ORANGE BRESTED BUNTING', 'ORIENTAL BAY OWL', 'ORNATE HAWK EAGLE', 'OSPREY', 'OSTRICH', 'OVENBIRD', 'OYSTER CATCHER', 'PAINTED BUNTING', 'PALILA', 'PALM NUT VULTURE', 'PARADISE TANAGER', 'PARAKETT  AUKLET', 'PARAKETT AUKLET', 'PARUS MAJOR', 'PATAGONIAN SIERRA FINCH', 'PEACOCK', 'PEREGRINE FALCON', 'PHAINOPEPLA', 'PHILIPPINE EAGLE', 'PINK ROBIN', 'PLUSH CRESTED JAY', 'POMARINE JAEGER', 'PUFFIN', 'PUNA TEAL', 'PURPLE FINCH', 'PURPLE GALLINULE', 'PURPLE MARTIN', 'PURPLE SWAMPHEN', 'PYGMY KINGFISHER', 'PYRRHULOXIA', 'QUETZAL', 'RAINBOW LORIKEET', 'RAZORBILL', 'RED BEARDED BEE EATER', 'RED BELLIED PITTA', 'RED BILLED TROPICBIRD', 'RED BROWED FINCH', 'RED CROSSBILL', 'RED FACED CORMORANT', 'RED FACED WARBLER', 'RED FODY', 'RED HEADED DUCK', 'RED HEADED WOODPECKER', 'RED KNOT', 'RED LEGGED HONEYCREEPER', 'RED NAPED TROGON', 'RED SHOULDERED HAWK', 'RED TAILED HAWK', 'RED TAILED THRUSH', 'RED WINGED BLACKBIRD', 'RED WISKERED BULBUL', 'REGENT BOWERBIRD', 'RING-NECKED PHEASANT', 'ROADRUNNER', 'ROCK DOVE', 'ROSE BREASTED COCKATOO', 'ROSE BREASTED GROSBEAK', 'ROSEATE SPOONBILL', 'ROSY FACED LOVEBIRD', 'ROUGH LEG BUZZARD', 'ROYAL FLYCATCHER', 'RUBY CROWNED KINGLET', 'RUBY THROATED HUMMINGBIRD', 'RUDDY SHELDUCK', 'RUDY KINGFISHER', 'RUFOUS KINGFISHER', 'RUFOUS TREPE', 'RUFUOS MOTMOT', 'SAMATRAN THRUSH', 'SAND MARTIN', 'SANDHILL CRANE', 'SATYR TRAGOPAN', 'SAYS PHOEBE', 'SCARLET CROWNED FRUIT DOVE', 'SCARLET FACED LIOCICHLA', 'SCARLET IBIS', 'SCARLET MACAW', 'SCARLET TANAGER', 'SHOEBILL', 'SHORT BILLED DOWITCHER', 'SMITHS LONGSPUR', 'SNOW GOOSE', 'SNOW PARTRIDGE', 'SNOWY EGRET', 'SNOWY OWL', 'SNOWY PLOVER', 'SNOWY SHEATHBILL', 'SORA', 'SPANGLED COTINGA', 'SPLENDID WREN', 'SPOON BILED SANDPIPER', 'SPOTTED CATBIRD', 'SPOTTED WHISTLING DUCK', 'SQUACCO HERON', 'SRI LANKA BLUE MAGPIE', 'STEAMER DUCK', 'STORK BILLED KINGFISHER', 'STRIATED CARACARA', 'STRIPED OWL', 'STRIPPED MANAKIN', 'STRIPPED SWALLOW', 'SUNBITTERN', 'SUPERB STARLING', 'SURF SCOTER', 'SWINHOES PHEASANT', 'TAILORBIRD', 'TAIWAN MAGPIE', 'TAKAHE', 'TASMANIAN HEN', 'TAWNY FROGMOUTH', 'TEAL DUCK', 'TIT MOUSE', 'TOUCHAN', 'TOWNSENDS WARBLER', 'TREE SWALLOW', 'TRICOLORED BLACKBIRD', 'TROPICAL KINGBIRD', 'TRUMPTER SWAN', 'TURKEY VULTURE', 'TURQUOISE MOTMOT', 'UMBRELLA BIRD', 'VARIED THRUSH', 'VEERY', 'VENEZUELIAN TROUPIAL', 'VERDIN', 'VERMILION FLYCATHER', 'VICTORIA CROWNED PIGEON', 'VIOLET BACKED STARLING', 'VIOLET CUCKOO', 'VIOLET GREEN SWALLOW', 'VIOLET TURACO', 'VISAYAN HORNBILL', 'VULTURINE GUINEAFOWL', 'WALL CREAPER', 'WATTLED CURASSOW', 'WATTLED LAPWING', 'WHIMBREL', 'WHITE BREASTED WATERHEN', 'WHITE BROWED CRAKE', 'WHITE CHEEKED TURACO', 'WHITE CRESTED HORNBILL', 'WHITE EARED HUMMINGBIRD', 'WHITE NECKED RAVEN', 'WHITE TAILED TROPIC', 'WHITE THROATED BEE EATER', 'WILD TURKEY', 'WILLOW PTARMIGAN', 'WILSONS BIRD OF PARADISE', 'WOOD DUCK', 'WOOD THRUSH', 'WOODLAND KINGFISHER', 'WRENTIT', 'YELLOW BELLIED FLOWERPECKER', 'YELLOW BREASTED CHAT', 'YELLOW CACIQUE', 'YELLOW HEADED BLACKBIRD', 'ZEBRA DOVE'])"
      ]
     },
     "execution_count": 19,
     "metadata": {},
     "output_type": "execute_result"
    }
   ],
   "source": [
    "%time\n",
    "\n",
    "hot_dog_tensor_onnx = image_transform_onnx('test.jpg', 256)\n",
    "results = sess.run([output_name], {input_name: hot_dog_tensor_onnx})[0]\n",
    "labels[np.argmax(results)], results, labels"
   ]
  },
  {
   "cell_type": "markdown",
   "metadata": {},
   "source": [
    "No real difference between the three. "
   ]
  },
  {
   "cell_type": "markdown",
   "metadata": {},
   "source": [
    "## Gotchas\n",
    "\n",
    "It's really important to use the expected input with ONNX. Let's check the following scenario when using a 1x3x224x224 tensor with on a model with a defined input of 1x3x256x256. I've been struggling to figure out the correct ONNX settings. I hope this will help to some of you.\n",
    "\n",
    "Let's see what happens"
   ]
  },
  {
   "cell_type": "code",
   "execution_count": 20,
   "metadata": {},
   "outputs": [],
   "source": [
    "hot_dog_tensor_onnx = image_transform_onnx('test.jpg', 224)"
   ]
  },
  {
   "cell_type": "code",
   "execution_count": 21,
   "metadata": {},
   "outputs": [
    {
     "ename": "InvalidArgument",
     "evalue": "[ONNXRuntimeError] : 2 : INVALID_ARGUMENT : Got invalid dimensions for input: image_1_3_256_256 for the following indices\n index: 2 Got: 224 Expected: 256\n index: 3 Got: 224 Expected: 256\n Please fix either the inputs or the model.",
     "output_type": "error",
     "traceback": [
      "\u001b[0;31m---------------------------------------------------------------------------\u001b[0m",
      "\u001b[0;31mInvalidArgument\u001b[0m                           Traceback (most recent call last)",
      "Cell \u001b[0;32mIn[21], line 3\u001b[0m\n\u001b[1;32m      1\u001b[0m \u001b[38;5;66;03m# This will throw an error becuase of incorrect input size.\u001b[39;00m\n\u001b[0;32m----> 3\u001b[0m results \u001b[38;5;241m=\u001b[39m \u001b[43msess\u001b[49m\u001b[38;5;241;43m.\u001b[39;49m\u001b[43mrun\u001b[49m\u001b[43m(\u001b[49m\u001b[43m[\u001b[49m\u001b[43moutput_name\u001b[49m\u001b[43m]\u001b[49m\u001b[43m,\u001b[49m\u001b[43m \u001b[49m\u001b[43m{\u001b[49m\u001b[43minput_name\u001b[49m\u001b[43m:\u001b[49m\u001b[43m \u001b[49m\u001b[43mhot_dog_tensor_onnx\u001b[49m\u001b[43m}\u001b[49m\u001b[43m)\u001b[49m[\u001b[38;5;241m0\u001b[39m]\n\u001b[1;32m      4\u001b[0m labels[np\u001b[38;5;241m.\u001b[39margmax(results)], results, labels\n",
      "File \u001b[0;32m~/miniconda3/lib/python3.9/site-packages/onnxruntime/capi/onnxruntime_inference_collection.py:220\u001b[0m, in \u001b[0;36mSession.run\u001b[0;34m(self, output_names, input_feed, run_options)\u001b[0m\n\u001b[1;32m    218\u001b[0m     output_names \u001b[38;5;241m=\u001b[39m [output\u001b[38;5;241m.\u001b[39mname \u001b[38;5;28;01mfor\u001b[39;00m output \u001b[38;5;129;01min\u001b[39;00m \u001b[38;5;28mself\u001b[39m\u001b[38;5;241m.\u001b[39m_outputs_meta]\n\u001b[1;32m    219\u001b[0m \u001b[38;5;28;01mtry\u001b[39;00m:\n\u001b[0;32m--> 220\u001b[0m     \u001b[38;5;28;01mreturn\u001b[39;00m \u001b[38;5;28;43mself\u001b[39;49m\u001b[38;5;241;43m.\u001b[39;49m\u001b[43m_sess\u001b[49m\u001b[38;5;241;43m.\u001b[39;49m\u001b[43mrun\u001b[49m\u001b[43m(\u001b[49m\u001b[43moutput_names\u001b[49m\u001b[43m,\u001b[49m\u001b[43m \u001b[49m\u001b[43minput_feed\u001b[49m\u001b[43m,\u001b[49m\u001b[43m \u001b[49m\u001b[43mrun_options\u001b[49m\u001b[43m)\u001b[49m\n\u001b[1;32m    221\u001b[0m \u001b[38;5;28;01mexcept\u001b[39;00m C\u001b[38;5;241m.\u001b[39mEPFail \u001b[38;5;28;01mas\u001b[39;00m err:\n\u001b[1;32m    222\u001b[0m     \u001b[38;5;28;01mif\u001b[39;00m \u001b[38;5;28mself\u001b[39m\u001b[38;5;241m.\u001b[39m_enable_fallback:\n",
      "\u001b[0;31mInvalidArgument\u001b[0m: [ONNXRuntimeError] : 2 : INVALID_ARGUMENT : Got invalid dimensions for input: image_1_3_256_256 for the following indices\n index: 2 Got: 224 Expected: 256\n index: 3 Got: 224 Expected: 256\n Please fix either the inputs or the model."
     ]
    }
   ],
   "source": [
    "# This will throw an error becuase of incorrect input size.\n",
    "\n",
    "results = sess.run([output_name], {input_name: hot_dog_tensor_onnx})[0]\n",
    "labels[np.argmax(results)], results, labels"
   ]
  },
  {
   "cell_type": "markdown",
   "metadata": {},
   "source": [
    "## How to Debug\n",
    "\n",
    "To check the inputs of a model you can use a tool like Netron to visualize it: https://netron.app. Desktop version available here: https://github.com/lutzroeder/netron\n",
    "\n",
    "OR you can access the expected dimension by the following line:\n"
   ]
  },
  {
   "cell_type": "code",
   "execution_count": 22,
   "metadata": {},
   "outputs": [
    {
     "data": {
      "text/plain": [
       "[1, 3, 256, 256]"
      ]
     },
     "execution_count": 22,
     "metadata": {},
     "output_type": "execute_result"
    }
   ],
   "source": [
    "# shows the required model input\n",
    "sess.get_inputs()[0].shape"
   ]
  },
  {
   "cell_type": "markdown",
   "metadata": {},
   "source": [
    "## You got your own ONNX model."
   ]
  }
 ],
 "metadata": {
  "interpreter": {
   "hash": "26d6e39ac80f9a4b84ea770be2b53d2f114598c35a5ad44b66ba97bd31710aa3"
  },
  "kernelspec": {
   "display_name": "Python 3 (ipykernel)",
   "language": "python",
   "name": "python3"
  },
  "language_info": {
   "codemirror_mode": {
    "name": "ipython",
    "version": 3
   },
   "file_extension": ".py",
   "mimetype": "text/x-python",
   "name": "python",
   "nbconvert_exporter": "python",
   "pygments_lexer": "ipython3",
   "version": "3.9.16"
  }
 },
 "nbformat": 4,
 "nbformat_minor": 4
}
