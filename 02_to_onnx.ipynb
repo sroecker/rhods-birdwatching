{
 "cells": [
  {
   "cell_type": "markdown",
   "metadata": {},
   "source": [
    "Exporting FastAI ResNet model to ONNX is a 2 step process - there's no native FastAI to ONNX export. Since, FastAI is a high-level API built on top of PyTorch - first we need to extract the PyTorch model. Only after that it's possible to get our ONNX model. Couple of things must be considered which I'll talk about and show later.\n",
    "\n",
    "Steps to be taken:\n",
    "\n",
    "1. Extract PyTorch model from FastAI\n",
    "2. Convert PyTorch model to ONNX"
   ]
  },
  {
   "cell_type": "code",
   "execution_count": 2,
   "metadata": {},
   "outputs": [],
   "source": [
    "from fastai.vision.all import *"
   ]
  },
  {
   "cell_type": "code",
   "execution_count": 3,
   "metadata": {},
   "outputs": [],
   "source": [
    "# load FastAI learner\n",
    "learn = load_learner('birds-res34-fast.pkl')"
   ]
  },
  {
   "cell_type": "markdown",
   "metadata": {},
   "source": [
    "## Test inference with FastAI learner"
   ]
  },
  {
   "cell_type": "code",
   "execution_count": 4,
   "metadata": {},
   "outputs": [
    {
     "data": {
      "text/html": [
       "\n",
       "<style>\n",
       "    /* Turns off some styling */\n",
       "    progress {\n",
       "        /* gets rid of default border in Firefox and Opera. */\n",
       "        border: none;\n",
       "        /* Needs to be in here for Safari polyfill so background images work as expected. */\n",
       "        background-size: auto;\n",
       "    }\n",
       "    progress:not([value]), progress:not([value])::-webkit-progress-bar {\n",
       "        background: repeating-linear-gradient(45deg, #7e7e7e, #7e7e7e 10px, #5c5c5c 10px, #5c5c5c 20px);\n",
       "    }\n",
       "    .progress-bar-interrupted, .progress-bar-interrupted::-webkit-progress-bar {\n",
       "        background: #F44336;\n",
       "    }\n",
       "</style>\n"
      ],
      "text/plain": [
       "<IPython.core.display.HTML object>"
      ]
     },
     "metadata": {},
     "output_type": "display_data"
    },
    {
     "data": {
      "text/html": [],
      "text/plain": [
       "<IPython.core.display.HTML object>"
      ]
     },
     "metadata": {},
     "output_type": "display_data"
    },
    {
     "name": "stdout",
     "output_type": "stream",
     "text": [
      "('COCKATOO', tensor(153), tensor([4.1982e-09, 7.5033e-07, 5.0929e-09, 1.5086e-08, 2.7239e-07, 3.0972e-09,\n",
      "        3.0564e-09, 2.1395e-09, 2.6006e-08, 2.0480e-06, 2.0302e-09, 7.2165e-05,\n",
      "        1.0100e-07, 5.6200e-10, 6.4807e-08, 4.5042e-10, 6.0963e-09, 3.6655e-08,\n",
      "        1.7121e-09, 2.8703e-08, 2.5718e-08, 6.7171e-09, 2.6483e-08, 1.2829e-07,\n",
      "        2.0626e-08, 1.0889e-09, 2.8666e-07, 2.3959e-09, 2.1662e-08, 1.7993e-10,\n",
      "        1.6995e-07, 4.9092e-08, 1.8571e-09, 2.1351e-09, 1.0439e-08, 2.6217e-10,\n",
      "        2.7309e-07, 5.9627e-08, 1.2785e-09, 7.2161e-07, 2.2780e-11, 3.2073e-09,\n",
      "        1.5691e-08, 2.3097e-09, 3.3332e-10, 1.1445e-09, 4.2474e-10, 7.1732e-10,\n",
      "        1.2535e-11, 4.4392e-09, 5.8820e-07, 1.7659e-07, 8.9970e-10, 3.6871e-07,\n",
      "        3.2198e-10, 1.5383e-04, 1.4266e-08, 2.8286e-11, 7.0295e-10, 8.3036e-09,\n",
      "        1.7798e-10, 2.1028e-07, 4.2871e-10, 1.4762e-05, 6.3007e-09, 1.2159e-09,\n",
      "        2.0997e-07, 6.0095e-09, 3.8880e-09, 9.8153e-09, 1.6129e-07, 8.2425e-11,\n",
      "        2.6071e-06, 1.1669e-09, 7.5468e-08, 1.4973e-11, 2.7721e-07, 2.9652e-06,\n",
      "        3.2640e-10, 3.0488e-08, 1.9175e-09, 1.0579e-10, 1.6150e-09, 1.6421e-09,\n",
      "        1.2058e-09, 2.4249e-09, 4.2177e-08, 7.4118e-10, 1.1864e-07, 5.0901e-09,\n",
      "        7.0833e-12, 1.6436e-09, 1.4029e-08, 3.7846e-09, 2.3554e-08, 1.4514e-07,\n",
      "        1.1361e-09, 3.1682e-08, 9.3433e-09, 2.4082e-09, 9.9837e-11, 3.2695e-09,\n",
      "        1.1876e-08, 9.9300e-10, 1.8725e-08, 3.5966e-09, 1.6549e-08, 5.3174e-09,\n",
      "        4.2848e-11, 1.2670e-09, 6.8648e-10, 1.7876e-09, 1.4263e-08, 5.1440e-10,\n",
      "        1.3607e-08, 1.8841e-06, 2.1287e-08, 5.6348e-09, 1.7163e-08, 5.2022e-09,\n",
      "        1.5597e-10, 3.4801e-09, 9.9235e-06, 1.1660e-08, 2.3789e-10, 6.2889e-06,\n",
      "        3.4853e-09, 2.0370e-08, 4.6272e-10, 2.4496e-08, 3.1060e-09, 1.4354e-07,\n",
      "        2.9188e-08, 1.0962e-08, 1.5493e-07, 1.4388e-10, 7.1832e-09, 2.2449e-08,\n",
      "        1.0168e-09, 3.6148e-07, 4.8076e-08, 2.6329e-09, 7.1996e-09, 1.3121e-08,\n",
      "        1.1449e-09, 2.5469e-09, 5.1360e-09, 1.1705e-07, 2.0958e-10, 5.6792e-10,\n",
      "        9.3239e-10, 5.7828e-07, 3.4376e-07, 9.9719e-01, 1.0582e-10, 4.1268e-10,\n",
      "        2.5707e-10, 1.2017e-09, 2.9508e-07, 8.0687e-09, 4.1025e-10, 6.5388e-09,\n",
      "        9.0752e-09, 5.1161e-10, 2.4030e-09, 6.7653e-08, 1.8825e-09, 2.2286e-07,\n",
      "        1.7714e-08, 7.7950e-09, 3.4700e-08, 5.5249e-07, 4.3644e-09, 9.8518e-08,\n",
      "        2.2281e-08, 9.7001e-09, 2.3806e-09, 1.0991e-09, 8.5943e-10, 1.5138e-09,\n",
      "        5.1627e-07, 1.6947e-07, 4.6053e-10, 5.5680e-09, 4.5660e-09, 1.8649e-07,\n",
      "        4.8654e-11, 6.8842e-09, 1.2734e-08, 8.1592e-10, 4.6774e-08, 2.3995e-10,\n",
      "        2.7564e-07, 3.4606e-09, 4.3287e-08, 6.8141e-08, 3.2310e-10, 6.0319e-09,\n",
      "        1.0239e-06, 1.2175e-08, 3.4936e-07, 4.5785e-09, 6.6795e-08, 6.2715e-09,\n",
      "        8.7768e-10, 2.0408e-09, 6.0286e-08, 2.2906e-09, 1.4573e-10, 6.1703e-09,\n",
      "        1.8103e-07, 1.0422e-07, 4.1329e-10, 1.4215e-09, 2.6673e-09, 1.6235e-07,\n",
      "        1.4824e-07, 9.1723e-10, 3.7316e-07, 2.7627e-08, 7.7284e-09, 3.2214e-09,\n",
      "        1.7461e-03, 2.0348e-09, 2.8572e-10, 4.8593e-09, 1.4525e-09, 1.8755e-09,\n",
      "        3.0272e-07, 1.2894e-08, 5.8510e-10, 9.9066e-10, 5.5763e-06, 1.4162e-09,\n",
      "        1.1105e-06, 1.6180e-09, 1.5800e-08, 1.5664e-09, 1.0616e-05, 5.6230e-08,\n",
      "        1.8792e-08, 2.2629e-09, 6.0893e-07, 1.0276e-08, 5.3705e-05, 3.0219e-07,\n",
      "        1.5831e-07, 2.9624e-08, 5.0584e-09, 2.0789e-08, 1.8046e-08, 7.9760e-09,\n",
      "        9.5591e-10, 6.0330e-08, 7.5673e-09, 6.2794e-08, 2.5399e-08, 1.1909e-08,\n",
      "        4.8526e-10, 1.6777e-08, 1.9581e-09, 3.8719e-09, 4.3736e-07, 3.4914e-07,\n",
      "        2.4675e-08, 5.2336e-08, 2.6969e-07, 4.6701e-09, 1.9980e-07, 1.4587e-07,\n",
      "        3.3602e-08, 9.0378e-09, 1.6787e-08, 4.4106e-10, 9.9127e-06, 8.2014e-10,\n",
      "        3.4144e-10, 3.2287e-09, 8.2600e-06, 1.4670e-09, 9.4920e-10, 5.6815e-09,\n",
      "        3.1228e-08, 2.3838e-08, 1.7575e-08, 3.9689e-08, 7.6826e-10, 1.2673e-08,\n",
      "        2.8551e-10, 5.7534e-08, 1.8931e-08, 1.1652e-08, 7.8833e-09, 1.0101e-06,\n",
      "        1.2986e-09, 7.7733e-09, 3.5573e-09, 3.0901e-08, 5.7778e-10, 2.5570e-11,\n",
      "        3.6045e-09, 2.9212e-09, 1.1787e-07, 3.4141e-10, 7.5946e-08, 5.9890e-10,\n",
      "        4.0570e-04, 2.1393e-09, 2.6295e-07, 1.5167e-09, 1.5989e-05, 7.5753e-07,\n",
      "        2.2205e-09, 1.1814e-08, 1.4037e-10, 3.4416e-07, 1.5470e-07, 1.6999e-09,\n",
      "        3.6836e-09, 1.2492e-07, 2.0243e-08, 5.9074e-08, 7.4339e-09, 7.3105e-08,\n",
      "        1.2542e-07, 8.0654e-09, 3.0579e-10, 3.4166e-09, 8.0055e-09, 2.0641e-08,\n",
      "        1.4186e-08, 1.8873e-08, 1.2274e-08, 1.6695e-09, 6.9766e-09, 5.8515e-09,\n",
      "        7.7036e-09, 2.1807e-08, 8.4001e-08, 5.2640e-09, 9.3541e-08, 1.2522e-09,\n",
      "        3.1494e-09, 1.3226e-08, 2.2834e-06, 9.9581e-07, 1.7592e-06, 1.8189e-08,\n",
      "        2.2173e-09, 5.7477e-07, 1.4528e-06, 6.9385e-10, 3.0240e-07, 7.7541e-10,\n",
      "        2.5875e-09, 1.6529e-08, 7.7344e-10, 9.6880e-06, 5.5425e-07, 5.0200e-08,\n",
      "        3.2565e-08, 2.5077e-08, 1.8846e-07, 2.6791e-10, 8.2464e-09, 4.7271e-09,\n",
      "        6.2461e-09, 1.5749e-10, 2.0016e-08, 7.1549e-08, 6.6939e-09, 9.3124e-08,\n",
      "        3.2039e-07, 1.7005e-09, 4.8125e-09, 1.5624e-08, 6.6276e-08, 2.2089e-07,\n",
      "        7.0015e-07, 9.3675e-09, 3.2524e-08, 6.8281e-08, 4.5024e-10, 2.7502e-08,\n",
      "        1.1989e-08, 5.4897e-08, 5.6432e-10, 7.8029e-07, 2.2958e-10, 3.6304e-07,\n",
      "        3.1757e-10, 1.0793e-06, 7.2993e-09, 2.3529e-07, 5.7086e-09, 1.0590e-07,\n",
      "        1.1656e-09, 6.1666e-11, 5.3921e-09, 1.6418e-07, 2.0682e-07, 5.4916e-07,\n",
      "        2.6964e-08, 5.9323e-11, 1.1313e-06, 2.4984e-09, 1.7680e-07, 2.2725e-10,\n",
      "        1.7934e-08, 6.6115e-08, 1.1310e-08, 3.4344e-08, 9.2909e-09, 1.4588e-09,\n",
      "        6.5951e-11, 5.1454e-08, 5.6908e-08, 7.0588e-10, 1.5878e-10, 8.4128e-10,\n",
      "        1.1282e-08, 1.5517e-08, 1.5855e-09, 2.6081e-07, 1.1288e-05, 1.0725e-09,\n",
      "        9.1321e-08, 6.0390e-07, 1.1146e-07, 4.6641e-08, 5.5106e-09, 6.6852e-10,\n",
      "        6.1206e-07, 4.6263e-08, 5.6378e-10, 2.2424e-10, 2.4992e-10, 6.9463e-08,\n",
      "        2.7077e-07, 6.7703e-10, 9.2231e-09, 2.0124e-08, 1.9102e-07, 5.7799e-11,\n",
      "        8.9382e-09, 3.8432e-07, 7.0593e-09, 7.6486e-07, 2.8699e-09, 3.3194e-10,\n",
      "        3.1144e-06, 5.8206e-10, 1.7488e-06, 3.7263e-05, 1.4749e-06, 1.2965e-04,\n",
      "        5.8392e-10, 2.6613e-08, 9.2574e-10, 1.6055e-07, 1.3300e-09, 7.8061e-11,\n",
      "        3.3891e-07, 1.0159e-09, 5.8555e-09, 1.4993e-10, 1.1188e-10, 3.3830e-08,\n",
      "        2.1537e-08, 5.0462e-10, 4.1995e-11, 4.0658e-08, 8.1158e-10, 8.6480e-08,\n",
      "        4.4165e-10, 4.2839e-08, 5.2788e-10, 5.7752e-09, 1.0073e-09, 4.3957e-10,\n",
      "        3.2037e-06, 4.1936e-08, 2.4559e-08, 4.4869e-08, 8.8776e-10, 5.5479e-08,\n",
      "        1.6248e-07, 2.4110e-08, 1.3400e-11, 2.5576e-07, 7.4930e-09, 1.4381e-07,\n",
      "        2.3162e-09, 5.6457e-08, 1.0100e-08, 2.0373e-08, 5.4310e-08, 7.9544e-09,\n",
      "        2.0443e-07, 1.0984e-08, 1.0390e-10, 3.4250e-08, 3.3466e-09, 6.0661e-07,\n",
      "        1.3285e-09, 7.0472e-10, 3.4968e-09, 1.5344e-10, 1.5384e-09, 1.2275e-08,\n",
      "        1.4071e-09, 1.9868e-08, 1.4466e-05, 1.3642e-10, 5.6327e-08, 3.7360e-05,\n",
      "        1.9943e-09, 3.1613e-10, 3.3355e-09, 5.8001e-10, 4.2229e-10, 1.1007e-09,\n",
      "        4.1854e-09, 5.2605e-08, 3.5376e-10, 7.9937e-07]))\n"
     ]
    },
    {
     "data": {
      "text/html": [
       "\n",
       "<style>\n",
       "    /* Turns off some styling */\n",
       "    progress {\n",
       "        /* gets rid of default border in Firefox and Opera. */\n",
       "        border: none;\n",
       "        /* Needs to be in here for Safari polyfill so background images work as expected. */\n",
       "        background-size: auto;\n",
       "    }\n",
       "    progress:not([value]), progress:not([value])::-webkit-progress-bar {\n",
       "        background: repeating-linear-gradient(45deg, #7e7e7e, #7e7e7e 10px, #5c5c5c 10px, #5c5c5c 20px);\n",
       "    }\n",
       "    .progress-bar-interrupted, .progress-bar-interrupted::-webkit-progress-bar {\n",
       "        background: #F44336;\n",
       "    }\n",
       "</style>\n"
      ],
      "text/plain": [
       "<IPython.core.display.HTML object>"
      ]
     },
     "metadata": {},
     "output_type": "display_data"
    },
    {
     "data": {
      "text/html": [],
      "text/plain": [
       "<IPython.core.display.HTML object>"
      ]
     },
     "metadata": {},
     "output_type": "display_data"
    },
    {
     "name": "stdout",
     "output_type": "stream",
     "text": [
      "('ROADRUNNER', tensor(422), tensor([4.4763e-07, 3.1679e-09, 1.1058e-08, 5.2037e-09, 7.1648e-09, 1.0560e-10,\n",
      "        1.6886e-09, 4.3852e-07, 3.6378e-10, 1.1667e-09, 7.4717e-07, 1.3858e-09,\n",
      "        7.2033e-09, 1.8232e-08, 7.2110e-08, 1.9992e-06, 5.5346e-09, 5.6703e-10,\n",
      "        2.0271e-10, 8.5286e-09, 4.0974e-09, 1.4701e-07, 4.3112e-08, 6.0880e-10,\n",
      "        2.0841e-08, 6.1344e-09, 1.7666e-09, 6.1014e-08, 4.3754e-08, 7.3994e-07,\n",
      "        5.1411e-08, 1.2294e-08, 1.1537e-06, 3.0249e-10, 9.8658e-09, 6.6940e-07,\n",
      "        7.1454e-09, 1.4618e-09, 1.0383e-07, 7.6908e-09, 1.2885e-09, 1.7874e-08,\n",
      "        3.7115e-09, 2.0936e-07, 7.1194e-05, 4.3644e-08, 1.2604e-08, 6.2225e-09,\n",
      "        2.2992e-08, 5.1324e-10, 1.1535e-09, 7.4416e-09, 4.4712e-09, 1.1186e-08,\n",
      "        1.8156e-07, 2.7481e-09, 7.4994e-09, 8.8192e-10, 2.9684e-07, 4.4173e-09,\n",
      "        6.8604e-09, 6.0816e-09, 4.3659e-06, 2.6606e-10, 2.0127e-08, 7.0674e-08,\n",
      "        9.2133e-09, 5.5016e-08, 5.0181e-09, 5.3931e-08, 9.5037e-09, 6.6529e-07,\n",
      "        7.6161e-09, 9.1886e-10, 1.2911e-09, 7.0045e-10, 4.0170e-10, 1.1191e-08,\n",
      "        5.1846e-07, 3.6009e-10, 4.2114e-08, 4.6032e-08, 8.1129e-10, 1.6841e-09,\n",
      "        9.3286e-10, 3.0167e-09, 6.7401e-08, 1.9584e-08, 1.8270e-08, 2.5114e-08,\n",
      "        1.5996e-07, 8.1512e-09, 9.6911e-10, 1.6626e-08, 1.8679e-07, 7.8087e-10,\n",
      "        1.9836e-09, 3.1432e-08, 6.1618e-10, 1.7485e-08, 4.1323e-09, 2.7106e-08,\n",
      "        5.3048e-09, 1.5304e-10, 1.0843e-08, 2.0704e-10, 3.0561e-09, 1.8143e-09,\n",
      "        1.3761e-08, 3.9511e-09, 7.9540e-07, 1.9753e-09, 9.4382e-10, 2.0714e-06,\n",
      "        1.0021e-08, 2.0037e-10, 3.9000e-07, 1.1525e-08, 3.7994e-08, 6.0533e-09,\n",
      "        8.1323e-06, 7.9615e-10, 4.2440e-08, 1.4670e-08, 2.5162e-09, 1.8575e-08,\n",
      "        2.8201e-10, 3.3041e-08, 4.2711e-08, 1.6440e-08, 2.4631e-08, 2.1746e-08,\n",
      "        4.7032e-10, 3.8248e-08, 2.7420e-08, 4.5704e-09, 6.9137e-10, 1.4654e-08,\n",
      "        1.1991e-07, 2.9026e-10, 4.1430e-11, 7.4838e-08, 5.3575e-10, 3.0317e-06,\n",
      "        4.4040e-08, 7.2184e-09, 5.8292e-10, 1.2619e-07, 1.2622e-08, 1.6388e-08,\n",
      "        8.9263e-09, 3.9124e-10, 1.9762e-09, 8.8655e-10, 4.0122e-10, 2.3651e-08,\n",
      "        8.0441e-09, 2.7871e-08, 9.8203e-08, 4.9228e-08, 1.1227e-07, 4.7376e-08,\n",
      "        9.6670e-06, 1.5200e-10, 2.6453e-07, 2.6217e-07, 1.6534e-10, 2.4734e-09,\n",
      "        3.1653e-10, 6.9827e-09, 1.6228e-08, 1.3853e-09, 7.9529e-06, 2.8296e-09,\n",
      "        2.7000e-10, 2.7120e-10, 3.5349e-09, 2.3865e-11, 2.7180e-08, 9.2572e-09,\n",
      "        5.0081e-09, 2.4690e-09, 2.3928e-09, 1.0477e-07, 3.0177e-06, 1.0286e-08,\n",
      "        1.3384e-08, 3.5671e-08, 8.8707e-09, 4.2130e-09, 1.0438e-08, 1.5842e-08,\n",
      "        3.7009e-11, 7.0457e-09, 1.0803e-07, 3.9713e-10, 5.6071e-08, 1.3018e-07,\n",
      "        1.7382e-09, 1.3499e-09, 6.3337e-09, 4.0964e-08, 4.4651e-09, 8.1728e-08,\n",
      "        6.2433e-10, 2.6722e-08, 6.3917e-08, 1.9300e-10, 3.0903e-10, 3.3275e-09,\n",
      "        1.4460e-09, 8.0989e-10, 4.8328e-08, 9.5612e-11, 3.7649e-10, 3.4387e-09,\n",
      "        2.7569e-08, 3.6045e-09, 9.9255e-10, 1.2581e-09, 1.7041e-09, 1.9661e-07,\n",
      "        1.9901e-08, 1.4271e-06, 1.3320e-06, 9.4941e-10, 1.7933e-09, 8.3633e-10,\n",
      "        3.7578e-08, 1.7871e-08, 1.2688e-07, 1.8034e-08, 3.4494e-09, 2.2653e-08,\n",
      "        5.6898e-10, 3.1157e-07, 7.3431e-09, 1.1081e-07, 2.7599e-08, 1.3785e-10,\n",
      "        1.3764e-09, 1.8912e-09, 8.9283e-11, 1.7623e-09, 1.6499e-09, 3.7409e-07,\n",
      "        1.8508e-08, 6.0105e-10, 1.7619e-07, 2.0516e-09, 2.8899e-08, 5.7786e-10,\n",
      "        1.8517e-08, 2.8090e-09, 1.7602e-08, 1.2848e-08, 4.2616e-10, 3.9391e-10,\n",
      "        4.4551e-08, 6.5157e-08, 7.3525e-07, 7.5753e-07, 1.3784e-10, 3.0485e-09,\n",
      "        6.5824e-11, 1.1734e-10, 1.7473e-10, 3.2710e-08, 7.3040e-10, 1.3559e-06,\n",
      "        5.0815e-07, 2.4858e-09, 8.2065e-08, 6.8224e-09, 4.8904e-08, 2.8900e-08,\n",
      "        1.6634e-10, 2.4727e-08, 1.1017e-10, 1.4165e-08, 1.9456e-10, 8.6244e-10,\n",
      "        2.1246e-08, 2.8960e-08, 2.0566e-08, 3.5605e-06, 2.0154e-08, 6.7770e-08,\n",
      "        8.1311e-09, 5.2704e-08, 1.0118e-07, 3.1269e-09, 8.3446e-09, 3.7753e-11,\n",
      "        3.1719e-07, 2.2664e-09, 1.7574e-08, 9.1411e-11, 7.8096e-07, 2.1047e-09,\n",
      "        4.3514e-07, 9.7952e-10, 7.3417e-10, 1.4400e-08, 2.6463e-08, 1.1037e-09,\n",
      "        9.7863e-09, 2.2801e-10, 4.7298e-09, 3.7193e-07, 6.6774e-09, 1.9838e-10,\n",
      "        3.3824e-10, 5.6343e-10, 1.2700e-08, 5.0268e-09, 2.9026e-09, 1.2557e-07,\n",
      "        7.2180e-11, 2.3719e-10, 1.5489e-07, 1.7069e-08, 2.9245e-08, 9.0003e-09,\n",
      "        9.4345e-10, 9.6587e-09, 1.2050e-08, 1.0217e-08, 1.3697e-05, 8.3880e-10,\n",
      "        4.6728e-09, 9.8994e-10, 1.0776e-09, 6.2543e-09, 5.2352e-10, 1.4445e-09,\n",
      "        9.8662e-07, 5.4677e-10, 1.4916e-10, 1.2666e-08, 9.8024e-08, 7.4847e-09,\n",
      "        1.5955e-07, 1.3266e-07, 4.2588e-10, 9.1894e-10, 2.0195e-09, 1.1881e-07,\n",
      "        1.2817e-08, 8.0567e-10, 1.2170e-09, 1.1527e-08, 4.8215e-09, 2.5824e-08,\n",
      "        1.0640e-06, 1.4372e-09, 3.2937e-09, 6.8537e-10, 5.9512e-08, 5.6224e-08,\n",
      "        9.2027e-09, 1.1098e-07, 1.0432e-09, 9.1896e-08, 1.1887e-07, 4.3856e-09,\n",
      "        2.0758e-08, 8.5010e-09, 3.9799e-08, 3.9034e-09, 1.1491e-10, 1.4166e-09,\n",
      "        1.3735e-08, 5.4264e-08, 3.1260e-09, 1.2568e-08, 1.0783e-08, 5.4907e-10,\n",
      "        4.4178e-09, 4.9082e-10, 2.0997e-10, 2.0258e-09, 2.5319e-08, 1.0455e-08,\n",
      "        6.5981e-09, 1.7108e-09, 3.8105e-07, 8.4110e-08, 4.0125e-08, 1.3348e-08,\n",
      "        2.3567e-07, 1.4934e-10, 2.5989e-08, 7.1039e-09, 2.6302e-10, 9.4697e-09,\n",
      "        1.5664e-10, 1.0228e-08, 1.0919e-09, 1.1789e-09, 7.5636e-09, 1.2984e-09,\n",
      "        5.5866e-10, 3.3916e-10, 1.5148e-08, 1.7850e-09, 5.6000e-10, 8.6155e-09,\n",
      "        1.3728e-08, 2.8859e-10, 1.1215e-10, 4.2992e-08, 5.7238e-07, 6.4976e-09,\n",
      "        1.2362e-09, 1.3669e-08, 6.2164e-09, 5.4095e-10, 1.3091e-06, 6.7173e-08,\n",
      "        6.0768e-10, 2.3112e-08, 9.9981e-01, 3.5957e-09, 2.3229e-11, 1.5433e-09,\n",
      "        2.1292e-09, 7.3407e-11, 1.6983e-06, 3.1279e-09, 8.5587e-08, 8.6429e-09,\n",
      "        3.2245e-09, 1.1514e-08, 2.2336e-08, 9.1248e-08, 6.8257e-10, 6.5938e-10,\n",
      "        1.0210e-07, 3.9988e-09, 3.0207e-10, 2.3127e-06, 1.0801e-10, 5.5862e-08,\n",
      "        3.8597e-09, 1.4703e-10, 2.6549e-09, 2.2104e-10, 4.2647e-08, 2.1192e-08,\n",
      "        1.4215e-09, 1.2640e-08, 2.6692e-08, 2.5254e-09, 8.2175e-09, 7.1917e-10,\n",
      "        2.2874e-07, 2.1629e-08, 1.3620e-07, 4.6304e-08, 6.4753e-09, 3.4734e-08,\n",
      "        1.8006e-05, 1.6892e-08, 2.2669e-09, 5.2667e-09, 4.4954e-07, 3.5955e-08,\n",
      "        3.7692e-08, 6.0323e-08, 4.6282e-07, 3.9409e-10, 7.0408e-11, 1.5250e-08,\n",
      "        2.8356e-08, 4.0194e-09, 3.8345e-10, 1.8234e-09, 3.2485e-08, 2.5805e-08,\n",
      "        1.6212e-08, 2.5975e-09, 2.7311e-09, 2.6311e-08, 3.4060e-08, 3.8804e-08,\n",
      "        1.9063e-10, 3.6536e-10, 7.0161e-09, 2.1175e-09, 2.8438e-10, 2.3530e-07,\n",
      "        1.3918e-09, 1.1412e-09, 1.4901e-08, 3.1031e-09, 6.2647e-08, 4.5271e-09,\n",
      "        1.6660e-09, 1.3230e-10, 5.3413e-10, 4.6564e-07, 1.2104e-08, 5.5903e-08,\n",
      "        5.8601e-07, 7.4333e-06, 1.8361e-09, 4.2261e-09, 4.2708e-09, 9.2525e-08,\n",
      "        4.2133e-08, 1.1857e-09, 3.0042e-07, 5.1511e-08, 1.9786e-08, 5.5978e-09,\n",
      "        2.0464e-10, 3.3307e-09, 6.3910e-08, 3.8671e-10, 4.0020e-07, 4.8666e-09,\n",
      "        1.4085e-09, 2.0511e-09, 3.2604e-09, 2.3661e-08]))\n"
     ]
    }
   ],
   "source": [
    "# cockatoo\n",
    "print(learn.predict('test/COCKATOO/1.jpg'))\n",
    "\n",
    "# roadrunner\n",
    "print(learn.predict('test/ROADRUNNER/3.jpg'))"
   ]
  },
  {
   "cell_type": "markdown",
   "metadata": {},
   "source": [
    "## 1. Getting the PyTorch model\n",
    "\n",
    "By using .model attribute on the FastAI learner we get the 'pure' PyTorch model. By using eval() we are setting the model to 'prediction' mode - backward propagation is disabled.\n",
    "\n",
    "#### Note:\n",
    "FastAI learner wraps the PyTorch model with additional operations defined in `DataBlock` in this case we defined a `Resize` operation. By default, FastAI learner also includes a softmax layer and a normalization layer.\n",
    "\n",
    "### What does this mean ?\n",
    "If we run `learn.predict('path/to/image')` our FastAI learner resizes the image to the size defined in our `DataBlock`, normalizes the color channels, passes the image through the neural net, scales the inference results between 0-1.\n",
    "\n",
    "If we'd try to run inference on a PyTorch model extracted from a FastAI wrapper it would fail (most likely) as the image has an incorrect resolution. That's why we need to add transformations to a PyTorch models before inference."
   ]
  },
  {
   "cell_type": "code",
   "execution_count": 5,
   "metadata": {},
   "outputs": [
    {
     "data": {
      "text/plain": [
       "(#2) [[noop:\n",
       "encodes: (object,object) -> noopdecodes: , PILBase.create:\n",
       "encodes: (Path,object) -> create\n",
       "(str,object) -> create\n",
       "(Tensor,object) -> create\n",
       "(ndarray,object) -> create\n",
       "(bytes,object) -> create\n",
       "(Image,object) -> createdecodes: ],parent_label:\n",
       "encodes: (object,object) -> parent_labeldecodes: ]"
      ]
     },
     "execution_count": 5,
     "metadata": {},
     "output_type": "execute_result"
    }
   ],
   "source": [
    "# transformations performed on data loaders\n",
    "learn.dls.transform"
   ]
  },
  {
   "cell_type": "code",
   "execution_count": 6,
   "metadata": {},
   "outputs": [
    {
     "data": {
      "text/plain": [
       "['ABBOTTS BABBLER', 'ABBOTTS BOOBY', 'ABYSSINIAN GROUND HORNBILL', 'AFRICAN CROWNED CRANE', 'AFRICAN EMERALD CUCKOO', 'AFRICAN FIREFINCH', 'AFRICAN OYSTER CATCHER', 'AFRICAN PIED HORNBILL', 'AFRICAN PYGMY GOOSE', 'ALBATROSS', 'ALBERTS TOWHEE', 'ALEXANDRINE PARAKEET', 'ALPINE CHOUGH', 'ALTAMIRA YELLOWTHROAT', 'AMERICAN AVOCET', 'AMERICAN BITTERN', 'AMERICAN COOT', 'AMERICAN DIPPER', 'AMERICAN FLAMINGO', 'AMERICAN GOLDFINCH', 'AMERICAN KESTREL', 'AMERICAN PIPIT', 'AMERICAN REDSTART', 'AMERICAN ROBIN', 'AMERICAN WIGEON', 'AMETHYST WOODSTAR', 'ANDEAN GOOSE', 'ANDEAN LAPWING', 'ANDEAN SISKIN', 'ANHINGA', 'ANIANIAU', 'ANNAS HUMMINGBIRD', 'ANTBIRD', 'ANTILLEAN EUPHONIA', 'APAPANE', 'APOSTLEBIRD', 'ARARIPE MANAKIN', 'ASHY STORM PETREL', 'ASHY THRUSHBIRD', 'ASIAN CRESTED IBIS', 'ASIAN DOLLARD BIRD', 'ASIAN GREEN BEE EATER', 'ASIAN OPENBILL STORK', 'AUCKLAND SHAQ', 'AUSTRAL CANASTERO', 'AUSTRALASIAN FIGBIRD', 'AVADAVAT', 'AZARAS SPINETAIL', 'AZURE BREASTED PITTA', 'AZURE JAY', 'AZURE TANAGER', 'AZURE TIT', 'BAIKAL TEAL', 'BALD EAGLE', 'BALD IBIS', 'BALI STARLING', 'BALTIMORE ORIOLE', 'BANANAQUIT', 'BAND TAILED GUAN', 'BANDED BROADBILL', 'BANDED PITA', 'BANDED STILT', 'BAR-TAILED GODWIT', 'BARN OWL', 'BARN SWALLOW', 'BARRED PUFFBIRD', 'BARROWS GOLDENEYE', 'BAY-BREASTED WARBLER', 'BEARDED BARBET', 'BEARDED BELLBIRD', 'BEARDED REEDLING', 'BELTED KINGFISHER', 'BIRD OF PARADISE', 'BLACK AND YELLOW BROADBILL', 'BLACK BAZA', 'BLACK BREASTED PUFFBIRD', 'BLACK COCKATO', 'BLACK FACED SPOONBILL', 'BLACK FRANCOLIN', 'BLACK HEADED CAIQUE', 'BLACK NECKED STILT', 'BLACK SKIMMER', 'BLACK SWAN', 'BLACK TAIL CRAKE', 'BLACK THROATED BUSHTIT', 'BLACK THROATED HUET', 'BLACK THROATED WARBLER', 'BLACK VENTED SHEARWATER', 'BLACK VULTURE', 'BLACK-CAPPED CHICKADEE', 'BLACK-NECKED GREBE', 'BLACK-THROATED SPARROW', 'BLACKBURNIAM WARBLER', 'BLONDE CRESTED WOODPECKER', 'BLOOD PHEASANT', 'BLUE COAU', 'BLUE DACNIS', 'BLUE GRAY GNATCATCHER', 'BLUE GROSBEAK', 'BLUE GROUSE', 'BLUE HERON', 'BLUE MALKOHA', 'BLUE THROATED PIPING GUAN', 'BLUE THROATED TOUCANET', 'BOBOLINK', 'BORNEAN BRISTLEHEAD', 'BORNEAN LEAFBIRD', 'BORNEAN PHEASANT', 'BRANDT CORMARANT', 'BREWERS BLACKBIRD', 'BROWN CREPPER', 'BROWN HEADED COWBIRD', 'BROWN NOODY', 'BROWN THRASHER', 'BUFFLEHEAD', 'BULWERS PHEASANT', 'BURCHELLS COURSER', 'BUSH TURKEY', 'CAATINGA CACHOLOTE', 'CABOTS TRAGOPAN', 'CACTUS WREN', 'CALIFORNIA CONDOR', 'CALIFORNIA GULL', 'CALIFORNIA QUAIL', 'CAMPO FLICKER', 'CANARY', 'CANVASBACK', 'CAPE GLOSSY STARLING', 'CAPE LONGCLAW', 'CAPE MAY WARBLER', 'CAPE ROCK THRUSH', 'CAPPED HERON', 'CAPUCHINBIRD', 'CARMINE BEE-EATER', 'CASPIAN TERN', 'CASSOWARY', 'CEDAR WAXWING', 'CERULEAN WARBLER', 'CHARA DE COLLAR', 'CHATTERING LORY', 'CHESTNET BELLIED EUPHONIA', 'CHESTNUT WINGED CUCKOO', 'CHINESE BAMBOO PARTRIDGE', 'CHINESE POND HERON', 'CHIPPING SPARROW', 'CHUCAO TAPACULO', 'CHUKAR PARTRIDGE', 'CINNAMON ATTILA', 'CINNAMON FLYCATCHER', 'CINNAMON TEAL', 'CLARKS GREBE', 'CLARKS NUTCRACKER', 'COCK OF THE  ROCK', 'COCKATOO', 'COLLARED ARACARI', 'COLLARED CRESCENTCHEST', 'COMMON FIRECREST', 'COMMON GRACKLE', 'COMMON HOUSE MARTIN', 'COMMON IORA', 'COMMON LOON', 'COMMON POORWILL', 'COMMON STARLING', 'COPPERSMITH BARBET', 'COPPERY TAILED COUCAL', 'CRAB PLOVER', 'CRANE HAWK', 'CREAM COLORED WOODPECKER', 'CRESTED AUKLET', 'CRESTED CARACARA', 'CRESTED COUA', 'CRESTED FIREBACK', 'CRESTED KINGFISHER', 'CRESTED NUTHATCH', 'CRESTED OROPENDOLA', 'CRESTED SERPENT EAGLE', 'CRESTED SHRIKETIT', 'CRESTED WOOD PARTRIDGE', 'CRIMSON CHAT', 'CRIMSON SUNBIRD', 'CROW', 'CUBAN TODY', 'CUBAN TROGON', 'CURL CRESTED ARACURI', 'D-ARNAUDS BARBET', 'DALMATIAN PELICAN', 'DARJEELING WOODPECKER', 'DARK EYED JUNCO', 'DAURIAN REDSTART', 'DEMOISELLE CRANE', 'DOUBLE BARRED FINCH', 'DOUBLE BRESTED CORMARANT', 'DOUBLE EYED FIG PARROT', 'DOWNY WOODPECKER', 'DUNLIN', 'DUSKY LORY', 'DUSKY ROBIN', 'EARED PITA', 'EASTERN BLUEBIRD', 'EASTERN BLUEBONNET', 'EASTERN GOLDEN WEAVER', 'EASTERN MEADOWLARK', 'EASTERN ROSELLA', 'EASTERN TOWEE', 'EASTERN WIP POOR WILL', 'EASTERN YELLOW ROBIN', 'ECUADORIAN HILLSTAR', 'EGYPTIAN GOOSE', 'ELEGANT TROGON', 'ELLIOTS  PHEASANT', 'EMERALD TANAGER', 'EMPEROR PENGUIN', 'EMU', 'ENGGANO MYNA', 'EURASIAN BULLFINCH', 'EURASIAN GOLDEN ORIOLE', 'EURASIAN MAGPIE', 'EUROPEAN GOLDFINCH', 'EUROPEAN TURTLE DOVE', 'EVENING GROSBEAK', 'FAIRY BLUEBIRD', 'FAIRY PENGUIN', 'FAIRY TERN', 'FAN TAILED WIDOW', 'FASCIATED WREN', 'FIERY MINIVET', 'FIORDLAND PENGUIN', 'FIRE TAILLED MYZORNIS', 'FLAME BOWERBIRD', 'FLAME TANAGER', 'FOREST WAGTAIL', 'FRIGATE', 'FRILL BACK PIGEON', 'GAMBELS QUAIL', 'GANG GANG COCKATOO', 'GILA WOODPECKER', 'GILDED FLICKER', 'GLOSSY IBIS', 'GO AWAY BIRD', 'GOLD WING WARBLER', 'GOLDEN BOWER BIRD', 'GOLDEN CHEEKED WARBLER', 'GOLDEN CHLOROPHONIA', 'GOLDEN EAGLE', 'GOLDEN PARAKEET', 'GOLDEN PHEASANT', 'GOLDEN PIPIT', 'GOULDIAN FINCH', 'GRANDALA', 'GRAY CATBIRD', 'GRAY KINGBIRD', 'GRAY PARTRIDGE', 'GREAT ARGUS', 'GREAT GRAY OWL', 'GREAT JACAMAR', 'GREAT KISKADEE', 'GREAT POTOO', 'GREAT TINAMOU', 'GREAT XENOPS', 'GREATER PEWEE', 'GREATER PRAIRIE CHICKEN', 'GREATOR SAGE GROUSE', 'GREEN BROADBILL', 'GREEN JAY', 'GREEN MAGPIE', 'GREEN WINGED DOVE', 'GREY CUCKOOSHRIKE', 'GREY HEADED CHACHALACA', 'GREY HEADED FISH EAGLE', 'GREY PLOVER', 'GROVED BILLED ANI', 'GUINEA TURACO', 'GUINEAFOWL', 'GURNEYS PITTA', 'GYRFALCON', 'HAMERKOP', 'HARLEQUIN DUCK', 'HARLEQUIN QUAIL', 'HARPY EAGLE', 'HAWAIIAN GOOSE', 'HAWFINCH', 'HELMET VANGA', 'HEPATIC TANAGER', 'HIMALAYAN BLUETAIL', 'HIMALAYAN MONAL', 'HOATZIN', 'HOODED MERGANSER', 'HOOPOES', 'HORNED GUAN', 'HORNED LARK', 'HORNED SUNGEM', 'HOUSE FINCH', 'HOUSE SPARROW', 'HYACINTH MACAW', 'IBERIAN MAGPIE', 'IBISBILL', 'IMPERIAL SHAQ', 'INCA TERN', 'INDIAN BUSTARD', 'INDIAN PITTA', 'INDIAN ROLLER', 'INDIAN VULTURE', 'INDIGO BUNTING', 'INDIGO FLYCATCHER', 'INLAND DOTTEREL', 'IVORY BILLED ARACARI', 'IVORY GULL', 'IWI', 'JABIRU', 'JACK SNIPE', 'JACOBIN PIGEON', 'JANDAYA PARAKEET', 'JAPANESE ROBIN', 'JAVA SPARROW', 'JOCOTOCO ANTPITTA', 'KAGU', 'KAKAPO', 'KILLDEAR', 'KING EIDER', 'KING VULTURE', 'KIWI', 'KNOB BILLED DUCK', 'KOOKABURRA', 'LARK BUNTING', 'LAUGHING GULL', 'LAZULI BUNTING', 'LESSER ADJUTANT', 'LILAC ROLLER', 'LIMPKIN', 'LITTLE AUK', 'LOGGERHEAD SHRIKE', 'LONG-EARED OWL', 'LOONEY BIRDS', 'LUCIFER HUMMINGBIRD', 'MAGPIE GOOSE', 'MALABAR HORNBILL', 'MALACHITE KINGFISHER', 'MALAGASY WHITE EYE', 'MALEO', 'MALLARD DUCK', 'MANDRIN DUCK', 'MANGROVE CUCKOO', 'MARABOU STORK', 'MASKED BOBWHITE', 'MASKED BOOBY', 'MASKED LAPWING', 'MCKAYS BUNTING', 'MERLIN', 'MIKADO  PHEASANT', 'MILITARY MACAW', 'MOURNING DOVE', 'MYNA', 'NICOBAR PIGEON', 'NOISY FRIARBIRD', 'NORTHERN BEARDLESS TYRANNULET', 'NORTHERN CARDINAL', 'NORTHERN FLICKER', 'NORTHERN FULMAR', 'NORTHERN GANNET', 'NORTHERN GOSHAWK', 'NORTHERN JACANA', 'NORTHERN MOCKINGBIRD', 'NORTHERN PARULA', 'NORTHERN RED BISHOP', 'NORTHERN SHOVELER', 'OCELLATED TURKEY', 'OILBIRD', 'OKINAWA RAIL', 'ORANGE BREASTED TROGON', 'ORANGE BRESTED BUNTING', 'ORIENTAL BAY OWL', 'ORNATE HAWK EAGLE', 'OSPREY', 'OSTRICH', 'OVENBIRD', 'OYSTER CATCHER', 'PAINTED BUNTING', 'PALILA', 'PALM NUT VULTURE', 'PARADISE TANAGER', 'PARAKETT  AUKLET', 'PARAKETT AUKLET', 'PARUS MAJOR', 'PATAGONIAN SIERRA FINCH', 'PEACOCK', 'PEREGRINE FALCON', 'PHAINOPEPLA', 'PHILIPPINE EAGLE', 'PINK ROBIN', 'PLUSH CRESTED JAY', 'POMARINE JAEGER', 'PUFFIN', 'PUNA TEAL', 'PURPLE FINCH', 'PURPLE GALLINULE', 'PURPLE MARTIN', 'PURPLE SWAMPHEN', 'PYGMY KINGFISHER', 'PYRRHULOXIA', 'QUETZAL', 'RAINBOW LORIKEET', 'RAZORBILL', 'RED BEARDED BEE EATER', 'RED BELLIED PITTA', 'RED BILLED TROPICBIRD', 'RED BROWED FINCH', 'RED CROSSBILL', 'RED FACED CORMORANT', 'RED FACED WARBLER', 'RED FODY', 'RED HEADED DUCK', 'RED HEADED WOODPECKER', 'RED KNOT', 'RED LEGGED HONEYCREEPER', 'RED NAPED TROGON', 'RED SHOULDERED HAWK', 'RED TAILED HAWK', 'RED TAILED THRUSH', 'RED WINGED BLACKBIRD', 'RED WISKERED BULBUL', 'REGENT BOWERBIRD', 'RING-NECKED PHEASANT', 'ROADRUNNER', 'ROCK DOVE', 'ROSE BREASTED COCKATOO', 'ROSE BREASTED GROSBEAK', 'ROSEATE SPOONBILL', 'ROSY FACED LOVEBIRD', 'ROUGH LEG BUZZARD', 'ROYAL FLYCATCHER', 'RUBY CROWNED KINGLET', 'RUBY THROATED HUMMINGBIRD', 'RUDDY SHELDUCK', 'RUDY KINGFISHER', 'RUFOUS KINGFISHER', 'RUFOUS TREPE', 'RUFUOS MOTMOT', 'SAMATRAN THRUSH', 'SAND MARTIN', 'SANDHILL CRANE', 'SATYR TRAGOPAN', 'SAYS PHOEBE', 'SCARLET CROWNED FRUIT DOVE', 'SCARLET FACED LIOCICHLA', 'SCARLET IBIS', 'SCARLET MACAW', 'SCARLET TANAGER', 'SHOEBILL', 'SHORT BILLED DOWITCHER', 'SMITHS LONGSPUR', 'SNOW GOOSE', 'SNOW PARTRIDGE', 'SNOWY EGRET', 'SNOWY OWL', 'SNOWY PLOVER', 'SNOWY SHEATHBILL', 'SORA', 'SPANGLED COTINGA', 'SPLENDID WREN', 'SPOON BILED SANDPIPER', 'SPOTTED CATBIRD', 'SPOTTED WHISTLING DUCK', 'SQUACCO HERON', 'SRI LANKA BLUE MAGPIE', 'STEAMER DUCK', 'STORK BILLED KINGFISHER', 'STRIATED CARACARA', 'STRIPED OWL', 'STRIPPED MANAKIN', 'STRIPPED SWALLOW', 'SUNBITTERN', 'SUPERB STARLING', 'SURF SCOTER', 'SWINHOES PHEASANT', 'TAILORBIRD', 'TAIWAN MAGPIE', 'TAKAHE', 'TASMANIAN HEN', 'TAWNY FROGMOUTH', 'TEAL DUCK', 'TIT MOUSE', 'TOUCHAN', 'TOWNSENDS WARBLER', 'TREE SWALLOW', 'TRICOLORED BLACKBIRD', 'TROPICAL KINGBIRD', 'TRUMPTER SWAN', 'TURKEY VULTURE', 'TURQUOISE MOTMOT', 'UMBRELLA BIRD', 'VARIED THRUSH', 'VEERY', 'VENEZUELIAN TROUPIAL', 'VERDIN', 'VERMILION FLYCATHER', 'VICTORIA CROWNED PIGEON', 'VIOLET BACKED STARLING', 'VIOLET CUCKOO', 'VIOLET GREEN SWALLOW', 'VIOLET TURACO', 'VISAYAN HORNBILL', 'VULTURINE GUINEAFOWL', 'WALL CREAPER', 'WATTLED CURASSOW', 'WATTLED LAPWING', 'WHIMBREL', 'WHITE BREASTED WATERHEN', 'WHITE BROWED CRAKE', 'WHITE CHEEKED TURACO', 'WHITE CRESTED HORNBILL', 'WHITE EARED HUMMINGBIRD', 'WHITE NECKED RAVEN', 'WHITE TAILED TROPIC', 'WHITE THROATED BEE EATER', 'WILD TURKEY', 'WILLOW PTARMIGAN', 'WILSONS BIRD OF PARADISE', 'WOOD DUCK', 'WOOD THRUSH', 'WOODLAND KINGFISHER', 'WRENTIT', 'YELLOW BELLIED FLOWERPECKER', 'YELLOW BREASTED CHAT', 'YELLOW CACIQUE', 'YELLOW HEADED BLACKBIRD', 'ZEBRA DOVE']"
      ]
     },
     "execution_count": 6,
     "metadata": {},
     "output_type": "execute_result"
    }
   ],
   "source": [
    "# extract labels from learner\n",
    "labels = learn.dls.vocab\n",
    "labels"
   ]
  },
  {
   "cell_type": "markdown",
   "metadata": {},
   "source": [
    "### Let's add the missing parts to our Pytorch model\n",
    "\n",
    "As mentioned previously, FastAI learner wraps out PyTorch model. We are adding 2 additional layers to the models to achieve the same results as the FastAI learner. \n",
    "\n",
    "### Why can't we just export the learner to ONNX?\n",
    "AFAIK FastAI currently doesn't support ONNX exports. We need to extract the PyTorch model as an intermediary step before we can convert it to ONNX. \n",
    "\n",
    "--------\n",
    "\n",
    "### Additional layers:\n",
    "\n",
    "#### Normalization layer\n",
    "First we need to add a normalization layer. Pre-trained PyTorch models are trained on the ImageNet dataset for which the following normalization variables are suggested `mean=[0.485, 0.456, 0.406]`, `std=[0.229, 0.224, 0.225]`. Source: https://pytorch.org/vision/stable/models.html. Normalization is ought to increase model performance.\n",
    "\n",
    "\n",
    "#### Softmax layer\n",
    "By adding a softmax layer at the end of our final model definition we are making a our results 'human readble'. As en example here's an inference result without the softmax layer `('not_hot_dog', array([[-3.0275817,  1.2424631]], dtype=float32))`. *Helpful? Not really imo.*\n",
    "\n",
    "Here's the inference with the added softmax layer: `('not_hot_dog', array([[0.01378838, 0.98621166]], dtype=float32))`."
   ]
  },
  {
   "cell_type": "code",
   "execution_count": 9,
   "metadata": {},
   "outputs": [],
   "source": [
    "import torch\n",
    "import torchvision\n",
    "import torchvision.transforms as transforms\n",
    "\n",
    "# https://pytorch.org/vision/stable/models.html\n",
    "\n",
    "pytorch_model = learn.model.eval() # gets the PyTorch model\n",
    "softmax_layer = torch.nn.Softmax(dim=1) # define softmax\n",
    "normalization_layer = torchvision.transforms.Normalize(mean=[0.485, 0.456, 0.406], std=[0.229, 0.224, 0.225]) # normalization layer\n",
    "\n",
    "# assembling the final model\n",
    "final_model = nn.Sequential(\n",
    "    normalization_layer,\n",
    "    pytorch_model,\n",
    "    softmax_layer\n",
    ")\n",
    "\n",
    "# Note: Image resizing will be handled separately\n"
   ]
  },
  {
   "cell_type": "code",
   "execution_count": 10,
   "metadata": {},
   "outputs": [],
   "source": [
    "# loading an image and converting to tensor\n",
    "from PIL import Image\n",
    "\n",
    "def image_transform(path: str, size: int) -> torch.Tensor:\n",
    "    '''Helper function to transform image.'''\n",
    "    image = Image.open(path)\n",
    "\n",
    "    # transformation pipeline\n",
    "    transformation = transforms.Compose([\n",
    "                transforms.Resize([size,size]), # resizes image\n",
    "                transforms.ToTensor() # converts to image to tensor\n",
    "            ])\n",
    "\n",
    "    image_tensor = transformation(image).unsqueeze(0)\n",
    "    print('Tensor shape: ', image_tensor.shape)\n",
    "\n",
    "    return image_tensor"
   ]
  },
  {
   "cell_type": "code",
   "execution_count": 11,
   "metadata": {},
   "outputs": [],
   "source": [
    "# test image paths\n",
    "hot_dog_test = 'test/COCKATOO/1.jpg'\n",
    "not_hot_dog_test = 'test/ROADRUNNER/3.jpg'"
   ]
  },
  {
   "cell_type": "code",
   "execution_count": 12,
   "metadata": {},
   "outputs": [
    {
     "name": "stdout",
     "output_type": "stream",
     "text": [
      "Tensor shape:  torch.Size([1, 3, 256, 256])\n",
      "Tensor shape:  torch.Size([1, 3, 256, 256])\n"
     ]
    }
   ],
   "source": [
    "# get image tensors\n",
    "hot_dog_tensor = image_transform(hot_dog_test, 256)\n",
    "not_hot_dog_tensor = image_transform(not_hot_dog_test, 256)"
   ]
  },
  {
   "cell_type": "code",
   "execution_count": 13,
   "metadata": {},
   "outputs": [
    {
     "data": {
      "text/plain": [
       "('COCKATOO',\n",
       " array([[3.01397378e-08, 4.04880893e-06, 1.96300789e-08, 7.04394836e-08,\n",
       "         3.92995304e-07, 1.36720999e-08, 2.44684060e-08, 1.22050405e-08,\n",
       "         2.79061567e-07, 3.23763538e-06, 1.49686805e-08, 1.56375754e-04,\n",
       "         7.13960958e-07, 4.87535567e-09, 5.51419078e-07, 2.02684580e-09,\n",
       "         1.72113737e-08, 9.45411216e-08, 2.76054468e-08, 1.07042325e-07,\n",
       "         1.68884341e-07, 2.19816680e-08, 1.44551308e-07, 4.96786470e-07,\n",
       "         1.80395759e-07, 1.60860285e-08, 1.55613907e-06, 1.43558117e-08,\n",
       "         7.48111546e-08, 1.62756064e-09, 1.23222878e-06, 3.22883068e-07,\n",
       "         5.73042325e-09, 1.24934498e-08, 9.66928724e-08, 2.76543366e-09,\n",
       "         1.05631568e-06, 6.93971401e-07, 3.53235796e-09, 2.54751694e-06,\n",
       "         9.62988578e-11, 2.02615880e-08, 7.28539504e-08, 2.18257945e-08,\n",
       "         2.47345433e-09, 1.37052258e-09, 2.43031373e-09, 4.32706049e-09,\n",
       "         4.93186984e-11, 3.44192195e-08, 2.46775858e-06, 1.57767784e-06,\n",
       "         6.51657217e-09, 1.07011044e-06, 1.23395560e-09, 5.09806967e-04,\n",
       "         6.87910884e-08, 1.37632419e-10, 3.15832072e-09, 2.37517170e-08,\n",
       "         1.52947377e-09, 2.06652157e-06, 4.64715733e-09, 6.18099220e-05,\n",
       "         3.79824385e-08, 4.50597515e-09, 6.23551443e-07, 1.44476129e-08,\n",
       "         9.18078147e-09, 2.44530565e-08, 1.37335860e-06, 1.02834152e-09,\n",
       "         1.39124122e-05, 3.89652577e-09, 1.06544100e-07, 1.14835315e-10,\n",
       "         1.11060149e-06, 1.91770232e-05, 8.91042407e-10, 8.41286578e-08,\n",
       "         1.05686482e-08, 3.61415842e-10, 6.30993746e-09, 8.44195469e-09,\n",
       "         1.27533069e-08, 1.13225980e-08, 1.35830447e-07, 2.87705548e-09,\n",
       "         7.86868497e-07, 3.73122155e-08, 3.84515163e-11, 8.68829542e-09,\n",
       "         4.71316284e-08, 2.34148576e-08, 3.70520823e-08, 1.12284761e-06,\n",
       "         1.43967513e-08, 2.91768714e-07, 4.65814587e-08, 4.93182739e-09,\n",
       "         7.34761307e-10, 9.68583969e-09, 5.88476539e-08, 4.32895098e-09,\n",
       "         6.59396946e-08, 1.10007070e-08, 5.63902383e-08, 2.57865729e-08,\n",
       "         4.06190331e-10, 1.37482488e-08, 3.06385384e-09, 1.87611864e-08,\n",
       "         1.41596416e-07, 1.80043924e-09, 9.26211499e-08, 7.76181878e-06,\n",
       "         7.17778335e-08, 1.87123348e-08, 8.41848333e-08, 1.90203195e-08,\n",
       "         1.14625731e-09, 1.25289104e-08, 4.07972948e-05, 2.66047202e-08,\n",
       "         1.52074420e-09, 8.71067550e-06, 1.32857707e-08, 9.93005429e-08,\n",
       "         1.99766159e-09, 8.88940050e-08, 2.92009616e-08, 2.96014548e-07,\n",
       "         1.43246652e-07, 4.90668448e-08, 7.35394792e-07, 2.01661554e-09,\n",
       "         3.04055732e-08, 7.41616049e-08, 5.94548277e-09, 1.29634236e-06,\n",
       "         2.17810594e-07, 5.60299762e-09, 2.87428144e-08, 5.09187856e-08,\n",
       "         6.22499208e-09, 1.48139438e-08, 2.59301967e-08, 5.58398597e-07,\n",
       "         3.76006071e-09, 1.65251324e-09, 4.29427960e-09, 2.06663185e-06,\n",
       "         1.93978690e-06, 9.92302775e-01, 3.14684612e-10, 4.56717553e-09,\n",
       "         1.98283057e-09, 1.90991685e-08, 5.91461628e-07, 3.25138281e-08,\n",
       "         2.65932942e-09, 1.23022206e-08, 5.62269875e-08, 1.15846688e-09,\n",
       "         6.70333966e-09, 4.29017007e-07, 1.38447449e-08, 8.62176762e-07,\n",
       "         1.12200475e-07, 2.77960730e-08, 2.83023951e-07, 1.14762304e-06,\n",
       "         1.68196337e-08, 3.43807869e-07, 9.61886855e-08, 4.80502145e-08,\n",
       "         9.66317959e-09, 7.21284410e-09, 4.40240866e-09, 8.45592663e-09,\n",
       "         2.25717736e-06, 8.17248292e-07, 2.39436093e-09, 9.41667455e-09,\n",
       "         9.43953182e-09, 4.23145053e-07, 2.05158182e-10, 2.37522162e-08,\n",
       "         1.64014438e-07, 3.27080629e-09, 2.05846774e-07, 4.73913042e-09,\n",
       "         5.96230734e-07, 8.74438744e-09, 7.19288593e-08, 2.14642043e-07,\n",
       "         2.39447040e-09, 1.76553900e-08, 6.14486680e-06, 5.55197985e-08,\n",
       "         1.18617174e-06, 1.56003352e-08, 9.35620292e-08, 1.60984293e-08,\n",
       "         1.87892524e-09, 2.14738982e-08, 6.46285173e-07, 1.82591062e-08,\n",
       "         3.19076127e-10, 2.16766498e-08, 3.97229059e-07, 3.06161411e-07,\n",
       "         5.44695000e-09, 6.64145050e-09, 1.25295561e-08, 3.20724666e-07,\n",
       "         6.69401970e-07, 6.64678579e-09, 2.21503774e-06, 9.44618179e-08,\n",
       "         2.58402402e-08, 2.33344721e-08, 4.33051260e-03, 1.94460981e-08,\n",
       "         2.34667064e-09, 2.23387353e-08, 3.51956642e-09, 1.28615714e-08,\n",
       "         4.89090553e-07, 3.44665168e-08, 3.73539244e-09, 5.13097032e-09,\n",
       "         1.73219250e-05, 3.51379126e-09, 3.21977654e-06, 6.49551346e-09,\n",
       "         5.52069146e-08, 1.25333566e-08, 1.79601848e-05, 1.31002992e-07,\n",
       "         5.05838571e-08, 9.74701564e-09, 2.05804872e-06, 3.91664621e-08,\n",
       "         1.10976827e-04, 1.20303355e-06, 5.11314113e-07, 8.07042895e-08,\n",
       "         6.61456454e-08, 8.59356604e-08, 1.60995413e-07, 2.20751541e-08,\n",
       "         2.22775913e-08, 2.21157279e-07, 1.91985503e-08, 1.71584148e-07,\n",
       "         1.06989461e-07, 3.38376118e-08, 5.37254552e-09, 1.50500796e-07,\n",
       "         6.24609031e-09, 1.59630691e-08, 1.02184890e-06, 9.52288872e-07,\n",
       "         6.95244893e-08, 1.18616875e-07, 5.65029893e-07, 2.12971170e-08,\n",
       "         1.00348359e-06, 4.82111204e-07, 1.31218940e-07, 7.79592924e-08,\n",
       "         1.50667375e-07, 1.58021718e-09, 1.73268472e-05, 6.26632879e-09,\n",
       "         1.20623578e-09, 8.02188360e-09, 2.39284545e-05, 5.77138115e-09,\n",
       "         5.29421840e-09, 4.06435667e-08, 9.00288768e-08, 8.34774525e-08,\n",
       "         6.27981649e-08, 4.48137847e-08, 4.74006168e-09, 7.38092396e-08,\n",
       "         8.06542000e-10, 4.18376828e-07, 1.39764296e-07, 3.19366258e-08,\n",
       "         2.72723852e-08, 3.77760261e-06, 6.98490332e-09, 2.21253593e-08,\n",
       "         1.07113962e-08, 1.38930531e-07, 3.07247405e-09, 8.87276988e-11,\n",
       "         1.39978997e-08, 2.13426201e-08, 3.12525799e-07, 5.41132827e-09,\n",
       "         4.64913882e-07, 2.04037498e-09, 1.29128294e-03, 1.10563665e-08,\n",
       "         1.09640712e-06, 3.06218895e-09, 1.24081373e-04, 1.30840499e-06,\n",
       "         2.12641567e-08, 6.62935520e-08, 1.00807462e-09, 1.45147737e-06,\n",
       "         3.77731595e-07, 7.49332152e-09, 1.17535350e-08, 3.83155680e-07,\n",
       "         1.66447691e-07, 1.26555619e-07, 2.98090050e-08, 2.66858194e-07,\n",
       "         5.34934543e-07, 4.87577658e-08, 1.07634712e-09, 2.78325203e-08,\n",
       "         2.48971421e-08, 3.52446534e-08, 1.05550960e-07, 8.63210516e-08,\n",
       "         1.15843598e-07, 9.27446742e-09, 2.36901414e-08, 9.20529519e-09,\n",
       "         3.27363523e-08, 1.28581675e-07, 3.43558440e-07, 2.38229045e-08,\n",
       "         1.50764109e-07, 4.55345006e-09, 7.57741425e-09, 5.77387240e-08,\n",
       "         3.60537683e-06, 2.27736382e-06, 5.42396356e-06, 7.47700710e-08,\n",
       "         6.68282496e-09, 7.92083767e-07, 2.06416371e-06, 5.87148774e-09,\n",
       "         4.30112067e-07, 2.26827623e-09, 2.82710335e-08, 6.46820695e-08,\n",
       "         5.12110487e-09, 1.92894986e-05, 1.22568895e-06, 1.66328206e-07,\n",
       "         1.36626966e-07, 6.25335375e-08, 6.17285650e-07, 2.65271316e-09,\n",
       "         4.80405014e-08, 1.45112153e-08, 1.65412857e-08, 8.38395908e-10,\n",
       "         5.71405465e-08, 1.31701228e-07, 4.91646510e-08, 4.18689751e-07,\n",
       "         5.28776468e-07, 1.17492549e-08, 8.30117219e-09, 3.57411380e-08,\n",
       "         2.23485472e-07, 3.00437904e-07, 4.20022525e-06, 3.87501977e-08,\n",
       "         6.72906566e-08, 1.49437284e-07, 3.38521811e-09, 1.59586776e-07,\n",
       "         3.89152177e-08, 2.05183724e-07, 5.18560395e-09, 1.73947046e-06,\n",
       "         2.21014318e-09, 1.73391049e-06, 2.02455852e-09, 1.61010394e-06,\n",
       "         4.41087487e-08, 8.94457003e-07, 1.58665401e-08, 7.62557249e-07,\n",
       "         4.70397277e-09, 3.99323574e-10, 3.07842960e-08, 9.05523734e-07,\n",
       "         5.51273388e-07, 7.66127584e-07, 8.78335626e-08, 1.93363409e-10,\n",
       "         2.70410874e-06, 1.02835962e-08, 3.16355113e-07, 2.26988628e-09,\n",
       "         7.59217471e-08, 2.09332612e-07, 3.42688828e-08, 9.37438713e-08,\n",
       "         6.00131287e-08, 1.05640128e-08, 5.31018396e-10, 1.49314914e-07,\n",
       "         7.45055715e-08, 3.84495014e-09, 2.30650676e-09, 3.72548792e-09,\n",
       "         3.90084836e-08, 1.00644648e-07, 6.81256562e-09, 1.44820876e-06,\n",
       "         3.21204352e-05, 3.99633127e-09, 5.97230041e-07, 1.05526362e-06,\n",
       "         4.55697347e-07, 2.84255236e-07, 4.04952267e-08, 6.00111516e-09,\n",
       "         7.60608236e-06, 1.80357233e-07, 2.68550826e-09, 2.05092165e-09,\n",
       "         1.20768617e-09, 3.14939399e-07, 6.44831573e-07, 3.42107409e-09,\n",
       "         3.77015965e-08, 3.88090569e-07, 2.27210833e-07, 3.84927007e-10,\n",
       "         9.07510866e-08, 8.98648295e-07, 5.71559156e-08, 1.65580013e-06,\n",
       "         2.09127364e-08, 9.35316047e-10, 2.58306191e-05, 2.65042721e-09,\n",
       "         1.63853420e-05, 1.60349955e-04, 1.26746099e-05, 4.43473196e-04,\n",
       "         2.62476507e-09, 6.13337363e-08, 1.39702667e-08, 7.79848335e-07,\n",
       "         4.12743750e-09, 1.34466294e-09, 1.11045858e-06, 3.44374573e-09,\n",
       "         2.17134772e-08, 4.27349101e-10, 1.09141363e-09, 2.07129119e-07,\n",
       "         9.27696675e-08, 2.25435781e-09, 3.43628376e-10, 1.97700160e-07,\n",
       "         3.80109721e-09, 1.46215072e-07, 1.75035586e-09, 1.74618606e-07,\n",
       "         2.19376362e-09, 2.12571827e-08, 1.22892985e-08, 1.91932314e-09,\n",
       "         1.02778667e-05, 6.24971648e-08, 5.62641063e-08, 1.67614033e-07,\n",
       "         9.54016866e-09, 3.44343732e-07, 8.76834633e-07, 4.21934345e-08,\n",
       "         7.47852197e-11, 1.16228864e-06, 2.53864023e-08, 4.06570791e-07,\n",
       "         1.05355200e-08, 4.18643850e-07, 5.88418203e-08, 2.41274222e-07,\n",
       "         2.90769520e-07, 4.76942930e-08, 4.30851856e-07, 3.20455449e-08,\n",
       "         5.95631933e-10, 1.54676073e-07, 1.62090696e-08, 3.15332954e-06,\n",
       "         6.90248703e-09, 2.96455793e-09, 1.93075422e-08, 8.56485549e-10,\n",
       "         1.31447440e-08, 7.41533981e-08, 1.08978950e-08, 7.63446053e-08,\n",
       "         2.73886217e-05, 1.02639564e-09, 1.55017347e-07, 4.32311790e-05,\n",
       "         1.12721761e-08, 9.48886081e-10, 7.76484921e-09, 2.84245205e-09,\n",
       "         4.10519485e-09, 2.76482193e-09, 1.85294606e-08, 1.77958412e-07,\n",
       "         2.39568121e-09, 1.97390568e-06]]))"
      ]
     },
     "execution_count": 13,
     "metadata": {},
     "output_type": "execute_result"
    }
   ],
   "source": [
    "# run inference on test images\n",
    "\n",
    "with torch.no_grad():\n",
    "    results = final_model(hot_dog_tensor)\n",
    "labels[np.argmax(results.detach().numpy())], results.detach().numpy().astype(float)"
   ]
  },
  {
   "cell_type": "code",
   "execution_count": 14,
   "metadata": {},
   "outputs": [
    {
     "data": {
      "text/plain": [
       "('ROADRUNNER',\n",
       " array([[3.39912822e-06, 1.43256447e-08, 3.31093588e-08, 3.70598663e-08,\n",
       "         3.54585445e-08, 7.42300443e-10, 3.32185834e-09, 8.50267611e-07,\n",
       "         1.44287993e-09, 7.18258397e-10, 1.39974759e-06, 4.69306727e-09,\n",
       "         2.13622542e-08, 1.60234322e-07, 3.69171289e-07, 1.18748085e-05,\n",
       "         1.91432683e-08, 1.29190492e-09, 1.66858394e-09, 2.69956146e-08,\n",
       "         6.54862076e-09, 5.29290162e-07, 1.80254091e-07, 1.51070112e-09,\n",
       "         1.50414436e-07, 8.75272050e-08, 1.36786493e-08, 3.08783768e-07,\n",
       "         1.62586701e-07, 1.46050593e-06, 1.25604430e-07, 3.01507832e-08,\n",
       "         5.45711919e-06, 5.66591829e-10, 3.82348873e-08, 3.97587883e-06,\n",
       "         3.30651844e-08, 4.63302419e-09, 3.20599668e-07, 3.47670728e-08,\n",
       "         1.83582749e-09, 4.30640554e-08, 2.26385612e-08, 5.21142454e-07,\n",
       "         2.12006853e-04, 1.31605461e-07, 4.46509176e-08, 2.07857269e-08,\n",
       "         1.17345827e-07, 2.41685316e-09, 4.19461132e-09, 2.16956799e-08,\n",
       "         2.00545873e-08, 3.09614272e-08, 2.97972008e-07, 6.31323749e-09,\n",
       "         3.01437133e-08, 4.19935064e-09, 8.87697070e-07, 1.34855771e-08,\n",
       "         1.09799778e-08, 2.26679422e-08, 4.50028028e-06, 1.06953668e-09,\n",
       "         5.08840401e-08, 2.47899038e-07, 3.04406882e-08, 3.08979395e-07,\n",
       "         1.58624882e-08, 8.83106566e-08, 3.22185656e-08, 2.44425496e-06,\n",
       "         1.86207654e-08, 2.55523402e-09, 8.78526407e-09, 7.13810611e-09,\n",
       "         8.74788852e-10, 5.11623703e-08, 3.02741341e-06, 1.20080723e-09,\n",
       "         9.82781785e-08, 9.50189403e-08, 4.18570067e-09, 5.41571765e-09,\n",
       "         3.27996541e-09, 6.99102287e-09, 4.77664742e-07, 2.27405224e-08,\n",
       "         3.50420954e-08, 1.25019213e-07, 6.10519066e-07, 4.08418934e-08,\n",
       "         4.67968642e-09, 7.24489198e-08, 1.47455935e-07, 1.04889997e-09,\n",
       "         8.82600926e-09, 9.39676639e-08, 1.37382050e-09, 2.13026876e-08,\n",
       "         1.39369485e-08, 2.40499034e-08, 1.16774963e-08, 2.91155683e-10,\n",
       "         1.88438818e-07, 1.85767668e-09, 6.16743812e-09, 5.02979125e-09,\n",
       "         2.14214584e-08, 2.03555643e-08, 7.51098514e-06, 1.34024187e-08,\n",
       "         1.64953451e-09, 4.76206787e-06, 4.58219560e-08, 1.06081677e-09,\n",
       "         2.22336826e-06, 3.94677073e-08, 7.81769955e-08, 5.52532509e-09,\n",
       "         2.02888295e-05, 3.07764769e-09, 5.69317962e-08, 1.14346088e-08,\n",
       "         8.44266523e-09, 4.89217271e-08, 5.16852949e-10, 6.02049468e-08,\n",
       "         1.67384840e-07, 7.42962669e-08, 2.93091205e-07, 8.96955328e-08,\n",
       "         1.39014189e-09, 1.10551298e-07, 5.75072718e-08, 2.48858480e-08,\n",
       "         9.47849799e-10, 4.70735060e-08, 2.72201760e-07, 3.87690158e-10,\n",
       "         1.32457573e-10, 1.30101739e-07, 5.09415976e-09, 3.68370661e-06,\n",
       "         5.64150966e-08, 1.70489276e-08, 2.53487986e-09, 2.99134825e-07,\n",
       "         6.43446754e-08, 5.34029638e-08, 4.85419420e-08, 1.15024801e-09,\n",
       "         6.16727380e-09, 1.88206051e-09, 1.04700704e-09, 1.28118415e-07,\n",
       "         2.47766323e-08, 4.06922851e-08, 7.58168568e-08, 1.71903565e-07,\n",
       "         1.28903153e-07, 5.43434560e-08, 9.61084697e-06, 4.52923893e-10,\n",
       "         1.41849796e-06, 7.88200964e-07, 1.05639086e-09, 2.07446931e-08,\n",
       "         9.05466424e-10, 3.00896019e-08, 5.03741688e-08, 3.52566132e-09,\n",
       "         1.17106920e-05, 1.67310379e-08, 8.58818405e-10, 9.22819821e-10,\n",
       "         2.65419775e-08, 2.80848927e-10, 2.35797103e-07, 3.32050476e-08,\n",
       "         1.08772555e-08, 5.13227327e-09, 5.48239942e-09, 2.50535976e-07,\n",
       "         8.62824709e-06, 8.60296012e-09, 1.10390538e-07, 1.05923476e-07,\n",
       "         7.66029373e-08, 2.10413749e-08, 2.23145502e-08, 9.90708955e-08,\n",
       "         2.98493036e-11, 2.55552770e-08, 1.00110128e-07, 5.59613911e-10,\n",
       "         1.42533722e-07, 3.08132797e-07, 5.70139180e-09, 6.76421941e-09,\n",
       "         1.45368437e-08, 1.39635773e-07, 1.30109488e-08, 2.66139779e-07,\n",
       "         1.09470166e-09, 6.91950959e-08, 4.18494636e-07, 1.04620468e-09,\n",
       "         7.49567852e-10, 1.19890373e-08, 5.02822761e-09, 6.16787066e-10,\n",
       "         2.74549734e-07, 1.61262267e-10, 1.83930082e-09, 5.49519319e-09,\n",
       "         6.01650001e-08, 3.55433869e-08, 1.16464891e-08, 6.17178042e-09,\n",
       "         5.99875882e-09, 8.21951517e-07, 4.65534882e-08, 8.87812712e-06,\n",
       "         9.50243793e-06, 3.37903905e-09, 2.15387841e-09, 7.35482175e-10,\n",
       "         9.24295236e-08, 5.70470142e-08, 1.14044974e-06, 3.46787914e-08,\n",
       "         1.06155200e-08, 1.00806233e-07, 1.70193193e-09, 1.12975238e-06,\n",
       "         3.97750561e-08, 9.04184674e-07, 8.76222472e-08, 1.98200928e-10,\n",
       "         3.17402882e-09, 5.38316369e-09, 9.61382987e-11, 2.18400298e-09,\n",
       "         3.06612291e-09, 6.31861610e-07, 1.23029565e-07, 1.81838566e-09,\n",
       "         2.44209133e-07, 7.48079998e-09, 6.94269744e-08, 2.31470021e-09,\n",
       "         1.71214111e-07, 2.54570898e-09, 5.73352139e-08, 3.57710164e-08,\n",
       "         1.01153008e-09, 3.41847883e-09, 1.35134428e-07, 3.13889387e-07,\n",
       "         6.11370865e-07, 1.41951296e-06, 3.81576937e-10, 5.20023402e-09,\n",
       "         1.77906939e-10, 5.91569682e-10, 1.24973309e-09, 6.84787480e-08,\n",
       "         2.94278468e-09, 1.81843177e-06, 1.28000750e-06, 6.16792040e-09,\n",
       "         3.46859537e-07, 2.05108730e-08, 3.60849377e-08, 1.31019391e-07,\n",
       "         5.44530698e-10, 5.14387892e-08, 1.75828560e-10, 3.57997543e-08,\n",
       "         4.92842211e-10, 1.66871761e-09, 5.50720962e-08, 9.99115457e-08,\n",
       "         4.95934707e-08, 3.26617669e-06, 6.89884558e-08, 6.00160945e-07,\n",
       "         2.27623058e-08, 2.13386059e-07, 4.27281776e-07, 8.54004956e-09,\n",
       "         5.95130736e-08, 9.17954948e-11, 7.75071385e-07, 5.88658233e-09,\n",
       "         2.34784991e-08, 2.48215865e-10, 1.03707662e-05, 1.33882638e-08,\n",
       "         9.42965414e-07, 6.90097446e-09, 1.63918135e-09, 3.24179155e-08,\n",
       "         1.13480432e-07, 2.18720042e-09, 1.25401742e-08, 1.33140021e-09,\n",
       "         1.47121835e-08, 7.46593969e-07, 1.61258757e-08, 1.91817354e-10,\n",
       "         1.29480116e-09, 3.78080145e-09, 5.18136609e-08, 3.75506097e-08,\n",
       "         6.96501612e-09, 3.02222531e-07, 1.76441653e-10, 4.79932927e-10,\n",
       "         3.64451921e-07, 3.67768642e-08, 4.26144950e-08, 3.80179621e-08,\n",
       "         2.53024268e-09, 5.02681097e-08, 6.50368790e-08, 2.71988867e-08,\n",
       "         1.74778434e-05, 1.17938193e-09, 3.47100944e-08, 2.11191642e-09,\n",
       "         1.82126658e-09, 9.35773983e-08, 2.21388596e-09, 5.84922333e-09,\n",
       "         4.04764751e-06, 8.59198490e-10, 3.72013975e-10, 2.04181685e-08,\n",
       "         1.30368022e-07, 1.55110325e-08, 8.07041943e-07, 3.62033944e-07,\n",
       "         2.89085006e-10, 2.25718932e-09, 6.85414348e-09, 9.45456549e-08,\n",
       "         2.51786183e-08, 1.63748770e-09, 6.11443740e-09, 1.19626087e-08,\n",
       "         1.51431667e-08, 8.60012648e-08, 9.42952374e-06, 4.69283457e-09,\n",
       "         2.01164596e-08, 8.23702551e-10, 9.62176898e-08, 4.74973092e-08,\n",
       "         9.63583258e-09, 3.95011654e-07, 2.26690555e-09, 1.29022021e-06,\n",
       "         1.38594700e-07, 3.29189853e-09, 1.76470447e-08, 2.54757548e-08,\n",
       "         3.96262578e-08, 1.01885576e-08, 3.53057861e-10, 3.75387010e-09,\n",
       "         1.47899772e-08, 3.62363835e-07, 5.71274494e-09, 9.93973437e-09,\n",
       "         2.72231233e-08, 1.25033628e-09, 2.38718059e-08, 1.53942492e-09,\n",
       "         4.52347160e-10, 3.66577213e-09, 2.33869770e-07, 4.29837996e-08,\n",
       "         1.93615719e-08, 3.96577704e-09, 1.00443356e-06, 6.49040359e-08,\n",
       "         2.10942062e-07, 6.21997529e-08, 3.87165329e-07, 1.28584213e-10,\n",
       "         1.59049861e-07, 1.86340881e-08, 1.21037291e-09, 1.92607601e-08,\n",
       "         8.19548096e-10, 4.23574491e-08, 4.10450651e-09, 3.41126860e-09,\n",
       "         8.20770207e-09, 8.84774753e-10, 1.29098865e-09, 9.26272670e-10,\n",
       "         2.99403524e-08, 7.23197990e-09, 2.10493933e-09, 1.22330102e-08,\n",
       "         2.24313474e-08, 8.39743552e-10, 2.51570376e-10, 2.69171437e-07,\n",
       "         1.71611430e-06, 4.25500062e-08, 3.02486347e-09, 1.49990935e-08,\n",
       "         8.40141290e-09, 1.41626011e-09, 2.35965263e-06, 2.58581053e-07,\n",
       "         6.29345631e-10, 6.41935358e-08, 9.99492645e-01, 1.72879719e-08,\n",
       "         1.24354069e-10, 1.19722188e-08, 1.54554520e-08, 3.37939177e-10,\n",
       "         2.01940588e-06, 2.81446582e-08, 6.41801023e-07, 3.16700337e-08,\n",
       "         9.12862763e-09, 1.25561144e-08, 8.61051674e-08, 5.54783469e-07,\n",
       "         1.04533493e-09, 2.74771539e-09, 2.93704829e-07, 1.94172305e-08,\n",
       "         1.06347475e-09, 1.33519070e-05, 9.43619849e-10, 1.92486866e-07,\n",
       "         2.00373833e-08, 3.99745848e-10, 1.12806307e-08, 1.02247821e-09,\n",
       "         5.55768125e-08, 1.61819145e-07, 9.01484487e-09, 1.42134029e-08,\n",
       "         8.11042824e-08, 4.85504348e-09, 2.32745592e-08, 1.90290583e-09,\n",
       "         1.87432448e-07, 1.91391692e-07, 1.31638160e-06, 2.26073112e-07,\n",
       "         1.89046947e-08, 3.63901819e-07, 3.84374907e-05, 1.75363528e-08,\n",
       "         3.95666522e-09, 2.60944244e-08, 1.21682137e-06, 5.80248916e-08,\n",
       "         1.45928126e-07, 1.58602589e-07, 2.44000921e-06, 2.01067429e-09,\n",
       "         1.67473035e-10, 3.94913506e-08, 1.21085563e-07, 1.05482290e-08,\n",
       "         6.44107989e-10, 7.14742443e-09, 1.25801279e-07, 5.36333538e-08,\n",
       "         6.62030857e-08, 2.96054670e-09, 3.63935437e-09, 5.47659162e-08,\n",
       "         9.76917178e-08, 1.86841007e-07, 9.27416366e-10, 7.52685247e-10,\n",
       "         3.05240029e-08, 6.50016263e-09, 1.32988243e-09, 4.72607468e-07,\n",
       "         8.55800319e-09, 7.29267802e-09, 4.22442525e-08, 6.37847597e-09,\n",
       "         3.15207473e-07, 6.37393960e-09, 3.86596755e-09, 4.48589915e-10,\n",
       "         2.18689178e-09, 8.55037626e-07, 3.24279945e-08, 3.04385566e-07,\n",
       "         8.88127204e-07, 1.10978172e-05, 7.70201503e-09, 1.64102172e-08,\n",
       "         1.63359850e-08, 4.94745962e-07, 8.30827460e-08, 8.25581026e-09,\n",
       "         4.76798164e-07, 3.93553847e-07, 2.73456795e-08, 1.36796672e-08,\n",
       "         9.23781385e-10, 3.04896575e-09, 1.41111670e-07, 2.56443244e-09,\n",
       "         1.63003949e-06, 4.16815986e-08, 2.25226948e-09, 4.74562611e-09,\n",
       "         1.26072770e-08, 2.69276814e-08]], dtype=float32))"
      ]
     },
     "execution_count": 14,
     "metadata": {},
     "output_type": "execute_result"
    }
   ],
   "source": [
    "# run inference on test images\n",
    "\n",
    "with torch.no_grad():\n",
    "    results = final_model(not_hot_dog_tensor)\n",
    "labels[np.argmax(results.detach().numpy())], results.detach().numpy()"
   ]
  },
  {
   "cell_type": "markdown",
   "metadata": {},
   "source": [
    "## 2. Export PyTorch model to ONNX\n",
    "\n",
    "It's REALLY important to define the input shape of an ONNX model. We trained the FastAI/PyTorch model on 256 x 256 image. And we need to use the same for export. The input tensor must be in BCHW format - 1x3x256x256. (Batch x Channels x Height x Width).\n",
    "\n",
    "PyTorch documentation: https://pytorch.org/docs/master/onnx.html"
   ]
  },
  {
   "cell_type": "code",
   "execution_count": 16,
   "metadata": {},
   "outputs": [
    {
     "name": "stdout",
     "output_type": "stream",
     "text": [
      "============= Diagnostic Run torch.onnx.export version 2.0.1+cu117 =============\n",
      "verbose: False, log level: Level.ERROR\n",
      "======================= 0 NONE 0 NOTE 0 WARNING 0 ERROR ========================\n",
      "\n"
     ]
    }
   ],
   "source": [
    "torch.onnx.export(\n",
    "    final_model, \n",
    "    torch.randn(1, 3, 256, 256),\n",
    "    \"models/bird_model_resnet34_256_256.onnx\",\n",
    "    do_constant_folding=True,\n",
    "    export_params=True, # if set to False exports untrained model\n",
    "    input_names=[\"image_1_3_256_256\"],\n",
    "    output_names=[\"bird\"],\n",
    "    opset_version=11\n",
    ")"
   ]
  },
  {
   "cell_type": "markdown",
   "metadata": {},
   "source": [
    "### (Optional) Validate ONNX model"
   ]
  },
  {
   "cell_type": "code",
   "execution_count": 17,
   "metadata": {},
   "outputs": [],
   "source": [
    "import onnx\n",
    "\n",
    "# Load the ONNX model\n",
    "model = onnx.load('models/bird_model_resnet34_256_256.onnx')\n",
    "\n",
    "# Check that the IR is well formed\n",
    "onnx.checker.check_model(model)\n",
    "\n",
    "# Print a human readable representation of the graph\n",
    "# onnx.helper.printable_graph(model.graph)"
   ]
  },
  {
   "cell_type": "markdown",
   "metadata": {},
   "source": [
    "We got out ONNX model. Let's compare the results."
   ]
  },
  {
   "cell_type": "code",
   "execution_count": 19,
   "metadata": {},
   "outputs": [],
   "source": [
    "import numpy as np\n",
    "import onnxruntime as rt\n",
    "\n",
    "np.set_printoptions(suppress=True)"
   ]
  },
  {
   "cell_type": "code",
   "execution_count": 20,
   "metadata": {},
   "outputs": [],
   "source": [
    "from PIL import Image\n",
    "\n",
    "def image_transform_onnx(path: str, size: int) -> np.ndarray:\n",
    "    '''Image transform helper for onnx runtime inference.'''\n",
    "\n",
    "    image = Image.open(path)\n",
    "    image = image.resize((size,size))\n",
    "    # print(image.shape, image.mode)\n",
    "\n",
    "\n",
    "    # now our image is represented by 3 layers - Red, Green, Blue\n",
    "    # each layer has a 224 x 224 values representing\n",
    "    image = np.array(image)\n",
    "    # print('Conversion to tensor: ',image.shape)\n",
    "\n",
    "    # dummy input for the model at export - torch.randn(1, 3, 224, 224)\n",
    "    image = image.transpose(2,0,1).astype(np.float32)\n",
    "    # print('Transposing the tensor: ',image.shape)\n",
    "\n",
    "    # our image is currently represented by values ranging between 0-255\n",
    "    # we need to convert these values to 0.0-1.0 - those are the values that are expected by our model\n",
    "\n",
    "    # print('Integer value: ', image[0][0][40])\n",
    "    image /= 255\n",
    "    # print('Float value: ', image[0][0][40])\n",
    "\n",
    "    # expanding the alread existing tensor with the final dimension (similar to unsqueeze(0))\n",
    "    # currently our tensor only has rank of 3 which needs to be expanded to 4 - torch.randn(1, 3, 224, 224)\n",
    "    # 1 can be considered the batch size\n",
    "\n",
    "    image = image[None, ...]\n",
    "    # print('Final shape of our tensor', image.shape, '\\n')\n",
    "    return image\n"
   ]
  },
  {
   "cell_type": "code",
   "execution_count": 21,
   "metadata": {},
   "outputs": [],
   "source": [
    "hot_dog_tensor_onnx = image_transform_onnx('test/COCKATOO/1.jpg', 256)\n",
    "not_hot_dog_tensor_onnx = image_transform_onnx('test/ROADRUNNER/3.jpg', 256)"
   ]
  },
  {
   "cell_type": "code",
   "execution_count": 22,
   "metadata": {},
   "outputs": [
    {
     "data": {
      "text/plain": [
       "('image_1_3_256_256', 'bird', [1, 3, 256, 256])"
      ]
     },
     "execution_count": 22,
     "metadata": {},
     "output_type": "execute_result"
    }
   ],
   "source": [
    "# initialize onnx runtime inference session\n",
    "sess = rt.InferenceSession('models/bird_model_resnet34_256_256.onnx')\n",
    "\n",
    "# input & output names\n",
    "input_name = sess.get_inputs()[0].name\n",
    "output_name = sess.get_outputs()[0].name\n",
    "\n",
    "# input dimensions\n",
    "input_dims = sess.get_inputs()[0].shape\n",
    "\n",
    "input_name, output_name, input_dims"
   ]
  },
  {
   "cell_type": "code",
   "execution_count": 23,
   "metadata": {},
   "outputs": [
    {
     "data": {
      "text/plain": [
       "('COCKATOO',\n",
       " array([[0.00000002, 0.00000285, 0.00000002, 0.00000007, 0.00000034,\n",
       "         0.00000001, 0.00000002, 0.00000001, 0.00000017, 0.00000268,\n",
       "         0.00000002, 0.00013275, 0.00000061, 0.        , 0.00000033,\n",
       "         0.        , 0.00000001, 0.00000008, 0.00000002, 0.00000007,\n",
       "         0.00000013, 0.00000001, 0.00000009, 0.00000033, 0.00000013,\n",
       "         0.00000001, 0.00000111, 0.00000001, 0.00000006, 0.        ,\n",
       "         0.0000009 , 0.00000022, 0.        , 0.00000001, 0.00000006,\n",
       "         0.        , 0.00000079, 0.00000042, 0.        , 0.00000235,\n",
       "         0.        , 0.00000002, 0.00000007, 0.00000002, 0.        ,\n",
       "         0.        , 0.        , 0.        , 0.        , 0.00000003,\n",
       "         0.00000181, 0.0000011 , 0.        , 0.00000087, 0.        ,\n",
       "         0.00044059, 0.00000004, 0.        , 0.        , 0.00000002,\n",
       "         0.        , 0.00000119, 0.        , 0.00004179, 0.00000004,\n",
       "         0.        , 0.00000048, 0.00000001, 0.00000001, 0.00000002,\n",
       "         0.00000118, 0.        , 0.00001068, 0.        , 0.00000011,\n",
       "         0.        , 0.00000114, 0.00002021, 0.        , 0.00000006,\n",
       "         0.00000001, 0.        , 0.        , 0.00000001, 0.00000001,\n",
       "         0.00000001, 0.0000001 , 0.        , 0.00000101, 0.00000003,\n",
       "         0.        , 0.00000001, 0.00000003, 0.00000002, 0.00000003,\n",
       "         0.00000112, 0.00000001, 0.00000018, 0.00000005, 0.        ,\n",
       "         0.        , 0.00000001, 0.00000006, 0.        , 0.00000005,\n",
       "         0.00000001, 0.00000004, 0.00000003, 0.        , 0.00000001,\n",
       "         0.        , 0.00000001, 0.00000012, 0.        , 0.00000006,\n",
       "         0.00000636, 0.00000007, 0.00000002, 0.00000008, 0.00000002,\n",
       "         0.        , 0.00000001, 0.00003547, 0.00000002, 0.        ,\n",
       "         0.0000065 , 0.00000001, 0.00000008, 0.        , 0.00000006,\n",
       "         0.00000002, 0.00000025, 0.00000014, 0.00000004, 0.00000061,\n",
       "         0.        , 0.00000003, 0.00000005, 0.00000001, 0.0000011 ,\n",
       "         0.00000018, 0.        , 0.00000002, 0.00000004, 0.        ,\n",
       "         0.00000001, 0.00000002, 0.00000041, 0.        , 0.        ,\n",
       "         0.        , 0.00000175, 0.00000171, 0.99443746, 0.        ,\n",
       "         0.        , 0.        , 0.00000002, 0.00000045, 0.00000003,\n",
       "         0.        , 0.00000001, 0.00000004, 0.        , 0.00000001,\n",
       "         0.00000031, 0.00000002, 0.00000072, 0.00000009, 0.00000002,\n",
       "         0.00000021, 0.00000132, 0.00000001, 0.0000002 , 0.00000009,\n",
       "         0.00000005, 0.00000001, 0.00000001, 0.        , 0.00000001,\n",
       "         0.00000239, 0.00000053, 0.        , 0.00000001, 0.00000001,\n",
       "         0.00000041, 0.        , 0.00000002, 0.00000011, 0.        ,\n",
       "         0.00000016, 0.        , 0.00000044, 0.00000001, 0.00000005,\n",
       "         0.00000021, 0.        , 0.00000002, 0.00000529, 0.00000005,\n",
       "         0.00000095, 0.00000001, 0.00000007, 0.00000001, 0.        ,\n",
       "         0.00000001, 0.00000052, 0.00000002, 0.        , 0.00000002,\n",
       "         0.00000028, 0.00000024, 0.        , 0.00000001, 0.00000001,\n",
       "         0.00000028, 0.00000059, 0.        , 0.000002  , 0.00000009,\n",
       "         0.00000002, 0.00000002, 0.0027487 , 0.00000001, 0.        ,\n",
       "         0.00000002, 0.        , 0.00000001, 0.00000045, 0.00000002,\n",
       "         0.        , 0.        , 0.00001164, 0.        , 0.00000335,\n",
       "         0.00000001, 0.00000004, 0.00000001, 0.00001877, 0.00000011,\n",
       "         0.00000005, 0.00000001, 0.00000125, 0.00000004, 0.00009694,\n",
       "         0.00000099, 0.00000033, 0.00000006, 0.00000005, 0.00000006,\n",
       "         0.00000013, 0.00000002, 0.00000002, 0.0000002 , 0.00000001,\n",
       "         0.00000014, 0.00000007, 0.00000003, 0.        , 0.00000012,\n",
       "         0.        , 0.00000001, 0.00000066, 0.0000009 , 0.00000005,\n",
       "         0.00000009, 0.00000062, 0.00000002, 0.0000009 , 0.00000038,\n",
       "         0.00000012, 0.00000006, 0.00000011, 0.        , 0.00001491,\n",
       "         0.00000001, 0.        , 0.00000001, 0.00002255, 0.00000001,\n",
       "         0.        , 0.00000004, 0.00000008, 0.00000007, 0.00000005,\n",
       "         0.00000004, 0.        , 0.00000005, 0.        , 0.00000028,\n",
       "         0.0000001 , 0.00000003, 0.00000002, 0.00000376, 0.00000001,\n",
       "         0.00000002, 0.00000001, 0.00000013, 0.        , 0.        ,\n",
       "         0.00000001, 0.00000002, 0.00000027, 0.        , 0.00000031,\n",
       "         0.        , 0.00104518, 0.00000001, 0.00000107, 0.        ,\n",
       "         0.00008268, 0.0000011 , 0.00000001, 0.00000005, 0.        ,\n",
       "         0.00000125, 0.0000003 , 0.00000001, 0.00000001, 0.00000048,\n",
       "         0.0000001 , 0.00000012, 0.00000003, 0.00000021, 0.00000045,\n",
       "         0.00000003, 0.        , 0.00000002, 0.00000003, 0.00000003,\n",
       "         0.00000008, 0.00000007, 0.00000007, 0.00000001, 0.00000002,\n",
       "         0.00000001, 0.00000003, 0.00000009, 0.00000029, 0.00000002,\n",
       "         0.0000001 , 0.        , 0.00000001, 0.00000005, 0.00000377,\n",
       "         0.00000192, 0.00000368, 0.00000006, 0.00000001, 0.00000088,\n",
       "         0.00000185, 0.        , 0.00000037, 0.        , 0.00000002,\n",
       "         0.00000005, 0.        , 0.00001278, 0.00000107, 0.00000019,\n",
       "         0.00000011, 0.00000005, 0.00000039, 0.        , 0.00000005,\n",
       "         0.00000001, 0.00000001, 0.        , 0.00000005, 0.00000009,\n",
       "         0.00000004, 0.00000033, 0.00000053, 0.00000001, 0.00000001,\n",
       "         0.00000003, 0.00000017, 0.00000032, 0.00000377, 0.00000002,\n",
       "         0.00000005, 0.00000012, 0.        , 0.00000013, 0.00000003,\n",
       "         0.00000017, 0.        , 0.00000146, 0.        , 0.00000142,\n",
       "         0.        , 0.00000127, 0.00000003, 0.00000063, 0.00000001,\n",
       "         0.00000073, 0.        , 0.        , 0.00000002, 0.00000062,\n",
       "         0.00000048, 0.00000079, 0.00000007, 0.        , 0.00000229,\n",
       "         0.00000001, 0.0000003 , 0.        , 0.00000006, 0.00000014,\n",
       "         0.00000003, 0.00000007, 0.00000004, 0.00000001, 0.        ,\n",
       "         0.00000016, 0.00000007, 0.        , 0.        , 0.        ,\n",
       "         0.00000004, 0.00000008, 0.00000001, 0.00000129, 0.00002885,\n",
       "         0.        , 0.00000043, 0.00000061, 0.00000039, 0.00000017,\n",
       "         0.00000002, 0.        , 0.000006  , 0.00000016, 0.        ,\n",
       "         0.        , 0.        , 0.00000021, 0.00000045, 0.        ,\n",
       "         0.00000003, 0.00000031, 0.00000019, 0.        , 0.00000006,\n",
       "         0.00000081, 0.00000003, 0.00000174, 0.00000002, 0.        ,\n",
       "         0.00001895, 0.        , 0.00001426, 0.00011304, 0.00000671,\n",
       "         0.00043202, 0.        , 0.00000005, 0.00000001, 0.00000046,\n",
       "         0.        , 0.        , 0.00000098, 0.        , 0.00000002,\n",
       "         0.        , 0.        , 0.00000016, 0.00000006, 0.        ,\n",
       "         0.        , 0.00000015, 0.        , 0.00000014, 0.        ,\n",
       "         0.00000018, 0.        , 0.00000002, 0.00000001, 0.        ,\n",
       "         0.00000641, 0.00000005, 0.00000004, 0.00000013, 0.00000001,\n",
       "         0.00000024, 0.00000095, 0.00000004, 0.        , 0.00000117,\n",
       "         0.00000002, 0.00000028, 0.00000001, 0.00000031, 0.00000003,\n",
       "         0.00000018, 0.00000025, 0.00000005, 0.00000031, 0.00000003,\n",
       "         0.        , 0.00000016, 0.00000001, 0.0000029 , 0.00000001,\n",
       "         0.        , 0.00000001, 0.        , 0.00000001, 0.00000006,\n",
       "         0.00000001, 0.00000006, 0.00001875, 0.        , 0.00000017,\n",
       "         0.00004578, 0.00000001, 0.        , 0.00000001, 0.        ,\n",
       "         0.        , 0.        , 0.00000001, 0.00000014, 0.        ,\n",
       "         0.00000191]], dtype=float32),\n",
       " ['ABBOTTS BABBLER', 'ABBOTTS BOOBY', 'ABYSSINIAN GROUND HORNBILL', 'AFRICAN CROWNED CRANE', 'AFRICAN EMERALD CUCKOO', 'AFRICAN FIREFINCH', 'AFRICAN OYSTER CATCHER', 'AFRICAN PIED HORNBILL', 'AFRICAN PYGMY GOOSE', 'ALBATROSS', 'ALBERTS TOWHEE', 'ALEXANDRINE PARAKEET', 'ALPINE CHOUGH', 'ALTAMIRA YELLOWTHROAT', 'AMERICAN AVOCET', 'AMERICAN BITTERN', 'AMERICAN COOT', 'AMERICAN DIPPER', 'AMERICAN FLAMINGO', 'AMERICAN GOLDFINCH', 'AMERICAN KESTREL', 'AMERICAN PIPIT', 'AMERICAN REDSTART', 'AMERICAN ROBIN', 'AMERICAN WIGEON', 'AMETHYST WOODSTAR', 'ANDEAN GOOSE', 'ANDEAN LAPWING', 'ANDEAN SISKIN', 'ANHINGA', 'ANIANIAU', 'ANNAS HUMMINGBIRD', 'ANTBIRD', 'ANTILLEAN EUPHONIA', 'APAPANE', 'APOSTLEBIRD', 'ARARIPE MANAKIN', 'ASHY STORM PETREL', 'ASHY THRUSHBIRD', 'ASIAN CRESTED IBIS', 'ASIAN DOLLARD BIRD', 'ASIAN GREEN BEE EATER', 'ASIAN OPENBILL STORK', 'AUCKLAND SHAQ', 'AUSTRAL CANASTERO', 'AUSTRALASIAN FIGBIRD', 'AVADAVAT', 'AZARAS SPINETAIL', 'AZURE BREASTED PITTA', 'AZURE JAY', 'AZURE TANAGER', 'AZURE TIT', 'BAIKAL TEAL', 'BALD EAGLE', 'BALD IBIS', 'BALI STARLING', 'BALTIMORE ORIOLE', 'BANANAQUIT', 'BAND TAILED GUAN', 'BANDED BROADBILL', 'BANDED PITA', 'BANDED STILT', 'BAR-TAILED GODWIT', 'BARN OWL', 'BARN SWALLOW', 'BARRED PUFFBIRD', 'BARROWS GOLDENEYE', 'BAY-BREASTED WARBLER', 'BEARDED BARBET', 'BEARDED BELLBIRD', 'BEARDED REEDLING', 'BELTED KINGFISHER', 'BIRD OF PARADISE', 'BLACK AND YELLOW BROADBILL', 'BLACK BAZA', 'BLACK BREASTED PUFFBIRD', 'BLACK COCKATO', 'BLACK FACED SPOONBILL', 'BLACK FRANCOLIN', 'BLACK HEADED CAIQUE', 'BLACK NECKED STILT', 'BLACK SKIMMER', 'BLACK SWAN', 'BLACK TAIL CRAKE', 'BLACK THROATED BUSHTIT', 'BLACK THROATED HUET', 'BLACK THROATED WARBLER', 'BLACK VENTED SHEARWATER', 'BLACK VULTURE', 'BLACK-CAPPED CHICKADEE', 'BLACK-NECKED GREBE', 'BLACK-THROATED SPARROW', 'BLACKBURNIAM WARBLER', 'BLONDE CRESTED WOODPECKER', 'BLOOD PHEASANT', 'BLUE COAU', 'BLUE DACNIS', 'BLUE GRAY GNATCATCHER', 'BLUE GROSBEAK', 'BLUE GROUSE', 'BLUE HERON', 'BLUE MALKOHA', 'BLUE THROATED PIPING GUAN', 'BLUE THROATED TOUCANET', 'BOBOLINK', 'BORNEAN BRISTLEHEAD', 'BORNEAN LEAFBIRD', 'BORNEAN PHEASANT', 'BRANDT CORMARANT', 'BREWERS BLACKBIRD', 'BROWN CREPPER', 'BROWN HEADED COWBIRD', 'BROWN NOODY', 'BROWN THRASHER', 'BUFFLEHEAD', 'BULWERS PHEASANT', 'BURCHELLS COURSER', 'BUSH TURKEY', 'CAATINGA CACHOLOTE', 'CABOTS TRAGOPAN', 'CACTUS WREN', 'CALIFORNIA CONDOR', 'CALIFORNIA GULL', 'CALIFORNIA QUAIL', 'CAMPO FLICKER', 'CANARY', 'CANVASBACK', 'CAPE GLOSSY STARLING', 'CAPE LONGCLAW', 'CAPE MAY WARBLER', 'CAPE ROCK THRUSH', 'CAPPED HERON', 'CAPUCHINBIRD', 'CARMINE BEE-EATER', 'CASPIAN TERN', 'CASSOWARY', 'CEDAR WAXWING', 'CERULEAN WARBLER', 'CHARA DE COLLAR', 'CHATTERING LORY', 'CHESTNET BELLIED EUPHONIA', 'CHESTNUT WINGED CUCKOO', 'CHINESE BAMBOO PARTRIDGE', 'CHINESE POND HERON', 'CHIPPING SPARROW', 'CHUCAO TAPACULO', 'CHUKAR PARTRIDGE', 'CINNAMON ATTILA', 'CINNAMON FLYCATCHER', 'CINNAMON TEAL', 'CLARKS GREBE', 'CLARKS NUTCRACKER', 'COCK OF THE  ROCK', 'COCKATOO', 'COLLARED ARACARI', 'COLLARED CRESCENTCHEST', 'COMMON FIRECREST', 'COMMON GRACKLE', 'COMMON HOUSE MARTIN', 'COMMON IORA', 'COMMON LOON', 'COMMON POORWILL', 'COMMON STARLING', 'COPPERSMITH BARBET', 'COPPERY TAILED COUCAL', 'CRAB PLOVER', 'CRANE HAWK', 'CREAM COLORED WOODPECKER', 'CRESTED AUKLET', 'CRESTED CARACARA', 'CRESTED COUA', 'CRESTED FIREBACK', 'CRESTED KINGFISHER', 'CRESTED NUTHATCH', 'CRESTED OROPENDOLA', 'CRESTED SERPENT EAGLE', 'CRESTED SHRIKETIT', 'CRESTED WOOD PARTRIDGE', 'CRIMSON CHAT', 'CRIMSON SUNBIRD', 'CROW', 'CUBAN TODY', 'CUBAN TROGON', 'CURL CRESTED ARACURI', 'D-ARNAUDS BARBET', 'DALMATIAN PELICAN', 'DARJEELING WOODPECKER', 'DARK EYED JUNCO', 'DAURIAN REDSTART', 'DEMOISELLE CRANE', 'DOUBLE BARRED FINCH', 'DOUBLE BRESTED CORMARANT', 'DOUBLE EYED FIG PARROT', 'DOWNY WOODPECKER', 'DUNLIN', 'DUSKY LORY', 'DUSKY ROBIN', 'EARED PITA', 'EASTERN BLUEBIRD', 'EASTERN BLUEBONNET', 'EASTERN GOLDEN WEAVER', 'EASTERN MEADOWLARK', 'EASTERN ROSELLA', 'EASTERN TOWEE', 'EASTERN WIP POOR WILL', 'EASTERN YELLOW ROBIN', 'ECUADORIAN HILLSTAR', 'EGYPTIAN GOOSE', 'ELEGANT TROGON', 'ELLIOTS  PHEASANT', 'EMERALD TANAGER', 'EMPEROR PENGUIN', 'EMU', 'ENGGANO MYNA', 'EURASIAN BULLFINCH', 'EURASIAN GOLDEN ORIOLE', 'EURASIAN MAGPIE', 'EUROPEAN GOLDFINCH', 'EUROPEAN TURTLE DOVE', 'EVENING GROSBEAK', 'FAIRY BLUEBIRD', 'FAIRY PENGUIN', 'FAIRY TERN', 'FAN TAILED WIDOW', 'FASCIATED WREN', 'FIERY MINIVET', 'FIORDLAND PENGUIN', 'FIRE TAILLED MYZORNIS', 'FLAME BOWERBIRD', 'FLAME TANAGER', 'FOREST WAGTAIL', 'FRIGATE', 'FRILL BACK PIGEON', 'GAMBELS QUAIL', 'GANG GANG COCKATOO', 'GILA WOODPECKER', 'GILDED FLICKER', 'GLOSSY IBIS', 'GO AWAY BIRD', 'GOLD WING WARBLER', 'GOLDEN BOWER BIRD', 'GOLDEN CHEEKED WARBLER', 'GOLDEN CHLOROPHONIA', 'GOLDEN EAGLE', 'GOLDEN PARAKEET', 'GOLDEN PHEASANT', 'GOLDEN PIPIT', 'GOULDIAN FINCH', 'GRANDALA', 'GRAY CATBIRD', 'GRAY KINGBIRD', 'GRAY PARTRIDGE', 'GREAT ARGUS', 'GREAT GRAY OWL', 'GREAT JACAMAR', 'GREAT KISKADEE', 'GREAT POTOO', 'GREAT TINAMOU', 'GREAT XENOPS', 'GREATER PEWEE', 'GREATER PRAIRIE CHICKEN', 'GREATOR SAGE GROUSE', 'GREEN BROADBILL', 'GREEN JAY', 'GREEN MAGPIE', 'GREEN WINGED DOVE', 'GREY CUCKOOSHRIKE', 'GREY HEADED CHACHALACA', 'GREY HEADED FISH EAGLE', 'GREY PLOVER', 'GROVED BILLED ANI', 'GUINEA TURACO', 'GUINEAFOWL', 'GURNEYS PITTA', 'GYRFALCON', 'HAMERKOP', 'HARLEQUIN DUCK', 'HARLEQUIN QUAIL', 'HARPY EAGLE', 'HAWAIIAN GOOSE', 'HAWFINCH', 'HELMET VANGA', 'HEPATIC TANAGER', 'HIMALAYAN BLUETAIL', 'HIMALAYAN MONAL', 'HOATZIN', 'HOODED MERGANSER', 'HOOPOES', 'HORNED GUAN', 'HORNED LARK', 'HORNED SUNGEM', 'HOUSE FINCH', 'HOUSE SPARROW', 'HYACINTH MACAW', 'IBERIAN MAGPIE', 'IBISBILL', 'IMPERIAL SHAQ', 'INCA TERN', 'INDIAN BUSTARD', 'INDIAN PITTA', 'INDIAN ROLLER', 'INDIAN VULTURE', 'INDIGO BUNTING', 'INDIGO FLYCATCHER', 'INLAND DOTTEREL', 'IVORY BILLED ARACARI', 'IVORY GULL', 'IWI', 'JABIRU', 'JACK SNIPE', 'JACOBIN PIGEON', 'JANDAYA PARAKEET', 'JAPANESE ROBIN', 'JAVA SPARROW', 'JOCOTOCO ANTPITTA', 'KAGU', 'KAKAPO', 'KILLDEAR', 'KING EIDER', 'KING VULTURE', 'KIWI', 'KNOB BILLED DUCK', 'KOOKABURRA', 'LARK BUNTING', 'LAUGHING GULL', 'LAZULI BUNTING', 'LESSER ADJUTANT', 'LILAC ROLLER', 'LIMPKIN', 'LITTLE AUK', 'LOGGERHEAD SHRIKE', 'LONG-EARED OWL', 'LOONEY BIRDS', 'LUCIFER HUMMINGBIRD', 'MAGPIE GOOSE', 'MALABAR HORNBILL', 'MALACHITE KINGFISHER', 'MALAGASY WHITE EYE', 'MALEO', 'MALLARD DUCK', 'MANDRIN DUCK', 'MANGROVE CUCKOO', 'MARABOU STORK', 'MASKED BOBWHITE', 'MASKED BOOBY', 'MASKED LAPWING', 'MCKAYS BUNTING', 'MERLIN', 'MIKADO  PHEASANT', 'MILITARY MACAW', 'MOURNING DOVE', 'MYNA', 'NICOBAR PIGEON', 'NOISY FRIARBIRD', 'NORTHERN BEARDLESS TYRANNULET', 'NORTHERN CARDINAL', 'NORTHERN FLICKER', 'NORTHERN FULMAR', 'NORTHERN GANNET', 'NORTHERN GOSHAWK', 'NORTHERN JACANA', 'NORTHERN MOCKINGBIRD', 'NORTHERN PARULA', 'NORTHERN RED BISHOP', 'NORTHERN SHOVELER', 'OCELLATED TURKEY', 'OILBIRD', 'OKINAWA RAIL', 'ORANGE BREASTED TROGON', 'ORANGE BRESTED BUNTING', 'ORIENTAL BAY OWL', 'ORNATE HAWK EAGLE', 'OSPREY', 'OSTRICH', 'OVENBIRD', 'OYSTER CATCHER', 'PAINTED BUNTING', 'PALILA', 'PALM NUT VULTURE', 'PARADISE TANAGER', 'PARAKETT  AUKLET', 'PARAKETT AUKLET', 'PARUS MAJOR', 'PATAGONIAN SIERRA FINCH', 'PEACOCK', 'PEREGRINE FALCON', 'PHAINOPEPLA', 'PHILIPPINE EAGLE', 'PINK ROBIN', 'PLUSH CRESTED JAY', 'POMARINE JAEGER', 'PUFFIN', 'PUNA TEAL', 'PURPLE FINCH', 'PURPLE GALLINULE', 'PURPLE MARTIN', 'PURPLE SWAMPHEN', 'PYGMY KINGFISHER', 'PYRRHULOXIA', 'QUETZAL', 'RAINBOW LORIKEET', 'RAZORBILL', 'RED BEARDED BEE EATER', 'RED BELLIED PITTA', 'RED BILLED TROPICBIRD', 'RED BROWED FINCH', 'RED CROSSBILL', 'RED FACED CORMORANT', 'RED FACED WARBLER', 'RED FODY', 'RED HEADED DUCK', 'RED HEADED WOODPECKER', 'RED KNOT', 'RED LEGGED HONEYCREEPER', 'RED NAPED TROGON', 'RED SHOULDERED HAWK', 'RED TAILED HAWK', 'RED TAILED THRUSH', 'RED WINGED BLACKBIRD', 'RED WISKERED BULBUL', 'REGENT BOWERBIRD', 'RING-NECKED PHEASANT', 'ROADRUNNER', 'ROCK DOVE', 'ROSE BREASTED COCKATOO', 'ROSE BREASTED GROSBEAK', 'ROSEATE SPOONBILL', 'ROSY FACED LOVEBIRD', 'ROUGH LEG BUZZARD', 'ROYAL FLYCATCHER', 'RUBY CROWNED KINGLET', 'RUBY THROATED HUMMINGBIRD', 'RUDDY SHELDUCK', 'RUDY KINGFISHER', 'RUFOUS KINGFISHER', 'RUFOUS TREPE', 'RUFUOS MOTMOT', 'SAMATRAN THRUSH', 'SAND MARTIN', 'SANDHILL CRANE', 'SATYR TRAGOPAN', 'SAYS PHOEBE', 'SCARLET CROWNED FRUIT DOVE', 'SCARLET FACED LIOCICHLA', 'SCARLET IBIS', 'SCARLET MACAW', 'SCARLET TANAGER', 'SHOEBILL', 'SHORT BILLED DOWITCHER', 'SMITHS LONGSPUR', 'SNOW GOOSE', 'SNOW PARTRIDGE', 'SNOWY EGRET', 'SNOWY OWL', 'SNOWY PLOVER', 'SNOWY SHEATHBILL', 'SORA', 'SPANGLED COTINGA', 'SPLENDID WREN', 'SPOON BILED SANDPIPER', 'SPOTTED CATBIRD', 'SPOTTED WHISTLING DUCK', 'SQUACCO HERON', 'SRI LANKA BLUE MAGPIE', 'STEAMER DUCK', 'STORK BILLED KINGFISHER', 'STRIATED CARACARA', 'STRIPED OWL', 'STRIPPED MANAKIN', 'STRIPPED SWALLOW', 'SUNBITTERN', 'SUPERB STARLING', 'SURF SCOTER', 'SWINHOES PHEASANT', 'TAILORBIRD', 'TAIWAN MAGPIE', 'TAKAHE', 'TASMANIAN HEN', 'TAWNY FROGMOUTH', 'TEAL DUCK', 'TIT MOUSE', 'TOUCHAN', 'TOWNSENDS WARBLER', 'TREE SWALLOW', 'TRICOLORED BLACKBIRD', 'TROPICAL KINGBIRD', 'TRUMPTER SWAN', 'TURKEY VULTURE', 'TURQUOISE MOTMOT', 'UMBRELLA BIRD', 'VARIED THRUSH', 'VEERY', 'VENEZUELIAN TROUPIAL', 'VERDIN', 'VERMILION FLYCATHER', 'VICTORIA CROWNED PIGEON', 'VIOLET BACKED STARLING', 'VIOLET CUCKOO', 'VIOLET GREEN SWALLOW', 'VIOLET TURACO', 'VISAYAN HORNBILL', 'VULTURINE GUINEAFOWL', 'WALL CREAPER', 'WATTLED CURASSOW', 'WATTLED LAPWING', 'WHIMBREL', 'WHITE BREASTED WATERHEN', 'WHITE BROWED CRAKE', 'WHITE CHEEKED TURACO', 'WHITE CRESTED HORNBILL', 'WHITE EARED HUMMINGBIRD', 'WHITE NECKED RAVEN', 'WHITE TAILED TROPIC', 'WHITE THROATED BEE EATER', 'WILD TURKEY', 'WILLOW PTARMIGAN', 'WILSONS BIRD OF PARADISE', 'WOOD DUCK', 'WOOD THRUSH', 'WOODLAND KINGFISHER', 'WRENTIT', 'YELLOW BELLIED FLOWERPECKER', 'YELLOW BREASTED CHAT', 'YELLOW CACIQUE', 'YELLOW HEADED BLACKBIRD', 'ZEBRA DOVE'])"
      ]
     },
     "execution_count": 23,
     "metadata": {},
     "output_type": "execute_result"
    }
   ],
   "source": [
    "results = sess.run([output_name], {input_name: hot_dog_tensor_onnx})[0]\n",
    "labels[np.argmax(results)], results, labels"
   ]
  },
  {
   "cell_type": "code",
   "execution_count": 24,
   "metadata": {},
   "outputs": [
    {
     "data": {
      "text/plain": [
       "('ROADRUNNER',\n",
       " array([[0.00000239, 0.00000001, 0.00000003, 0.00000005, 0.00000003,\n",
       "         0.        , 0.        , 0.00000064, 0.        , 0.        ,\n",
       "         0.00000157, 0.00000001, 0.00000002, 0.00000013, 0.00000031,\n",
       "         0.00000697, 0.00000002, 0.        , 0.        , 0.00000003,\n",
       "         0.00000001, 0.00000042, 0.00000012, 0.        , 0.00000017,\n",
       "         0.00000006, 0.00000001, 0.00000034, 0.00000014, 0.00000125,\n",
       "         0.00000014, 0.00000003, 0.00000304, 0.        , 0.00000003,\n",
       "         0.00000304, 0.00000003, 0.        , 0.00000022, 0.00000003,\n",
       "         0.        , 0.00000004, 0.00000002, 0.00000058, 0.00018795,\n",
       "         0.0000001 , 0.00000004, 0.00000002, 0.00000009, 0.        ,\n",
       "         0.        , 0.00000002, 0.00000002, 0.00000002, 0.00000041,\n",
       "         0.00000001, 0.00000002, 0.        , 0.00000064, 0.00000001,\n",
       "         0.00000001, 0.00000002, 0.00000561, 0.        , 0.00000005,\n",
       "         0.00000014, 0.00000004, 0.00000019, 0.00000001, 0.00000008,\n",
       "         0.00000003, 0.00000192, 0.00000002, 0.        , 0.00000001,\n",
       "         0.        , 0.        , 0.00000006, 0.00000319, 0.        ,\n",
       "         0.00000012, 0.00000007, 0.        , 0.        , 0.        ,\n",
       "         0.        , 0.00000038, 0.00000002, 0.00000003, 0.00000012,\n",
       "         0.00000048, 0.00000003, 0.        , 0.00000007, 0.00000023,\n",
       "         0.        , 0.00000001, 0.00000007, 0.        , 0.00000002,\n",
       "         0.00000001, 0.00000002, 0.00000001, 0.        , 0.00000016,\n",
       "         0.        , 0.00000001, 0.00000001, 0.00000002, 0.00000002,\n",
       "         0.00000401, 0.00000001, 0.        , 0.00000347, 0.00000005,\n",
       "         0.        , 0.00000232, 0.00000003, 0.00000008, 0.00000001,\n",
       "         0.00001424, 0.        , 0.00000006, 0.00000002, 0.00000001,\n",
       "         0.00000005, 0.        , 0.00000006, 0.00000014, 0.00000006,\n",
       "         0.00000017, 0.00000009, 0.        , 0.00000009, 0.00000007,\n",
       "         0.00000002, 0.        , 0.00000004, 0.0000002 , 0.        ,\n",
       "         0.        , 0.00000012, 0.        , 0.00000299, 0.00000007,\n",
       "         0.00000001, 0.        , 0.00000024, 0.00000004, 0.00000004,\n",
       "         0.00000004, 0.        , 0.00000001, 0.        , 0.        ,\n",
       "         0.00000009, 0.00000002, 0.00000004, 0.00000009, 0.00000017,\n",
       "         0.00000017, 0.00000006, 0.00001096, 0.        , 0.00000144,\n",
       "         0.00000081, 0.        , 0.00000001, 0.        , 0.00000003,\n",
       "         0.00000005, 0.        , 0.00001443, 0.00000001, 0.        ,\n",
       "         0.        , 0.00000002, 0.        , 0.00000018, 0.00000003,\n",
       "         0.00000001, 0.00000001, 0.00000001, 0.00000021, 0.0000075 ,\n",
       "         0.00000001, 0.00000008, 0.00000009, 0.00000005, 0.00000002,\n",
       "         0.00000003, 0.00000007, 0.        , 0.00000003, 0.00000012,\n",
       "         0.        , 0.00000012, 0.00000025, 0.        , 0.        ,\n",
       "         0.00000002, 0.00000011, 0.00000001, 0.00000021, 0.        ,\n",
       "         0.00000005, 0.00000032, 0.        , 0.        , 0.00000001,\n",
       "         0.00000001, 0.        , 0.00000019, 0.        , 0.        ,\n",
       "         0.00000001, 0.00000006, 0.00000004, 0.00000001, 0.00000001,\n",
       "         0.        , 0.00000082, 0.00000005, 0.00000795, 0.00000704,\n",
       "         0.        , 0.        , 0.        , 0.00000009, 0.00000004,\n",
       "         0.00000096, 0.00000003, 0.00000001, 0.00000009, 0.        ,\n",
       "         0.00000123, 0.00000003, 0.00000061, 0.00000008, 0.        ,\n",
       "         0.        , 0.        , 0.        , 0.        , 0.        ,\n",
       "         0.00000091, 0.00000011, 0.        , 0.00000024, 0.00000001,\n",
       "         0.00000005, 0.        , 0.0000002 , 0.        , 0.00000004,\n",
       "         0.00000003, 0.        , 0.        , 0.00000011, 0.00000019,\n",
       "         0.00000108, 0.00000205, 0.        , 0.00000001, 0.        ,\n",
       "         0.        , 0.        , 0.00000006, 0.        , 0.00000227,\n",
       "         0.0000012 , 0.00000001, 0.00000044, 0.00000002, 0.00000004,\n",
       "         0.00000015, 0.        , 0.00000005, 0.        , 0.00000004,\n",
       "         0.        , 0.        , 0.00000006, 0.00000009, 0.00000005,\n",
       "         0.00000377, 0.00000007, 0.00000057, 0.00000002, 0.00000024,\n",
       "         0.00000046, 0.00000001, 0.00000005, 0.        , 0.00000066,\n",
       "         0.00000001, 0.00000003, 0.        , 0.00000757, 0.00000001,\n",
       "         0.00000098, 0.00000001, 0.        , 0.00000003, 0.00000012,\n",
       "         0.        , 0.00000002, 0.        , 0.00000001, 0.00000054,\n",
       "         0.00000002, 0.        , 0.        , 0.        , 0.00000006,\n",
       "         0.00000003, 0.00000001, 0.00000026, 0.        , 0.        ,\n",
       "         0.00000035, 0.00000004, 0.00000003, 0.00000003, 0.        ,\n",
       "         0.00000005, 0.00000005, 0.00000003, 0.00001217, 0.        ,\n",
       "         0.00000003, 0.        , 0.        , 0.00000007, 0.        ,\n",
       "         0.        , 0.00000312, 0.        , 0.        , 0.00000002,\n",
       "         0.00000019, 0.00000001, 0.00000062, 0.00000048, 0.        ,\n",
       "         0.        , 0.00000001, 0.00000008, 0.00000002, 0.        ,\n",
       "         0.00000001, 0.00000001, 0.00000001, 0.00000006, 0.00000691,\n",
       "         0.00000001, 0.00000001, 0.        , 0.00000009, 0.00000004,\n",
       "         0.00000001, 0.00000022, 0.        , 0.00000078, 0.00000013,\n",
       "         0.        , 0.00000002, 0.00000002, 0.00000004, 0.00000001,\n",
       "         0.        , 0.        , 0.00000001, 0.0000003 , 0.00000001,\n",
       "         0.00000001, 0.00000002, 0.        , 0.00000002, 0.        ,\n",
       "         0.        , 0.        , 0.00000025, 0.00000005, 0.00000002,\n",
       "         0.        , 0.00000113, 0.00000008, 0.00000019, 0.00000005,\n",
       "         0.00000044, 0.        , 0.00000019, 0.00000002, 0.        ,\n",
       "         0.00000001, 0.        , 0.00000003, 0.        , 0.        ,\n",
       "         0.00000001, 0.        , 0.        , 0.        , 0.00000004,\n",
       "         0.00000001, 0.        , 0.00000001, 0.00000002, 0.        ,\n",
       "         0.        , 0.00000022, 0.00000168, 0.00000003, 0.        ,\n",
       "         0.00000001, 0.00000001, 0.        , 0.00000179, 0.00000023,\n",
       "         0.        , 0.00000008, 0.9995509 , 0.00000002, 0.        ,\n",
       "         0.00000001, 0.00000002, 0.        , 0.00000136, 0.00000002,\n",
       "         0.00000059, 0.00000002, 0.00000001, 0.00000002, 0.00000008,\n",
       "         0.0000004 , 0.        , 0.        , 0.00000026, 0.00000002,\n",
       "         0.        , 0.00001021, 0.        , 0.00000018, 0.00000002,\n",
       "         0.        , 0.00000001, 0.        , 0.00000005, 0.00000012,\n",
       "         0.00000001, 0.00000002, 0.00000008, 0.00000001, 0.00000003,\n",
       "         0.        , 0.00000018, 0.00000011, 0.00000135, 0.00000019,\n",
       "         0.00000001, 0.00000032, 0.00004619, 0.00000002, 0.        ,\n",
       "         0.00000002, 0.00000146, 0.00000005, 0.00000011, 0.00000014,\n",
       "         0.00000205, 0.        , 0.        , 0.00000004, 0.00000011,\n",
       "         0.00000001, 0.        , 0.00000001, 0.00000008, 0.00000005,\n",
       "         0.00000005, 0.        , 0.        , 0.00000005, 0.00000007,\n",
       "         0.00000016, 0.        , 0.        , 0.00000003, 0.00000001,\n",
       "         0.        , 0.00000055, 0.00000001, 0.00000001, 0.00000003,\n",
       "         0.00000001, 0.00000028, 0.00000001, 0.        , 0.        ,\n",
       "         0.        , 0.00000124, 0.00000003, 0.00000026, 0.00000103,\n",
       "         0.00000766, 0.00000001, 0.00000001, 0.00000002, 0.00000045,\n",
       "         0.00000009, 0.00000001, 0.00000045, 0.00000036, 0.00000004,\n",
       "         0.00000002, 0.        , 0.        , 0.00000011, 0.        ,\n",
       "         0.00000122, 0.00000002, 0.        , 0.        , 0.00000001,\n",
       "         0.00000003]], dtype=float32),\n",
       " ['ABBOTTS BABBLER', 'ABBOTTS BOOBY', 'ABYSSINIAN GROUND HORNBILL', 'AFRICAN CROWNED CRANE', 'AFRICAN EMERALD CUCKOO', 'AFRICAN FIREFINCH', 'AFRICAN OYSTER CATCHER', 'AFRICAN PIED HORNBILL', 'AFRICAN PYGMY GOOSE', 'ALBATROSS', 'ALBERTS TOWHEE', 'ALEXANDRINE PARAKEET', 'ALPINE CHOUGH', 'ALTAMIRA YELLOWTHROAT', 'AMERICAN AVOCET', 'AMERICAN BITTERN', 'AMERICAN COOT', 'AMERICAN DIPPER', 'AMERICAN FLAMINGO', 'AMERICAN GOLDFINCH', 'AMERICAN KESTREL', 'AMERICAN PIPIT', 'AMERICAN REDSTART', 'AMERICAN ROBIN', 'AMERICAN WIGEON', 'AMETHYST WOODSTAR', 'ANDEAN GOOSE', 'ANDEAN LAPWING', 'ANDEAN SISKIN', 'ANHINGA', 'ANIANIAU', 'ANNAS HUMMINGBIRD', 'ANTBIRD', 'ANTILLEAN EUPHONIA', 'APAPANE', 'APOSTLEBIRD', 'ARARIPE MANAKIN', 'ASHY STORM PETREL', 'ASHY THRUSHBIRD', 'ASIAN CRESTED IBIS', 'ASIAN DOLLARD BIRD', 'ASIAN GREEN BEE EATER', 'ASIAN OPENBILL STORK', 'AUCKLAND SHAQ', 'AUSTRAL CANASTERO', 'AUSTRALASIAN FIGBIRD', 'AVADAVAT', 'AZARAS SPINETAIL', 'AZURE BREASTED PITTA', 'AZURE JAY', 'AZURE TANAGER', 'AZURE TIT', 'BAIKAL TEAL', 'BALD EAGLE', 'BALD IBIS', 'BALI STARLING', 'BALTIMORE ORIOLE', 'BANANAQUIT', 'BAND TAILED GUAN', 'BANDED BROADBILL', 'BANDED PITA', 'BANDED STILT', 'BAR-TAILED GODWIT', 'BARN OWL', 'BARN SWALLOW', 'BARRED PUFFBIRD', 'BARROWS GOLDENEYE', 'BAY-BREASTED WARBLER', 'BEARDED BARBET', 'BEARDED BELLBIRD', 'BEARDED REEDLING', 'BELTED KINGFISHER', 'BIRD OF PARADISE', 'BLACK AND YELLOW BROADBILL', 'BLACK BAZA', 'BLACK BREASTED PUFFBIRD', 'BLACK COCKATO', 'BLACK FACED SPOONBILL', 'BLACK FRANCOLIN', 'BLACK HEADED CAIQUE', 'BLACK NECKED STILT', 'BLACK SKIMMER', 'BLACK SWAN', 'BLACK TAIL CRAKE', 'BLACK THROATED BUSHTIT', 'BLACK THROATED HUET', 'BLACK THROATED WARBLER', 'BLACK VENTED SHEARWATER', 'BLACK VULTURE', 'BLACK-CAPPED CHICKADEE', 'BLACK-NECKED GREBE', 'BLACK-THROATED SPARROW', 'BLACKBURNIAM WARBLER', 'BLONDE CRESTED WOODPECKER', 'BLOOD PHEASANT', 'BLUE COAU', 'BLUE DACNIS', 'BLUE GRAY GNATCATCHER', 'BLUE GROSBEAK', 'BLUE GROUSE', 'BLUE HERON', 'BLUE MALKOHA', 'BLUE THROATED PIPING GUAN', 'BLUE THROATED TOUCANET', 'BOBOLINK', 'BORNEAN BRISTLEHEAD', 'BORNEAN LEAFBIRD', 'BORNEAN PHEASANT', 'BRANDT CORMARANT', 'BREWERS BLACKBIRD', 'BROWN CREPPER', 'BROWN HEADED COWBIRD', 'BROWN NOODY', 'BROWN THRASHER', 'BUFFLEHEAD', 'BULWERS PHEASANT', 'BURCHELLS COURSER', 'BUSH TURKEY', 'CAATINGA CACHOLOTE', 'CABOTS TRAGOPAN', 'CACTUS WREN', 'CALIFORNIA CONDOR', 'CALIFORNIA GULL', 'CALIFORNIA QUAIL', 'CAMPO FLICKER', 'CANARY', 'CANVASBACK', 'CAPE GLOSSY STARLING', 'CAPE LONGCLAW', 'CAPE MAY WARBLER', 'CAPE ROCK THRUSH', 'CAPPED HERON', 'CAPUCHINBIRD', 'CARMINE BEE-EATER', 'CASPIAN TERN', 'CASSOWARY', 'CEDAR WAXWING', 'CERULEAN WARBLER', 'CHARA DE COLLAR', 'CHATTERING LORY', 'CHESTNET BELLIED EUPHONIA', 'CHESTNUT WINGED CUCKOO', 'CHINESE BAMBOO PARTRIDGE', 'CHINESE POND HERON', 'CHIPPING SPARROW', 'CHUCAO TAPACULO', 'CHUKAR PARTRIDGE', 'CINNAMON ATTILA', 'CINNAMON FLYCATCHER', 'CINNAMON TEAL', 'CLARKS GREBE', 'CLARKS NUTCRACKER', 'COCK OF THE  ROCK', 'COCKATOO', 'COLLARED ARACARI', 'COLLARED CRESCENTCHEST', 'COMMON FIRECREST', 'COMMON GRACKLE', 'COMMON HOUSE MARTIN', 'COMMON IORA', 'COMMON LOON', 'COMMON POORWILL', 'COMMON STARLING', 'COPPERSMITH BARBET', 'COPPERY TAILED COUCAL', 'CRAB PLOVER', 'CRANE HAWK', 'CREAM COLORED WOODPECKER', 'CRESTED AUKLET', 'CRESTED CARACARA', 'CRESTED COUA', 'CRESTED FIREBACK', 'CRESTED KINGFISHER', 'CRESTED NUTHATCH', 'CRESTED OROPENDOLA', 'CRESTED SERPENT EAGLE', 'CRESTED SHRIKETIT', 'CRESTED WOOD PARTRIDGE', 'CRIMSON CHAT', 'CRIMSON SUNBIRD', 'CROW', 'CUBAN TODY', 'CUBAN TROGON', 'CURL CRESTED ARACURI', 'D-ARNAUDS BARBET', 'DALMATIAN PELICAN', 'DARJEELING WOODPECKER', 'DARK EYED JUNCO', 'DAURIAN REDSTART', 'DEMOISELLE CRANE', 'DOUBLE BARRED FINCH', 'DOUBLE BRESTED CORMARANT', 'DOUBLE EYED FIG PARROT', 'DOWNY WOODPECKER', 'DUNLIN', 'DUSKY LORY', 'DUSKY ROBIN', 'EARED PITA', 'EASTERN BLUEBIRD', 'EASTERN BLUEBONNET', 'EASTERN GOLDEN WEAVER', 'EASTERN MEADOWLARK', 'EASTERN ROSELLA', 'EASTERN TOWEE', 'EASTERN WIP POOR WILL', 'EASTERN YELLOW ROBIN', 'ECUADORIAN HILLSTAR', 'EGYPTIAN GOOSE', 'ELEGANT TROGON', 'ELLIOTS  PHEASANT', 'EMERALD TANAGER', 'EMPEROR PENGUIN', 'EMU', 'ENGGANO MYNA', 'EURASIAN BULLFINCH', 'EURASIAN GOLDEN ORIOLE', 'EURASIAN MAGPIE', 'EUROPEAN GOLDFINCH', 'EUROPEAN TURTLE DOVE', 'EVENING GROSBEAK', 'FAIRY BLUEBIRD', 'FAIRY PENGUIN', 'FAIRY TERN', 'FAN TAILED WIDOW', 'FASCIATED WREN', 'FIERY MINIVET', 'FIORDLAND PENGUIN', 'FIRE TAILLED MYZORNIS', 'FLAME BOWERBIRD', 'FLAME TANAGER', 'FOREST WAGTAIL', 'FRIGATE', 'FRILL BACK PIGEON', 'GAMBELS QUAIL', 'GANG GANG COCKATOO', 'GILA WOODPECKER', 'GILDED FLICKER', 'GLOSSY IBIS', 'GO AWAY BIRD', 'GOLD WING WARBLER', 'GOLDEN BOWER BIRD', 'GOLDEN CHEEKED WARBLER', 'GOLDEN CHLOROPHONIA', 'GOLDEN EAGLE', 'GOLDEN PARAKEET', 'GOLDEN PHEASANT', 'GOLDEN PIPIT', 'GOULDIAN FINCH', 'GRANDALA', 'GRAY CATBIRD', 'GRAY KINGBIRD', 'GRAY PARTRIDGE', 'GREAT ARGUS', 'GREAT GRAY OWL', 'GREAT JACAMAR', 'GREAT KISKADEE', 'GREAT POTOO', 'GREAT TINAMOU', 'GREAT XENOPS', 'GREATER PEWEE', 'GREATER PRAIRIE CHICKEN', 'GREATOR SAGE GROUSE', 'GREEN BROADBILL', 'GREEN JAY', 'GREEN MAGPIE', 'GREEN WINGED DOVE', 'GREY CUCKOOSHRIKE', 'GREY HEADED CHACHALACA', 'GREY HEADED FISH EAGLE', 'GREY PLOVER', 'GROVED BILLED ANI', 'GUINEA TURACO', 'GUINEAFOWL', 'GURNEYS PITTA', 'GYRFALCON', 'HAMERKOP', 'HARLEQUIN DUCK', 'HARLEQUIN QUAIL', 'HARPY EAGLE', 'HAWAIIAN GOOSE', 'HAWFINCH', 'HELMET VANGA', 'HEPATIC TANAGER', 'HIMALAYAN BLUETAIL', 'HIMALAYAN MONAL', 'HOATZIN', 'HOODED MERGANSER', 'HOOPOES', 'HORNED GUAN', 'HORNED LARK', 'HORNED SUNGEM', 'HOUSE FINCH', 'HOUSE SPARROW', 'HYACINTH MACAW', 'IBERIAN MAGPIE', 'IBISBILL', 'IMPERIAL SHAQ', 'INCA TERN', 'INDIAN BUSTARD', 'INDIAN PITTA', 'INDIAN ROLLER', 'INDIAN VULTURE', 'INDIGO BUNTING', 'INDIGO FLYCATCHER', 'INLAND DOTTEREL', 'IVORY BILLED ARACARI', 'IVORY GULL', 'IWI', 'JABIRU', 'JACK SNIPE', 'JACOBIN PIGEON', 'JANDAYA PARAKEET', 'JAPANESE ROBIN', 'JAVA SPARROW', 'JOCOTOCO ANTPITTA', 'KAGU', 'KAKAPO', 'KILLDEAR', 'KING EIDER', 'KING VULTURE', 'KIWI', 'KNOB BILLED DUCK', 'KOOKABURRA', 'LARK BUNTING', 'LAUGHING GULL', 'LAZULI BUNTING', 'LESSER ADJUTANT', 'LILAC ROLLER', 'LIMPKIN', 'LITTLE AUK', 'LOGGERHEAD SHRIKE', 'LONG-EARED OWL', 'LOONEY BIRDS', 'LUCIFER HUMMINGBIRD', 'MAGPIE GOOSE', 'MALABAR HORNBILL', 'MALACHITE KINGFISHER', 'MALAGASY WHITE EYE', 'MALEO', 'MALLARD DUCK', 'MANDRIN DUCK', 'MANGROVE CUCKOO', 'MARABOU STORK', 'MASKED BOBWHITE', 'MASKED BOOBY', 'MASKED LAPWING', 'MCKAYS BUNTING', 'MERLIN', 'MIKADO  PHEASANT', 'MILITARY MACAW', 'MOURNING DOVE', 'MYNA', 'NICOBAR PIGEON', 'NOISY FRIARBIRD', 'NORTHERN BEARDLESS TYRANNULET', 'NORTHERN CARDINAL', 'NORTHERN FLICKER', 'NORTHERN FULMAR', 'NORTHERN GANNET', 'NORTHERN GOSHAWK', 'NORTHERN JACANA', 'NORTHERN MOCKINGBIRD', 'NORTHERN PARULA', 'NORTHERN RED BISHOP', 'NORTHERN SHOVELER', 'OCELLATED TURKEY', 'OILBIRD', 'OKINAWA RAIL', 'ORANGE BREASTED TROGON', 'ORANGE BRESTED BUNTING', 'ORIENTAL BAY OWL', 'ORNATE HAWK EAGLE', 'OSPREY', 'OSTRICH', 'OVENBIRD', 'OYSTER CATCHER', 'PAINTED BUNTING', 'PALILA', 'PALM NUT VULTURE', 'PARADISE TANAGER', 'PARAKETT  AUKLET', 'PARAKETT AUKLET', 'PARUS MAJOR', 'PATAGONIAN SIERRA FINCH', 'PEACOCK', 'PEREGRINE FALCON', 'PHAINOPEPLA', 'PHILIPPINE EAGLE', 'PINK ROBIN', 'PLUSH CRESTED JAY', 'POMARINE JAEGER', 'PUFFIN', 'PUNA TEAL', 'PURPLE FINCH', 'PURPLE GALLINULE', 'PURPLE MARTIN', 'PURPLE SWAMPHEN', 'PYGMY KINGFISHER', 'PYRRHULOXIA', 'QUETZAL', 'RAINBOW LORIKEET', 'RAZORBILL', 'RED BEARDED BEE EATER', 'RED BELLIED PITTA', 'RED BILLED TROPICBIRD', 'RED BROWED FINCH', 'RED CROSSBILL', 'RED FACED CORMORANT', 'RED FACED WARBLER', 'RED FODY', 'RED HEADED DUCK', 'RED HEADED WOODPECKER', 'RED KNOT', 'RED LEGGED HONEYCREEPER', 'RED NAPED TROGON', 'RED SHOULDERED HAWK', 'RED TAILED HAWK', 'RED TAILED THRUSH', 'RED WINGED BLACKBIRD', 'RED WISKERED BULBUL', 'REGENT BOWERBIRD', 'RING-NECKED PHEASANT', 'ROADRUNNER', 'ROCK DOVE', 'ROSE BREASTED COCKATOO', 'ROSE BREASTED GROSBEAK', 'ROSEATE SPOONBILL', 'ROSY FACED LOVEBIRD', 'ROUGH LEG BUZZARD', 'ROYAL FLYCATCHER', 'RUBY CROWNED KINGLET', 'RUBY THROATED HUMMINGBIRD', 'RUDDY SHELDUCK', 'RUDY KINGFISHER', 'RUFOUS KINGFISHER', 'RUFOUS TREPE', 'RUFUOS MOTMOT', 'SAMATRAN THRUSH', 'SAND MARTIN', 'SANDHILL CRANE', 'SATYR TRAGOPAN', 'SAYS PHOEBE', 'SCARLET CROWNED FRUIT DOVE', 'SCARLET FACED LIOCICHLA', 'SCARLET IBIS', 'SCARLET MACAW', 'SCARLET TANAGER', 'SHOEBILL', 'SHORT BILLED DOWITCHER', 'SMITHS LONGSPUR', 'SNOW GOOSE', 'SNOW PARTRIDGE', 'SNOWY EGRET', 'SNOWY OWL', 'SNOWY PLOVER', 'SNOWY SHEATHBILL', 'SORA', 'SPANGLED COTINGA', 'SPLENDID WREN', 'SPOON BILED SANDPIPER', 'SPOTTED CATBIRD', 'SPOTTED WHISTLING DUCK', 'SQUACCO HERON', 'SRI LANKA BLUE MAGPIE', 'STEAMER DUCK', 'STORK BILLED KINGFISHER', 'STRIATED CARACARA', 'STRIPED OWL', 'STRIPPED MANAKIN', 'STRIPPED SWALLOW', 'SUNBITTERN', 'SUPERB STARLING', 'SURF SCOTER', 'SWINHOES PHEASANT', 'TAILORBIRD', 'TAIWAN MAGPIE', 'TAKAHE', 'TASMANIAN HEN', 'TAWNY FROGMOUTH', 'TEAL DUCK', 'TIT MOUSE', 'TOUCHAN', 'TOWNSENDS WARBLER', 'TREE SWALLOW', 'TRICOLORED BLACKBIRD', 'TROPICAL KINGBIRD', 'TRUMPTER SWAN', 'TURKEY VULTURE', 'TURQUOISE MOTMOT', 'UMBRELLA BIRD', 'VARIED THRUSH', 'VEERY', 'VENEZUELIAN TROUPIAL', 'VERDIN', 'VERMILION FLYCATHER', 'VICTORIA CROWNED PIGEON', 'VIOLET BACKED STARLING', 'VIOLET CUCKOO', 'VIOLET GREEN SWALLOW', 'VIOLET TURACO', 'VISAYAN HORNBILL', 'VULTURINE GUINEAFOWL', 'WALL CREAPER', 'WATTLED CURASSOW', 'WATTLED LAPWING', 'WHIMBREL', 'WHITE BREASTED WATERHEN', 'WHITE BROWED CRAKE', 'WHITE CHEEKED TURACO', 'WHITE CRESTED HORNBILL', 'WHITE EARED HUMMINGBIRD', 'WHITE NECKED RAVEN', 'WHITE TAILED TROPIC', 'WHITE THROATED BEE EATER', 'WILD TURKEY', 'WILLOW PTARMIGAN', 'WILSONS BIRD OF PARADISE', 'WOOD DUCK', 'WOOD THRUSH', 'WOODLAND KINGFISHER', 'WRENTIT', 'YELLOW BELLIED FLOWERPECKER', 'YELLOW BREASTED CHAT', 'YELLOW CACIQUE', 'YELLOW HEADED BLACKBIRD', 'ZEBRA DOVE'])"
      ]
     },
     "execution_count": 24,
     "metadata": {},
     "output_type": "execute_result"
    }
   ],
   "source": [
    "results = sess.run([output_name], {input_name: not_hot_dog_tensor_onnx})[0]\n",
    "labels[np.argmax(results)], results, labels"
   ]
  },
  {
   "cell_type": "markdown",
   "metadata": {},
   "source": [
    "**If correct, all three model versions (FastAI, PyTorch, ONNX) have the same results (with minor differences).**"
   ]
  },
  {
   "cell_type": "markdown",
   "metadata": {},
   "source": [
    "## Inference time\n",
    "\n",
    "One of the advantages of ONNX runtime - in most of the cases it's faster than it's original format. Let's see if that holds up."
   ]
  },
  {
   "cell_type": "markdown",
   "metadata": {},
   "source": [
    "### FastAI"
   ]
  },
  {
   "cell_type": "code",
   "execution_count": 25,
   "metadata": {},
   "outputs": [
    {
     "name": "stdout",
     "output_type": "stream",
     "text": [
      "CPU times: user 3 µs, sys: 1 µs, total: 4 µs\n",
      "Wall time: 5.96 µs\n"
     ]
    },
    {
     "data": {
      "text/html": [
       "\n",
       "<style>\n",
       "    /* Turns off some styling */\n",
       "    progress {\n",
       "        /* gets rid of default border in Firefox and Opera. */\n",
       "        border: none;\n",
       "        /* Needs to be in here for Safari polyfill so background images work as expected. */\n",
       "        background-size: auto;\n",
       "    }\n",
       "    progress:not([value]), progress:not([value])::-webkit-progress-bar {\n",
       "        background: repeating-linear-gradient(45deg, #7e7e7e, #7e7e7e 10px, #5c5c5c 10px, #5c5c5c 20px);\n",
       "    }\n",
       "    .progress-bar-interrupted, .progress-bar-interrupted::-webkit-progress-bar {\n",
       "        background: #F44336;\n",
       "    }\n",
       "</style>\n"
      ],
      "text/plain": [
       "<IPython.core.display.HTML object>"
      ]
     },
     "metadata": {},
     "output_type": "display_data"
    },
    {
     "data": {
      "text/html": [],
      "text/plain": [
       "<IPython.core.display.HTML object>"
      ]
     },
     "metadata": {},
     "output_type": "display_data"
    },
    {
     "data": {
      "text/plain": [
       "('COCKATOO',\n",
       " tensor(153),\n",
       " tensor([4.1982e-09, 7.5033e-07, 5.0929e-09, 1.5086e-08, 2.7239e-07, 3.0972e-09,\n",
       "         3.0564e-09, 2.1395e-09, 2.6006e-08, 2.0480e-06, 2.0302e-09, 7.2165e-05,\n",
       "         1.0100e-07, 5.6200e-10, 6.4807e-08, 4.5042e-10, 6.0963e-09, 3.6655e-08,\n",
       "         1.7121e-09, 2.8703e-08, 2.5718e-08, 6.7171e-09, 2.6483e-08, 1.2829e-07,\n",
       "         2.0626e-08, 1.0889e-09, 2.8666e-07, 2.3959e-09, 2.1662e-08, 1.7993e-10,\n",
       "         1.6995e-07, 4.9092e-08, 1.8571e-09, 2.1351e-09, 1.0439e-08, 2.6217e-10,\n",
       "         2.7309e-07, 5.9627e-08, 1.2785e-09, 7.2161e-07, 2.2780e-11, 3.2073e-09,\n",
       "         1.5691e-08, 2.3097e-09, 3.3332e-10, 1.1445e-09, 4.2474e-10, 7.1732e-10,\n",
       "         1.2535e-11, 4.4392e-09, 5.8820e-07, 1.7659e-07, 8.9970e-10, 3.6871e-07,\n",
       "         3.2198e-10, 1.5383e-04, 1.4266e-08, 2.8286e-11, 7.0295e-10, 8.3036e-09,\n",
       "         1.7798e-10, 2.1028e-07, 4.2871e-10, 1.4762e-05, 6.3007e-09, 1.2159e-09,\n",
       "         2.0997e-07, 6.0095e-09, 3.8880e-09, 9.8153e-09, 1.6129e-07, 8.2425e-11,\n",
       "         2.6071e-06, 1.1669e-09, 7.5468e-08, 1.4973e-11, 2.7721e-07, 2.9652e-06,\n",
       "         3.2640e-10, 3.0488e-08, 1.9175e-09, 1.0579e-10, 1.6150e-09, 1.6421e-09,\n",
       "         1.2058e-09, 2.4249e-09, 4.2177e-08, 7.4118e-10, 1.1864e-07, 5.0901e-09,\n",
       "         7.0833e-12, 1.6436e-09, 1.4029e-08, 3.7846e-09, 2.3554e-08, 1.4514e-07,\n",
       "         1.1361e-09, 3.1682e-08, 9.3433e-09, 2.4082e-09, 9.9837e-11, 3.2695e-09,\n",
       "         1.1876e-08, 9.9300e-10, 1.8725e-08, 3.5966e-09, 1.6549e-08, 5.3174e-09,\n",
       "         4.2848e-11, 1.2670e-09, 6.8648e-10, 1.7876e-09, 1.4263e-08, 5.1440e-10,\n",
       "         1.3607e-08, 1.8841e-06, 2.1287e-08, 5.6348e-09, 1.7163e-08, 5.2022e-09,\n",
       "         1.5597e-10, 3.4801e-09, 9.9235e-06, 1.1660e-08, 2.3789e-10, 6.2889e-06,\n",
       "         3.4853e-09, 2.0370e-08, 4.6272e-10, 2.4496e-08, 3.1060e-09, 1.4354e-07,\n",
       "         2.9188e-08, 1.0962e-08, 1.5493e-07, 1.4388e-10, 7.1832e-09, 2.2449e-08,\n",
       "         1.0168e-09, 3.6148e-07, 4.8076e-08, 2.6329e-09, 7.1996e-09, 1.3121e-08,\n",
       "         1.1449e-09, 2.5469e-09, 5.1360e-09, 1.1705e-07, 2.0958e-10, 5.6792e-10,\n",
       "         9.3239e-10, 5.7828e-07, 3.4376e-07, 9.9719e-01, 1.0582e-10, 4.1268e-10,\n",
       "         2.5707e-10, 1.2017e-09, 2.9508e-07, 8.0687e-09, 4.1025e-10, 6.5388e-09,\n",
       "         9.0752e-09, 5.1161e-10, 2.4030e-09, 6.7653e-08, 1.8825e-09, 2.2286e-07,\n",
       "         1.7714e-08, 7.7950e-09, 3.4700e-08, 5.5249e-07, 4.3644e-09, 9.8518e-08,\n",
       "         2.2281e-08, 9.7001e-09, 2.3806e-09, 1.0991e-09, 8.5943e-10, 1.5138e-09,\n",
       "         5.1627e-07, 1.6947e-07, 4.6053e-10, 5.5680e-09, 4.5660e-09, 1.8649e-07,\n",
       "         4.8654e-11, 6.8842e-09, 1.2734e-08, 8.1592e-10, 4.6774e-08, 2.3995e-10,\n",
       "         2.7564e-07, 3.4606e-09, 4.3287e-08, 6.8141e-08, 3.2310e-10, 6.0319e-09,\n",
       "         1.0239e-06, 1.2175e-08, 3.4936e-07, 4.5785e-09, 6.6795e-08, 6.2715e-09,\n",
       "         8.7768e-10, 2.0408e-09, 6.0286e-08, 2.2906e-09, 1.4573e-10, 6.1703e-09,\n",
       "         1.8103e-07, 1.0422e-07, 4.1329e-10, 1.4215e-09, 2.6673e-09, 1.6235e-07,\n",
       "         1.4824e-07, 9.1723e-10, 3.7316e-07, 2.7627e-08, 7.7284e-09, 3.2214e-09,\n",
       "         1.7461e-03, 2.0348e-09, 2.8572e-10, 4.8593e-09, 1.4525e-09, 1.8755e-09,\n",
       "         3.0272e-07, 1.2894e-08, 5.8510e-10, 9.9066e-10, 5.5763e-06, 1.4162e-09,\n",
       "         1.1105e-06, 1.6180e-09, 1.5800e-08, 1.5664e-09, 1.0616e-05, 5.6230e-08,\n",
       "         1.8792e-08, 2.2629e-09, 6.0893e-07, 1.0276e-08, 5.3705e-05, 3.0219e-07,\n",
       "         1.5831e-07, 2.9624e-08, 5.0584e-09, 2.0789e-08, 1.8046e-08, 7.9760e-09,\n",
       "         9.5591e-10, 6.0330e-08, 7.5673e-09, 6.2794e-08, 2.5399e-08, 1.1909e-08,\n",
       "         4.8526e-10, 1.6777e-08, 1.9581e-09, 3.8719e-09, 4.3736e-07, 3.4914e-07,\n",
       "         2.4675e-08, 5.2336e-08, 2.6969e-07, 4.6701e-09, 1.9980e-07, 1.4587e-07,\n",
       "         3.3602e-08, 9.0378e-09, 1.6787e-08, 4.4106e-10, 9.9127e-06, 8.2014e-10,\n",
       "         3.4144e-10, 3.2287e-09, 8.2600e-06, 1.4670e-09, 9.4920e-10, 5.6815e-09,\n",
       "         3.1228e-08, 2.3838e-08, 1.7575e-08, 3.9689e-08, 7.6826e-10, 1.2673e-08,\n",
       "         2.8551e-10, 5.7534e-08, 1.8931e-08, 1.1652e-08, 7.8833e-09, 1.0101e-06,\n",
       "         1.2986e-09, 7.7733e-09, 3.5573e-09, 3.0901e-08, 5.7778e-10, 2.5570e-11,\n",
       "         3.6045e-09, 2.9212e-09, 1.1787e-07, 3.4141e-10, 7.5946e-08, 5.9890e-10,\n",
       "         4.0570e-04, 2.1393e-09, 2.6295e-07, 1.5167e-09, 1.5989e-05, 7.5753e-07,\n",
       "         2.2205e-09, 1.1814e-08, 1.4037e-10, 3.4416e-07, 1.5470e-07, 1.6999e-09,\n",
       "         3.6836e-09, 1.2492e-07, 2.0243e-08, 5.9074e-08, 7.4339e-09, 7.3105e-08,\n",
       "         1.2542e-07, 8.0654e-09, 3.0579e-10, 3.4166e-09, 8.0055e-09, 2.0641e-08,\n",
       "         1.4186e-08, 1.8873e-08, 1.2274e-08, 1.6695e-09, 6.9766e-09, 5.8515e-09,\n",
       "         7.7036e-09, 2.1807e-08, 8.4001e-08, 5.2640e-09, 9.3541e-08, 1.2522e-09,\n",
       "         3.1494e-09, 1.3226e-08, 2.2834e-06, 9.9581e-07, 1.7592e-06, 1.8189e-08,\n",
       "         2.2173e-09, 5.7477e-07, 1.4528e-06, 6.9385e-10, 3.0240e-07, 7.7541e-10,\n",
       "         2.5875e-09, 1.6529e-08, 7.7344e-10, 9.6880e-06, 5.5425e-07, 5.0200e-08,\n",
       "         3.2565e-08, 2.5077e-08, 1.8846e-07, 2.6791e-10, 8.2464e-09, 4.7271e-09,\n",
       "         6.2461e-09, 1.5749e-10, 2.0016e-08, 7.1549e-08, 6.6939e-09, 9.3124e-08,\n",
       "         3.2039e-07, 1.7005e-09, 4.8125e-09, 1.5624e-08, 6.6276e-08, 2.2089e-07,\n",
       "         7.0015e-07, 9.3675e-09, 3.2524e-08, 6.8281e-08, 4.5024e-10, 2.7502e-08,\n",
       "         1.1989e-08, 5.4897e-08, 5.6432e-10, 7.8029e-07, 2.2958e-10, 3.6304e-07,\n",
       "         3.1757e-10, 1.0793e-06, 7.2993e-09, 2.3529e-07, 5.7086e-09, 1.0590e-07,\n",
       "         1.1656e-09, 6.1666e-11, 5.3921e-09, 1.6418e-07, 2.0682e-07, 5.4916e-07,\n",
       "         2.6964e-08, 5.9323e-11, 1.1313e-06, 2.4984e-09, 1.7680e-07, 2.2725e-10,\n",
       "         1.7934e-08, 6.6115e-08, 1.1310e-08, 3.4344e-08, 9.2909e-09, 1.4588e-09,\n",
       "         6.5951e-11, 5.1454e-08, 5.6908e-08, 7.0588e-10, 1.5878e-10, 8.4128e-10,\n",
       "         1.1282e-08, 1.5517e-08, 1.5855e-09, 2.6081e-07, 1.1288e-05, 1.0725e-09,\n",
       "         9.1321e-08, 6.0390e-07, 1.1146e-07, 4.6641e-08, 5.5106e-09, 6.6852e-10,\n",
       "         6.1206e-07, 4.6263e-08, 5.6378e-10, 2.2424e-10, 2.4992e-10, 6.9463e-08,\n",
       "         2.7077e-07, 6.7703e-10, 9.2231e-09, 2.0124e-08, 1.9102e-07, 5.7799e-11,\n",
       "         8.9382e-09, 3.8432e-07, 7.0593e-09, 7.6486e-07, 2.8699e-09, 3.3194e-10,\n",
       "         3.1144e-06, 5.8206e-10, 1.7488e-06, 3.7263e-05, 1.4749e-06, 1.2965e-04,\n",
       "         5.8392e-10, 2.6613e-08, 9.2574e-10, 1.6055e-07, 1.3300e-09, 7.8061e-11,\n",
       "         3.3891e-07, 1.0159e-09, 5.8555e-09, 1.4993e-10, 1.1188e-10, 3.3830e-08,\n",
       "         2.1537e-08, 5.0462e-10, 4.1995e-11, 4.0658e-08, 8.1158e-10, 8.6480e-08,\n",
       "         4.4165e-10, 4.2839e-08, 5.2788e-10, 5.7752e-09, 1.0073e-09, 4.3957e-10,\n",
       "         3.2037e-06, 4.1936e-08, 2.4559e-08, 4.4869e-08, 8.8776e-10, 5.5479e-08,\n",
       "         1.6248e-07, 2.4110e-08, 1.3400e-11, 2.5576e-07, 7.4930e-09, 1.4381e-07,\n",
       "         2.3162e-09, 5.6457e-08, 1.0100e-08, 2.0373e-08, 5.4310e-08, 7.9544e-09,\n",
       "         2.0443e-07, 1.0984e-08, 1.0390e-10, 3.4250e-08, 3.3466e-09, 6.0661e-07,\n",
       "         1.3285e-09, 7.0472e-10, 3.4968e-09, 1.5344e-10, 1.5384e-09, 1.2275e-08,\n",
       "         1.4071e-09, 1.9868e-08, 1.4466e-05, 1.3642e-10, 5.6327e-08, 3.7360e-05,\n",
       "         1.9943e-09, 3.1613e-10, 3.3355e-09, 5.8001e-10, 4.2229e-10, 1.1007e-09,\n",
       "         4.1854e-09, 5.2605e-08, 3.5376e-10, 7.9937e-07]))"
      ]
     },
     "execution_count": 25,
     "metadata": {},
     "output_type": "execute_result"
    }
   ],
   "source": [
    "%time\n",
    "learn.predict('test/COCKATOO/1.jpg')"
   ]
  },
  {
   "cell_type": "markdown",
   "metadata": {},
   "source": [
    "### PyTorch"
   ]
  },
  {
   "cell_type": "code",
   "execution_count": 26,
   "metadata": {},
   "outputs": [
    {
     "name": "stdout",
     "output_type": "stream",
     "text": [
      "CPU times: user 1 µs, sys: 0 ns, total: 1 µs\n",
      "Wall time: 4.05 µs\n",
      "Tensor shape:  torch.Size([1, 3, 256, 256])\n"
     ]
    },
    {
     "data": {
      "text/plain": [
       "('COCKATOO',\n",
       " array([[0.00000003, 0.00000405, 0.00000002, 0.00000007, 0.00000039,\n",
       "         0.00000001, 0.00000002, 0.00000001, 0.00000028, 0.00000324,\n",
       "         0.00000001, 0.00015638, 0.00000071, 0.        , 0.00000055,\n",
       "         0.        , 0.00000002, 0.00000009, 0.00000003, 0.00000011,\n",
       "         0.00000017, 0.00000002, 0.00000014, 0.0000005 , 0.00000018,\n",
       "         0.00000002, 0.00000156, 0.00000001, 0.00000007, 0.        ,\n",
       "         0.00000123, 0.00000032, 0.00000001, 0.00000001, 0.0000001 ,\n",
       "         0.        , 0.00000106, 0.00000069, 0.        , 0.00000255,\n",
       "         0.        , 0.00000002, 0.00000007, 0.00000002, 0.        ,\n",
       "         0.        , 0.        , 0.        , 0.        , 0.00000003,\n",
       "         0.00000247, 0.00000158, 0.00000001, 0.00000107, 0.        ,\n",
       "         0.00050981, 0.00000007, 0.        , 0.        , 0.00000002,\n",
       "         0.        , 0.00000207, 0.        , 0.00006181, 0.00000004,\n",
       "         0.        , 0.00000062, 0.00000001, 0.00000001, 0.00000002,\n",
       "         0.00000137, 0.        , 0.00001391, 0.        , 0.00000011,\n",
       "         0.        , 0.00000111, 0.00001918, 0.        , 0.00000008,\n",
       "         0.00000001, 0.        , 0.00000001, 0.00000001, 0.00000001,\n",
       "         0.00000001, 0.00000014, 0.        , 0.00000079, 0.00000004,\n",
       "         0.        , 0.00000001, 0.00000005, 0.00000002, 0.00000004,\n",
       "         0.00000112, 0.00000001, 0.00000029, 0.00000005, 0.        ,\n",
       "         0.        , 0.00000001, 0.00000006, 0.        , 0.00000007,\n",
       "         0.00000001, 0.00000006, 0.00000003, 0.        , 0.00000001,\n",
       "         0.        , 0.00000002, 0.00000014, 0.        , 0.00000009,\n",
       "         0.00000776, 0.00000007, 0.00000002, 0.00000008, 0.00000002,\n",
       "         0.        , 0.00000001, 0.0000408 , 0.00000003, 0.        ,\n",
       "         0.00000871, 0.00000001, 0.0000001 , 0.        , 0.00000009,\n",
       "         0.00000003, 0.0000003 , 0.00000014, 0.00000005, 0.00000074,\n",
       "         0.        , 0.00000003, 0.00000007, 0.00000001, 0.0000013 ,\n",
       "         0.00000022, 0.00000001, 0.00000003, 0.00000005, 0.00000001,\n",
       "         0.00000001, 0.00000003, 0.00000056, 0.        , 0.        ,\n",
       "         0.        , 0.00000207, 0.00000194, 0.99230278, 0.        ,\n",
       "         0.        , 0.        , 0.00000002, 0.00000059, 0.00000003,\n",
       "         0.        , 0.00000001, 0.00000006, 0.        , 0.00000001,\n",
       "         0.00000043, 0.00000001, 0.00000086, 0.00000011, 0.00000003,\n",
       "         0.00000028, 0.00000115, 0.00000002, 0.00000034, 0.0000001 ,\n",
       "         0.00000005, 0.00000001, 0.00000001, 0.        , 0.00000001,\n",
       "         0.00000226, 0.00000082, 0.        , 0.00000001, 0.00000001,\n",
       "         0.00000042, 0.        , 0.00000002, 0.00000016, 0.        ,\n",
       "         0.00000021, 0.        , 0.0000006 , 0.00000001, 0.00000007,\n",
       "         0.00000021, 0.        , 0.00000002, 0.00000614, 0.00000006,\n",
       "         0.00000119, 0.00000002, 0.00000009, 0.00000002, 0.        ,\n",
       "         0.00000002, 0.00000065, 0.00000002, 0.        , 0.00000002,\n",
       "         0.0000004 , 0.00000031, 0.00000001, 0.00000001, 0.00000001,\n",
       "         0.00000032, 0.00000067, 0.00000001, 0.00000222, 0.00000009,\n",
       "         0.00000003, 0.00000002, 0.00433051, 0.00000002, 0.        ,\n",
       "         0.00000002, 0.        , 0.00000001, 0.00000049, 0.00000003,\n",
       "         0.        , 0.00000001, 0.00001732, 0.        , 0.00000322,\n",
       "         0.00000001, 0.00000006, 0.00000001, 0.00001796, 0.00000013,\n",
       "         0.00000005, 0.00000001, 0.00000206, 0.00000004, 0.00011098,\n",
       "         0.0000012 , 0.00000051, 0.00000008, 0.00000007, 0.00000009,\n",
       "         0.00000016, 0.00000002, 0.00000002, 0.00000022, 0.00000002,\n",
       "         0.00000017, 0.00000011, 0.00000003, 0.00000001, 0.00000015,\n",
       "         0.00000001, 0.00000002, 0.00000102, 0.00000095, 0.00000007,\n",
       "         0.00000012, 0.00000057, 0.00000002, 0.000001  , 0.00000048,\n",
       "         0.00000013, 0.00000008, 0.00000015, 0.        , 0.00001733,\n",
       "         0.00000001, 0.        , 0.00000001, 0.00002393, 0.00000001,\n",
       "         0.00000001, 0.00000004, 0.00000009, 0.00000008, 0.00000006,\n",
       "         0.00000004, 0.        , 0.00000007, 0.        , 0.00000042,\n",
       "         0.00000014, 0.00000003, 0.00000003, 0.00000378, 0.00000001,\n",
       "         0.00000002, 0.00000001, 0.00000014, 0.        , 0.        ,\n",
       "         0.00000001, 0.00000002, 0.00000031, 0.00000001, 0.00000046,\n",
       "         0.        , 0.00129128, 0.00000001, 0.0000011 , 0.        ,\n",
       "         0.00012408, 0.00000131, 0.00000002, 0.00000007, 0.        ,\n",
       "         0.00000145, 0.00000038, 0.00000001, 0.00000001, 0.00000038,\n",
       "         0.00000017, 0.00000013, 0.00000003, 0.00000027, 0.00000053,\n",
       "         0.00000005, 0.        , 0.00000003, 0.00000002, 0.00000004,\n",
       "         0.00000011, 0.00000009, 0.00000012, 0.00000001, 0.00000002,\n",
       "         0.00000001, 0.00000003, 0.00000013, 0.00000034, 0.00000002,\n",
       "         0.00000015, 0.        , 0.00000001, 0.00000006, 0.00000361,\n",
       "         0.00000228, 0.00000542, 0.00000007, 0.00000001, 0.00000079,\n",
       "         0.00000206, 0.00000001, 0.00000043, 0.        , 0.00000003,\n",
       "         0.00000006, 0.00000001, 0.00001929, 0.00000123, 0.00000017,\n",
       "         0.00000014, 0.00000006, 0.00000062, 0.        , 0.00000005,\n",
       "         0.00000001, 0.00000002, 0.        , 0.00000006, 0.00000013,\n",
       "         0.00000005, 0.00000042, 0.00000053, 0.00000001, 0.00000001,\n",
       "         0.00000004, 0.00000022, 0.0000003 , 0.0000042 , 0.00000004,\n",
       "         0.00000007, 0.00000015, 0.        , 0.00000016, 0.00000004,\n",
       "         0.00000021, 0.00000001, 0.00000174, 0.        , 0.00000173,\n",
       "         0.        , 0.00000161, 0.00000004, 0.00000089, 0.00000002,\n",
       "         0.00000076, 0.        , 0.        , 0.00000003, 0.00000091,\n",
       "         0.00000055, 0.00000077, 0.00000009, 0.        , 0.0000027 ,\n",
       "         0.00000001, 0.00000032, 0.        , 0.00000008, 0.00000021,\n",
       "         0.00000003, 0.00000009, 0.00000006, 0.00000001, 0.        ,\n",
       "         0.00000015, 0.00000007, 0.        , 0.        , 0.        ,\n",
       "         0.00000004, 0.0000001 , 0.00000001, 0.00000145, 0.00003212,\n",
       "         0.        , 0.0000006 , 0.00000106, 0.00000046, 0.00000028,\n",
       "         0.00000004, 0.00000001, 0.00000761, 0.00000018, 0.        ,\n",
       "         0.        , 0.        , 0.00000031, 0.00000064, 0.        ,\n",
       "         0.00000004, 0.00000039, 0.00000023, 0.        , 0.00000009,\n",
       "         0.0000009 , 0.00000006, 0.00000166, 0.00000002, 0.        ,\n",
       "         0.00002583, 0.        , 0.00001639, 0.00016035, 0.00001267,\n",
       "         0.00044347, 0.        , 0.00000006, 0.00000001, 0.00000078,\n",
       "         0.        , 0.        , 0.00000111, 0.        , 0.00000002,\n",
       "         0.        , 0.        , 0.00000021, 0.00000009, 0.        ,\n",
       "         0.        , 0.0000002 , 0.        , 0.00000015, 0.        ,\n",
       "         0.00000017, 0.        , 0.00000002, 0.00000001, 0.        ,\n",
       "         0.00001028, 0.00000006, 0.00000006, 0.00000017, 0.00000001,\n",
       "         0.00000034, 0.00000088, 0.00000004, 0.        , 0.00000116,\n",
       "         0.00000003, 0.00000041, 0.00000001, 0.00000042, 0.00000006,\n",
       "         0.00000024, 0.00000029, 0.00000005, 0.00000043, 0.00000003,\n",
       "         0.        , 0.00000015, 0.00000002, 0.00000315, 0.00000001,\n",
       "         0.        , 0.00000002, 0.        , 0.00000001, 0.00000007,\n",
       "         0.00000001, 0.00000008, 0.00002739, 0.        , 0.00000016,\n",
       "         0.00004323, 0.00000001, 0.        , 0.00000001, 0.        ,\n",
       "         0.        , 0.        , 0.00000002, 0.00000018, 0.        ,\n",
       "         0.00000197]]))"
      ]
     },
     "execution_count": 26,
     "metadata": {},
     "output_type": "execute_result"
    }
   ],
   "source": [
    "%time\n",
    "\n",
    "hot_dog_tensor = image_transform('test/COCKATOO/1.jpg', 256)\n",
    "\n",
    "with torch.no_grad():\n",
    "    results = final_model(hot_dog_tensor)\n",
    "labels[np.argmax(results.detach().numpy())], results.detach().numpy().astype(float)"
   ]
  },
  {
   "cell_type": "markdown",
   "metadata": {},
   "source": [
    "### ONNX"
   ]
  },
  {
   "cell_type": "code",
   "execution_count": 31,
   "metadata": {},
   "outputs": [
    {
     "name": "stdout",
     "output_type": "stream",
     "text": [
      "CPU times: user 3 µs, sys: 1 µs, total: 4 µs\n",
      "Wall time: 15.3 µs\n"
     ]
    },
    {
     "data": {
      "text/plain": [
       "('hot_dog',\n",
       " array([[0.9986059 , 0.00139411]], dtype=float32),\n",
       " ['hot_dog', 'not_hot_dog'])"
      ]
     },
     "execution_count": 31,
     "metadata": {},
     "output_type": "execute_result"
    }
   ],
   "source": [
    "%time\n",
    "\n",
    "hot_dog_tensor_onnx = image_transform_onnx('test_images/hot_dog_114.jpg', 256)\n",
    "results = sess.run([output_name], {input_name: hot_dog_tensor_onnx})[0]\n",
    "labels[np.argmax(results)], results, labels"
   ]
  },
  {
   "cell_type": "markdown",
   "metadata": {},
   "source": [
    "No real difference between the three. "
   ]
  },
  {
   "cell_type": "markdown",
   "metadata": {},
   "source": [
    "## Gotchas\n",
    "\n",
    "It's really important to use the expected input with ONNX. Let's check the following scenario when using a 1x3x224x224 tensor with on a model with a defined input of 1x3x256x256. I've been struggling to figure out the correct ONNX settings. I hope this will help to some of you.\n",
    "\n",
    "Let's see what happens"
   ]
  },
  {
   "cell_type": "code",
   "execution_count": 33,
   "metadata": {},
   "outputs": [],
   "source": [
    "hot_dog_tensor_onnx = image_transform_onnx('test_images/hot_dog_114.jpg', 224)\n",
    "not_hot_dog_tensor_onnx = image_transform_onnx('test_images/not_hot_dog_160.jpg', 224)"
   ]
  },
  {
   "cell_type": "code",
   "execution_count": 35,
   "metadata": {},
   "outputs": [
    {
     "ename": "InvalidArgument",
     "evalue": "[ONNXRuntimeError] : 2 : INVALID_ARGUMENT : Got invalid dimensions for input: image_1_3_256_256 for the following indices\n index: 2 Got: 224 Expected: 256\n index: 3 Got: 224 Expected: 256\n Please fix either the inputs or the model.",
     "output_type": "error",
     "traceback": [
      "\u001b[0;31m---------------------------------------------------------------------------\u001b[0m",
      "\u001b[0;31mInvalidArgument\u001b[0m                           Traceback (most recent call last)",
      "\u001b[0;32m/tmp/ipykernel_7374/1442065928.py\u001b[0m in \u001b[0;36m<module>\u001b[0;34m\u001b[0m\n\u001b[1;32m      1\u001b[0m \u001b[0;31m# This will throw an error becuase of incorrect input size.\u001b[0m\u001b[0;34m\u001b[0m\u001b[0;34m\u001b[0m\u001b[0;34m\u001b[0m\u001b[0m\n\u001b[1;32m      2\u001b[0m \u001b[0;34m\u001b[0m\u001b[0m\n\u001b[0;32m----> 3\u001b[0;31m \u001b[0mresults\u001b[0m \u001b[0;34m=\u001b[0m \u001b[0msess\u001b[0m\u001b[0;34m.\u001b[0m\u001b[0mrun\u001b[0m\u001b[0;34m(\u001b[0m\u001b[0;34m[\u001b[0m\u001b[0moutput_name\u001b[0m\u001b[0;34m]\u001b[0m\u001b[0;34m,\u001b[0m \u001b[0;34m{\u001b[0m\u001b[0minput_name\u001b[0m\u001b[0;34m:\u001b[0m \u001b[0mhot_dog_tensor_onnx\u001b[0m\u001b[0;34m}\u001b[0m\u001b[0;34m)\u001b[0m\u001b[0;34m[\u001b[0m\u001b[0;36m0\u001b[0m\u001b[0;34m]\u001b[0m\u001b[0;34m\u001b[0m\u001b[0;34m\u001b[0m\u001b[0m\n\u001b[0m\u001b[1;32m      4\u001b[0m \u001b[0mlabels\u001b[0m\u001b[0;34m[\u001b[0m\u001b[0mnp\u001b[0m\u001b[0;34m.\u001b[0m\u001b[0margmax\u001b[0m\u001b[0;34m(\u001b[0m\u001b[0mresults\u001b[0m\u001b[0;34m)\u001b[0m\u001b[0;34m]\u001b[0m\u001b[0;34m,\u001b[0m \u001b[0mresults\u001b[0m\u001b[0;34m,\u001b[0m \u001b[0mlabels\u001b[0m\u001b[0;34m\u001b[0m\u001b[0;34m\u001b[0m\u001b[0m\n",
      "\u001b[0;32m/workspaces/fastai-onnx/.venv/lib/python3.8/site-packages/onnxruntime/capi/onnxruntime_inference_collection.py\u001b[0m in \u001b[0;36mrun\u001b[0;34m(self, output_names, input_feed, run_options)\u001b[0m\n\u001b[1;32m    186\u001b[0m             \u001b[0moutput_names\u001b[0m \u001b[0;34m=\u001b[0m \u001b[0;34m[\u001b[0m\u001b[0moutput\u001b[0m\u001b[0;34m.\u001b[0m\u001b[0mname\u001b[0m \u001b[0;32mfor\u001b[0m \u001b[0moutput\u001b[0m \u001b[0;32min\u001b[0m \u001b[0mself\u001b[0m\u001b[0;34m.\u001b[0m\u001b[0m_outputs_meta\u001b[0m\u001b[0;34m]\u001b[0m\u001b[0;34m\u001b[0m\u001b[0;34m\u001b[0m\u001b[0m\n\u001b[1;32m    187\u001b[0m         \u001b[0;32mtry\u001b[0m\u001b[0;34m:\u001b[0m\u001b[0;34m\u001b[0m\u001b[0;34m\u001b[0m\u001b[0m\n\u001b[0;32m--> 188\u001b[0;31m             \u001b[0;32mreturn\u001b[0m \u001b[0mself\u001b[0m\u001b[0;34m.\u001b[0m\u001b[0m_sess\u001b[0m\u001b[0;34m.\u001b[0m\u001b[0mrun\u001b[0m\u001b[0;34m(\u001b[0m\u001b[0moutput_names\u001b[0m\u001b[0;34m,\u001b[0m \u001b[0minput_feed\u001b[0m\u001b[0;34m,\u001b[0m \u001b[0mrun_options\u001b[0m\u001b[0;34m)\u001b[0m\u001b[0;34m\u001b[0m\u001b[0;34m\u001b[0m\u001b[0m\n\u001b[0m\u001b[1;32m    189\u001b[0m         \u001b[0;32mexcept\u001b[0m \u001b[0mC\u001b[0m\u001b[0;34m.\u001b[0m\u001b[0mEPFail\u001b[0m \u001b[0;32mas\u001b[0m \u001b[0merr\u001b[0m\u001b[0;34m:\u001b[0m\u001b[0;34m\u001b[0m\u001b[0;34m\u001b[0m\u001b[0m\n\u001b[1;32m    190\u001b[0m             \u001b[0;32mif\u001b[0m \u001b[0mself\u001b[0m\u001b[0;34m.\u001b[0m\u001b[0m_enable_fallback\u001b[0m\u001b[0;34m:\u001b[0m\u001b[0;34m\u001b[0m\u001b[0;34m\u001b[0m\u001b[0m\n",
      "\u001b[0;31mInvalidArgument\u001b[0m: [ONNXRuntimeError] : 2 : INVALID_ARGUMENT : Got invalid dimensions for input: image_1_3_256_256 for the following indices\n index: 2 Got: 224 Expected: 256\n index: 3 Got: 224 Expected: 256\n Please fix either the inputs or the model."
     ]
    }
   ],
   "source": [
    "# This will throw an error becuase of incorrect input size.\n",
    "\n",
    "results = sess.run([output_name], {input_name: hot_dog_tensor_onnx})[0]\n",
    "labels[np.argmax(results)], results, labels"
   ]
  },
  {
   "cell_type": "markdown",
   "metadata": {},
   "source": [
    "## How to Debug\n",
    "\n",
    "To check the inputs of a model you can use a tool like Netron to visualize it: https://netron.app. Desktop version available here: https://github.com/lutzroeder/netron\n",
    "\n",
    "OR you can access the expected dimension by the following line:\n"
   ]
  },
  {
   "cell_type": "code",
   "execution_count": 36,
   "metadata": {},
   "outputs": [
    {
     "data": {
      "text/plain": [
       "[1, 3, 256, 256]"
      ]
     },
     "execution_count": 36,
     "metadata": {},
     "output_type": "execute_result"
    }
   ],
   "source": [
    "# shows the required model input\n",
    "sess.get_inputs()[0].shape"
   ]
  },
  {
   "cell_type": "markdown",
   "metadata": {},
   "source": [
    "## You got your own ONNX model."
   ]
  }
 ],
 "metadata": {
  "interpreter": {
   "hash": "26d6e39ac80f9a4b84ea770be2b53d2f114598c35a5ad44b66ba97bd31710aa3"
  },
  "kernelspec": {
   "display_name": "Python 3 (ipykernel)",
   "language": "python",
   "name": "python3"
  },
  "language_info": {
   "codemirror_mode": {
    "name": "ipython",
    "version": 3
   },
   "file_extension": ".py",
   "mimetype": "text/x-python",
   "name": "python",
   "nbconvert_exporter": "python",
   "pygments_lexer": "ipython3",
   "version": "3.9.16"
  }
 },
 "nbformat": 4,
 "nbformat_minor": 4
}
